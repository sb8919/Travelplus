{
  "cells": [
    {
      "cell_type": "markdown",
      "metadata": {
        "id": "view-in-github",
        "colab_type": "text"
      },
      "source": [
        "<a href=\"https://colab.research.google.com/github/sb8919/Travelplus/blob/main/DL_model/BERT_%ED%83%9C%EA%B7%B8_200%EA%B0%9C%EC%94%A9.ipynb\" target=\"_parent\"><img src=\"https://colab.research.google.com/assets/colab-badge.svg\" alt=\"Open In Colab\"/></a>"
      ]
    },
    {
      "cell_type": "code",
      "execution_count": 17,
      "metadata": {
        "colab": {
          "base_uri": "https://localhost:8080/"
        },
        "id": "tLhI8PakUuAv",
        "outputId": "d2879946-410a-4f7e-e5cd-a7531768bbab"
      },
      "outputs": [
        {
          "output_type": "stream",
          "name": "stdout",
          "text": [
            "Looking in indexes: https://pypi.org/simple, https://us-python.pkg.dev/colab-wheels/public/simple/\n",
            "Requirement already satisfied: transformers in /usr/local/lib/python3.10/dist-packages (4.29.2)\n",
            "Requirement already satisfied: filelock in /usr/local/lib/python3.10/dist-packages (from transformers) (3.12.0)\n",
            "Requirement already satisfied: huggingface-hub<1.0,>=0.14.1 in /usr/local/lib/python3.10/dist-packages (from transformers) (0.14.1)\n",
            "Requirement already satisfied: numpy>=1.17 in /usr/local/lib/python3.10/dist-packages (from transformers) (1.22.4)\n",
            "Requirement already satisfied: packaging>=20.0 in /usr/local/lib/python3.10/dist-packages (from transformers) (23.1)\n",
            "Requirement already satisfied: pyyaml>=5.1 in /usr/local/lib/python3.10/dist-packages (from transformers) (6.0)\n",
            "Requirement already satisfied: regex!=2019.12.17 in /usr/local/lib/python3.10/dist-packages (from transformers) (2022.10.31)\n",
            "Requirement already satisfied: requests in /usr/local/lib/python3.10/dist-packages (from transformers) (2.27.1)\n",
            "Requirement already satisfied: tokenizers!=0.11.3,<0.14,>=0.11.1 in /usr/local/lib/python3.10/dist-packages (from transformers) (0.13.3)\n",
            "Requirement already satisfied: tqdm>=4.27 in /usr/local/lib/python3.10/dist-packages (from transformers) (4.65.0)\n",
            "Requirement already satisfied: fsspec in /usr/local/lib/python3.10/dist-packages (from huggingface-hub<1.0,>=0.14.1->transformers) (2023.4.0)\n",
            "Requirement already satisfied: typing-extensions>=3.7.4.3 in /usr/local/lib/python3.10/dist-packages (from huggingface-hub<1.0,>=0.14.1->transformers) (4.5.0)\n",
            "Requirement already satisfied: urllib3<1.27,>=1.21.1 in /usr/local/lib/python3.10/dist-packages (from requests->transformers) (1.26.15)\n",
            "Requirement already satisfied: certifi>=2017.4.17 in /usr/local/lib/python3.10/dist-packages (from requests->transformers) (2022.12.7)\n",
            "Requirement already satisfied: charset-normalizer~=2.0.0 in /usr/local/lib/python3.10/dist-packages (from requests->transformers) (2.0.12)\n",
            "Requirement already satisfied: idna<4,>=2.5 in /usr/local/lib/python3.10/dist-packages (from requests->transformers) (3.4)\n"
          ]
        }
      ],
      "source": [
        "# 패키지 다운로드\n",
        "!pip install transformers"
      ]
    },
    {
      "cell_type": "code",
      "execution_count": 20,
      "metadata": {
        "id": "0oEPeeskUxYM"
      },
      "outputs": [],
      "source": [
        "# 주요 패키지 불러오기\n",
        "import tensorflow as tf\n",
        "import torch\n",
        "\n",
        "from transformers import BertTokenizer\n",
        "from transformers import BertForSequenceClassification, AdamW, BertConfig\n",
        "from transformers import get_linear_schedule_with_warmup\n",
        "from torch.utils.data import TensorDataset, DataLoader, RandomSampler, SequentialSampler\n",
        "from keras.utils import pad_sequences\n",
        "from sklearn.model_selection import train_test_split\n",
        "\n",
        "import pandas as pd\n",
        "import numpy as np\n",
        "import random\n",
        "import time\n",
        "import datetime"
      ]
    },
    {
      "cell_type": "code",
      "execution_count": 21,
      "metadata": {
        "colab": {
          "base_uri": "https://localhost:8080/"
        },
        "id": "8WseIlKaU59C",
        "outputId": "813db046-fe9e-4ba0-ed6c-60cfe38587f6"
      },
      "outputs": [
        {
          "output_type": "stream",
          "name": "stdout",
          "text": [
            "1\n",
            "Tesla T4\n"
          ]
        }
      ],
      "source": [
        "# GPU 확인\n",
        "n_devices = torch.cuda.device_count()\n",
        "print(n_devices)\n",
        "\n",
        "for i in range(n_devices):\n",
        "    print(torch.cuda.get_device_name(i))"
      ]
    },
    {
      "cell_type": "markdown",
      "metadata": {
        "id": "cY6P4PVIWXv9"
      },
      "source": [
        "-------------"
      ]
    },
    {
      "cell_type": "code",
      "execution_count": 22,
      "metadata": {
        "colab": {
          "base_uri": "https://localhost:8080/"
        },
        "id": "dEGi2pIBCKGW",
        "outputId": "d9c4b788-24a5-4db3-aaec-4e998a64c9ae"
      },
      "outputs": [
        {
          "output_type": "stream",
          "name": "stdout",
          "text": [
            "Drive already mounted at /content/drive; to attempt to forcibly remount, call drive.mount(\"/content/drive\", force_remount=True).\n"
          ]
        }
      ],
      "source": [
        "#구글드라이브 연동\n",
        "from google.colab import drive\n",
        "drive.mount('/content/drive')"
      ]
    },
    {
      "cell_type": "code",
      "execution_count": 23,
      "metadata": {
        "id": "-thyDni2aH9O"
      },
      "outputs": [],
      "source": [
        "# 라벨링 파일 데이터 프레임 형태로 가져오기\n",
        "import pandas as pd\n",
        "df = pd.read_excel('/content/drive/MyDrive/labeling_data_0521.xlsx')"
      ]
    },
    {
      "cell_type": "code",
      "execution_count": 24,
      "metadata": {
        "id": "r5HpT9toRv8k"
      },
      "outputs": [],
      "source": [
        "# 인스타그램 본문 내용에서 특수문자 공백으로 교환\n",
        "df[\"sentences\"] = df[\"sentences\"].str.replace(pat=r'[^\\w]', repl=r' ', regex=True)"
      ]
    },
    {
      "cell_type": "code",
      "execution_count": 25,
      "metadata": {
        "id": "7JsR0sdeRv1E"
      },
      "outputs": [],
      "source": [
        "# 인스타그램 태그 내용에서 특수문자 공백으로 교환\n",
        "df[\"tags\"] = df[\"tags\"].str.replace(pat=r'[^\\w]', repl=r' ', regex=True)"
      ]
    },
    {
      "cell_type": "code",
      "execution_count": 26,
      "metadata": {
        "colab": {
          "base_uri": "https://localhost:8080/",
          "height": 362
        },
        "id": "hbJtrEgeacmJ",
        "outputId": "b437840d-c523-49d6-8215-beeef0544ebb"
      },
      "outputs": [
        {
          "output_type": "execute_result",
          "data": {
            "text/plain": [
              "      Unnamed: 0                                          sentences  \\\n",
              "4583        4583   영등포 타임스퀘어 데이트 핫플 모음집  맛집부터 카페  실내동물원  공방까지 다 ...   \n",
              "6729        6729   _____ 배말칼국수김밥 통영 신선한 식재료라 그런지 몸보신 하는 기분            \n",
              "2466        2466  겨울은 겨울이구나추위때문에 손이 시려워 꽁  ㅋ감악산 출렁다리 갔다가 카페에서 따뜻...   \n",
              "1064        1064                둘이먹다 하나가 없어져도 모를 맛맛으로 승부하는 진짜 맛있는집    \n",
              "5314        5314  그냥 먹어도 맛있는 갈비 김치찜  맛은 물론 서비스까지만족시켜 드릴게요 부드러운 식...   \n",
              "3120        3120  농기센을 우리집 드나들듯이 ㅋㅋ일주일에 한번은 가는듯  갈때마다 새로운 꽃과 식물 ...   \n",
              "1880        1880                                              함평에도    \n",
              "3367        3367   전남국제문화교류센터 의  문화룸 이 새단장 되었어요 주된 활동은 1 서로배우는소사...   \n",
              "889          889                              남원 여행중에 먹은 음식 남원이조갈비    \n",
              "5443        5443                           혼술하기 좋은 분위기로 꾸며진 대전 유성구    \n",
              "\n",
              "                                                   tags     place  label  \n",
              "4583           영등포가볼만한곳   영등포핫플   타임스퀘어   영등포역   영등포데이트       NaN    3.0  \n",
              "6729   통영서피랑맛집   서피랑맛집   통영죽림맛집   죽림맛집   통영가볼만한곳   통...       NaN    1.0  \n",
              "2466   파주출렁다리   파주여행코스   파주겨울여행   감악산출렁다리   글로스터영웅의다...  감악산 출렁다리    1.0  \n",
              "1064   먹골갈비직접   아산맛집   아산스파비스맛집   영인산맛집   피나클랜드맛집   ...       NaN    8.0  \n",
              "5314   옛촌매운갈비찜   송파맛집   방이동맛집   방이맛집   방이먹자골목맛집   잠실...       NaN    1.0  \n",
              "3120                  안동놀러갈만한곳   농업기술센터   아이들이좋아해   집에서       NaN    2.0  \n",
              "1880   첫눈이   함평한옥마을의첫눈넘   윤슬한옥의겨울   윤슬한옥겨울풍경넘   눈구경 ...       NaN    7.0  \n",
              "3367   광양영어회화   광양맘   광양영어과외   광양자녀교육   광양문화생활   광양문...   전라남도 광양    7.0  \n",
              "889    Korean   남원여행   전북여행   국내여행   엄마랑여행   남원켄싱턴리조...       NaN    1.0  \n",
              "5443   오늘한잔오뗑   훈제오리구이   왕계란말이   오뎅꼬치   유성오뎅바   구암동오...       NaN    8.0  "
            ],
            "text/html": [
              "\n",
              "  <div id=\"df-eaee1790-520c-45e1-8640-147ebc6b5611\">\n",
              "    <div class=\"colab-df-container\">\n",
              "      <div>\n",
              "<style scoped>\n",
              "    .dataframe tbody tr th:only-of-type {\n",
              "        vertical-align: middle;\n",
              "    }\n",
              "\n",
              "    .dataframe tbody tr th {\n",
              "        vertical-align: top;\n",
              "    }\n",
              "\n",
              "    .dataframe thead th {\n",
              "        text-align: right;\n",
              "    }\n",
              "</style>\n",
              "<table border=\"1\" class=\"dataframe\">\n",
              "  <thead>\n",
              "    <tr style=\"text-align: right;\">\n",
              "      <th></th>\n",
              "      <th>Unnamed: 0</th>\n",
              "      <th>sentences</th>\n",
              "      <th>tags</th>\n",
              "      <th>place</th>\n",
              "      <th>label</th>\n",
              "    </tr>\n",
              "  </thead>\n",
              "  <tbody>\n",
              "    <tr>\n",
              "      <th>4583</th>\n",
              "      <td>4583</td>\n",
              "      <td>영등포 타임스퀘어 데이트 핫플 모음집  맛집부터 카페  실내동물원  공방까지 다 ...</td>\n",
              "      <td>영등포가볼만한곳   영등포핫플   타임스퀘어   영등포역   영등포데이트</td>\n",
              "      <td>NaN</td>\n",
              "      <td>3.0</td>\n",
              "    </tr>\n",
              "    <tr>\n",
              "      <th>6729</th>\n",
              "      <td>6729</td>\n",
              "      <td>_____ 배말칼국수김밥 통영 신선한 식재료라 그런지 몸보신 하는 기분</td>\n",
              "      <td>통영서피랑맛집   서피랑맛집   통영죽림맛집   죽림맛집   통영가볼만한곳   통...</td>\n",
              "      <td>NaN</td>\n",
              "      <td>1.0</td>\n",
              "    </tr>\n",
              "    <tr>\n",
              "      <th>2466</th>\n",
              "      <td>2466</td>\n",
              "      <td>겨울은 겨울이구나추위때문에 손이 시려워 꽁  ㅋ감악산 출렁다리 갔다가 카페에서 따뜻...</td>\n",
              "      <td>파주출렁다리   파주여행코스   파주겨울여행   감악산출렁다리   글로스터영웅의다...</td>\n",
              "      <td>감악산 출렁다리</td>\n",
              "      <td>1.0</td>\n",
              "    </tr>\n",
              "    <tr>\n",
              "      <th>1064</th>\n",
              "      <td>1064</td>\n",
              "      <td>둘이먹다 하나가 없어져도 모를 맛맛으로 승부하는 진짜 맛있는집</td>\n",
              "      <td>먹골갈비직접   아산맛집   아산스파비스맛집   영인산맛집   피나클랜드맛집   ...</td>\n",
              "      <td>NaN</td>\n",
              "      <td>8.0</td>\n",
              "    </tr>\n",
              "    <tr>\n",
              "      <th>5314</th>\n",
              "      <td>5314</td>\n",
              "      <td>그냥 먹어도 맛있는 갈비 김치찜  맛은 물론 서비스까지만족시켜 드릴게요 부드러운 식...</td>\n",
              "      <td>옛촌매운갈비찜   송파맛집   방이동맛집   방이맛집   방이먹자골목맛집   잠실...</td>\n",
              "      <td>NaN</td>\n",
              "      <td>1.0</td>\n",
              "    </tr>\n",
              "    <tr>\n",
              "      <th>3120</th>\n",
              "      <td>3120</td>\n",
              "      <td>농기센을 우리집 드나들듯이 ㅋㅋ일주일에 한번은 가는듯  갈때마다 새로운 꽃과 식물 ...</td>\n",
              "      <td>안동놀러갈만한곳   농업기술센터   아이들이좋아해   집에서</td>\n",
              "      <td>NaN</td>\n",
              "      <td>2.0</td>\n",
              "    </tr>\n",
              "    <tr>\n",
              "      <th>1880</th>\n",
              "      <td>1880</td>\n",
              "      <td>함평에도</td>\n",
              "      <td>첫눈이   함평한옥마을의첫눈넘   윤슬한옥의겨울   윤슬한옥겨울풍경넘   눈구경 ...</td>\n",
              "      <td>NaN</td>\n",
              "      <td>7.0</td>\n",
              "    </tr>\n",
              "    <tr>\n",
              "      <th>3367</th>\n",
              "      <td>3367</td>\n",
              "      <td>전남국제문화교류센터 의  문화룸 이 새단장 되었어요 주된 활동은 1 서로배우는소사...</td>\n",
              "      <td>광양영어회화   광양맘   광양영어과외   광양자녀교육   광양문화생활   광양문...</td>\n",
              "      <td>전라남도 광양</td>\n",
              "      <td>7.0</td>\n",
              "    </tr>\n",
              "    <tr>\n",
              "      <th>889</th>\n",
              "      <td>889</td>\n",
              "      <td>남원 여행중에 먹은 음식 남원이조갈비</td>\n",
              "      <td>Korean   남원여행   전북여행   국내여행   엄마랑여행   남원켄싱턴리조...</td>\n",
              "      <td>NaN</td>\n",
              "      <td>1.0</td>\n",
              "    </tr>\n",
              "    <tr>\n",
              "      <th>5443</th>\n",
              "      <td>5443</td>\n",
              "      <td>혼술하기 좋은 분위기로 꾸며진 대전 유성구</td>\n",
              "      <td>오늘한잔오뗑   훈제오리구이   왕계란말이   오뎅꼬치   유성오뎅바   구암동오...</td>\n",
              "      <td>NaN</td>\n",
              "      <td>8.0</td>\n",
              "    </tr>\n",
              "  </tbody>\n",
              "</table>\n",
              "</div>\n",
              "      <button class=\"colab-df-convert\" onclick=\"convertToInteractive('df-eaee1790-520c-45e1-8640-147ebc6b5611')\"\n",
              "              title=\"Convert this dataframe to an interactive table.\"\n",
              "              style=\"display:none;\">\n",
              "        \n",
              "  <svg xmlns=\"http://www.w3.org/2000/svg\" height=\"24px\"viewBox=\"0 0 24 24\"\n",
              "       width=\"24px\">\n",
              "    <path d=\"M0 0h24v24H0V0z\" fill=\"none\"/>\n",
              "    <path d=\"M18.56 5.44l.94 2.06.94-2.06 2.06-.94-2.06-.94-.94-2.06-.94 2.06-2.06.94zm-11 1L8.5 8.5l.94-2.06 2.06-.94-2.06-.94L8.5 2.5l-.94 2.06-2.06.94zm10 10l.94 2.06.94-2.06 2.06-.94-2.06-.94-.94-2.06-.94 2.06-2.06.94z\"/><path d=\"M17.41 7.96l-1.37-1.37c-.4-.4-.92-.59-1.43-.59-.52 0-1.04.2-1.43.59L10.3 9.45l-7.72 7.72c-.78.78-.78 2.05 0 2.83L4 21.41c.39.39.9.59 1.41.59.51 0 1.02-.2 1.41-.59l7.78-7.78 2.81-2.81c.8-.78.8-2.07 0-2.86zM5.41 20L4 18.59l7.72-7.72 1.47 1.35L5.41 20z\"/>\n",
              "  </svg>\n",
              "      </button>\n",
              "      \n",
              "  <style>\n",
              "    .colab-df-container {\n",
              "      display:flex;\n",
              "      flex-wrap:wrap;\n",
              "      gap: 12px;\n",
              "    }\n",
              "\n",
              "    .colab-df-convert {\n",
              "      background-color: #E8F0FE;\n",
              "      border: none;\n",
              "      border-radius: 50%;\n",
              "      cursor: pointer;\n",
              "      display: none;\n",
              "      fill: #1967D2;\n",
              "      height: 32px;\n",
              "      padding: 0 0 0 0;\n",
              "      width: 32px;\n",
              "    }\n",
              "\n",
              "    .colab-df-convert:hover {\n",
              "      background-color: #E2EBFA;\n",
              "      box-shadow: 0px 1px 2px rgba(60, 64, 67, 0.3), 0px 1px 3px 1px rgba(60, 64, 67, 0.15);\n",
              "      fill: #174EA6;\n",
              "    }\n",
              "\n",
              "    [theme=dark] .colab-df-convert {\n",
              "      background-color: #3B4455;\n",
              "      fill: #D2E3FC;\n",
              "    }\n",
              "\n",
              "    [theme=dark] .colab-df-convert:hover {\n",
              "      background-color: #434B5C;\n",
              "      box-shadow: 0px 1px 3px 1px rgba(0, 0, 0, 0.15);\n",
              "      filter: drop-shadow(0px 1px 2px rgba(0, 0, 0, 0.3));\n",
              "      fill: #FFFFFF;\n",
              "    }\n",
              "  </style>\n",
              "\n",
              "      <script>\n",
              "        const buttonEl =\n",
              "          document.querySelector('#df-eaee1790-520c-45e1-8640-147ebc6b5611 button.colab-df-convert');\n",
              "        buttonEl.style.display =\n",
              "          google.colab.kernel.accessAllowed ? 'block' : 'none';\n",
              "\n",
              "        async function convertToInteractive(key) {\n",
              "          const element = document.querySelector('#df-eaee1790-520c-45e1-8640-147ebc6b5611');\n",
              "          const dataTable =\n",
              "            await google.colab.kernel.invokeFunction('convertToInteractive',\n",
              "                                                     [key], {});\n",
              "          if (!dataTable) return;\n",
              "\n",
              "          const docLinkHtml = 'Like what you see? Visit the ' +\n",
              "            '<a target=\"_blank\" href=https://colab.research.google.com/notebooks/data_table.ipynb>data table notebook</a>'\n",
              "            + ' to learn more about interactive tables.';\n",
              "          element.innerHTML = '';\n",
              "          dataTable['output_type'] = 'display_data';\n",
              "          await google.colab.output.renderOutput(dataTable, element);\n",
              "          const docLink = document.createElement('div');\n",
              "          docLink.innerHTML = docLinkHtml;\n",
              "          element.appendChild(docLink);\n",
              "        }\n",
              "      </script>\n",
              "    </div>\n",
              "  </div>\n",
              "  "
            ]
          },
          "metadata": {},
          "execution_count": 26
        }
      ],
      "source": [
        "# 10개의 데이터 랜덤으로 출력\n",
        "df.sample(n=10)"
      ]
    },
    {
      "cell_type": "code",
      "execution_count": 31,
      "metadata": {
        "id": "e_SKQKspah67"
      },
      "outputs": [],
      "source": [
        "# label 열의 값 float-> str\n",
        "df['label'] = df['label'].astype(str)"
      ]
    },
    {
      "cell_type": "code",
      "execution_count": 32,
      "metadata": {
        "id": "53utk_-3wYeF"
      },
      "outputs": [],
      "source": [
        "# label 분류 숫자로 변경\n",
        "df.loc[(df['label'] == \"0.0\"), 'label'] = 0  #0.0 => 스팸 => 0\n",
        "df.loc[(df['label'] == \"1.0\"), 'label'] = 1  #1.0 => 가볼만한곳 => 1\n",
        "df.loc[(df['label'] == \"2.0\"), 'label'] = 2  #2.0 => 가족여행 => 2\n",
        "df.loc[(df['label'] == \"3.0\"), 'label'] = 3  #3.0 => 관람 => 3\n",
        "df.loc[(df['label'] == \"4.0\"), 'label'] = 4  #4.0 => 맛집 => 4\n",
        "df.loc[(df['label'] == \"5.0\"), 'label'] = 5  #5.0 => 우정여행 => 5\n",
        "df.loc[(df['label'] == \"6.0\"), 'label'] = 6  #6.0 => 전통 => 6\n",
        "df.loc[(df['label'] == \"7.0\"), 'label'] = 7  #7.0 => 체험 => 7\n",
        "df.loc[(df['label'] == \"8.0\"), 'label'] = 8  #8.0 => 카페 => 8\n",
        "df.loc[(df['label'] == \"9.0\"), 'label'] = 9  #9.0 => 캠핑핑 => 9"
      ]
    },
    {
      "cell_type": "code",
      "execution_count": 33,
      "metadata": {
        "colab": {
          "base_uri": "https://localhost:8080/",
          "height": 461
        },
        "id": "_9izbFRskVdO",
        "outputId": "13cf3808-ba6f-40c0-e43e-7560bd19183f"
      },
      "outputs": [
        {
          "output_type": "execute_result",
          "data": {
            "text/plain": [
              "<Axes: >"
            ]
          },
          "metadata": {},
          "execution_count": 33
        },
        {
          "output_type": "display_data",
          "data": {
            "text/plain": [
              "<Figure size 640x480 with 1 Axes>"
            ],
            "image/png": "[encoded data removed]"
          },
          "metadata": {}
        }
      ],
      "source": [
        "# 데이터 정제하기\n",
        "# label 값 분포 확인\n",
        "df['label'].value_counts().plot(kind = 'bar')"
      ]
    },
    {
      "cell_type": "code",
      "execution_count": 34,
      "metadata": {
        "colab": {
          "base_uri": "https://localhost:8080/"
        },
        "id": "EqP2XXF8Ak4A",
        "outputId": "2e25c3a0-efe9-4479-f65f-a3086035584b"
      },
      "outputs": [
        {
          "output_type": "execute_result",
          "data": {
            "text/plain": [
              "1      2141\n",
              "3      1067\n",
              "2      1053\n",
              "0      1011\n",
              "8       915\n",
              "5       664\n",
              "9       531\n",
              "7       457\n",
              "4       253\n",
              "6       110\n",
              "nan      73\n",
              "Name: label, dtype: int64"
            ]
          },
          "metadata": {},
          "execution_count": 34
        }
      ],
      "source": [
        "# 각 label 별 갯수 확인\n",
        "df['label'].value_counts()"
      ]
    },
    {
      "cell_type": "code",
      "execution_count": 36,
      "metadata": {
        "colab": {
          "base_uri": "https://localhost:8080/"
        },
        "id": "Ro0aJouvku-u",
        "outputId": "236aa903-15ee-416e-ee98-81584ab00a30"
      },
      "outputs": [
        {
          "output_type": "stream",
          "name": "stdout",
          "text": [
            "True\n"
          ]
        }
      ],
      "source": [
        "# Null 값 유무 확인 True <- Null 값 있음\n",
        "print(df.isnull().values.any())"
      ]
    },
    {
      "cell_type": "code",
      "execution_count": 37,
      "metadata": {
        "colab": {
          "base_uri": "https://localhost:8080/"
        },
        "id": "MkzdgXaPlpEJ",
        "outputId": "9b2d41d3-4539-49dd-f383-1d91bebabd99"
      },
      "outputs": [
        {
          "output_type": "stream",
          "name": "stdout",
          "text": [
            "Unnamed: 0       0\n",
            "sentences        1\n",
            "tags             0\n",
            "place         5246\n",
            "label            0\n",
            "dtype: int64\n"
          ]
        }
      ],
      "source": [
        "# 어떤 열에서 Null 값 존재하는지 확인\n",
        "print(df.isnull().sum())"
      ]
    },
    {
      "cell_type": "code",
      "execution_count": 38,
      "metadata": {
        "id": "gWpIYeGSmeBV"
      },
      "outputs": [],
      "source": [
        "# Null 값 많은 place 열 제거\n",
        "df = df.drop('place',axis=1)"
      ]
    },
    {
      "cell_type": "code",
      "execution_count": 39,
      "metadata": {
        "colab": {
          "base_uri": "https://localhost:8080/",
          "height": 423
        },
        "id": "kiaacXsuoRBu",
        "outputId": "6b4af9dc-888d-4237-d10b-88c9f3e2fc0e"
      },
      "outputs": [
        {
          "output_type": "execute_result",
          "data": {
            "text/plain": [
              "      Unnamed: 0                                          sentences  \\\n",
              "0              0  술이 달다   라고 하는걸 이걸보구 말하나봐요알쓰들도 무한대로 마실수 있는 연말을 ...   \n",
              "1              1                                                      \n",
              "2              2                                                      \n",
              "3              3  연타발 압구정 완전 대박인듯ㅜㅜ어느 하나 모자람없는 이 맛을 다양한 세계로 이끌어가...   \n",
              "4              4  연타발 압구정 완전 대박인듯ㅜㅜ어느 하나 모자람없는 이 맛을 다양한 세계로 이끌어가...   \n",
              "...          ...                                                ...   \n",
              "8270        8270                 올드카에 관심 있다면  규슈 자동차 박물관2023 03 08    \n",
              "8271        8271    조선의 외교관 역관  부산박물관 특별기획전 전시관람하고 왔어요  아직 어린 아들...   \n",
              "8272        8272        어벤져스 엔드게임의 감동을 다시 한 번  피규어뮤지엄제주 2023 03 15    \n",
              "8273        8273   사 한국박물관협회 회장 조한희 는 지난 5월 11일 목 부터 13일 토 까지 3일...   \n",
              "8274        8274   2023 박물관 미술관 주간  뮤궁뮤진 X 국립산악박물관뮤궁뮤진 X 국립산악박물관...   \n",
              "\n",
              "                                                   tags label  \n",
              "0      선릉   평상술집   술   술집   술안주   꿀주   꿀막걸리   막걸리   ...     8  \n",
              "1      강남카페   강남대형카페도심   카즐_서울   카즐_강남   카즐_가로수길   카...     1  \n",
              "2      강남카페   강남대형카페도심   카즐_서울   카즐_강남   카즐_가로수길   카...     2  \n",
              "3      도산공원맛집   연타발압구정본점   강남맛집   신사동맛집   압구정맛집   도산...     1  \n",
              "4      도산공원맛집   연타발압구정본점   강남맛집   신사동맛집   압구정맛집   도산...     8  \n",
              "...                                                 ...   ...  \n",
              "8270   사진   여행사진   일본   여행   유후인   일본여행   후쿠오카   규슈 ...     7  \n",
              "8271   부산박물관   특별기획전   전시관람   전시연출   박물관   포토스팟   역관...     7  \n",
              "8272   사진   여행사진   한국   제주   여행   풍경   한국여행   제주도   ...     7  \n",
              "8273   한국박물관협회   한박협   뮤지엄   박물관   미술관   제17회한국박물관국제...     0  \n",
              "8274   박미주_소리    국립산악박물관   박미주_소리   박미주_국립산악박물관   박미...     7  \n",
              "\n",
              "[8275 rows x 4 columns]"
            ],
            "text/html": [
              "\n",
              "  <div id=\"df-8ad2ebdc-a770-4c90-9dae-fef7daba036f\">\n",
              "    <div class=\"colab-df-container\">\n",
              "      <div>\n",
              "<style scoped>\n",
              "    .dataframe tbody tr th:only-of-type {\n",
              "        vertical-align: middle;\n",
              "    }\n",
              "\n",
              "    .dataframe tbody tr th {\n",
              "        vertical-align: top;\n",
              "    }\n",
              "\n",
              "    .dataframe thead th {\n",
              "        text-align: right;\n",
              "    }\n",
              "</style>\n",
              "<table border=\"1\" class=\"dataframe\">\n",
              "  <thead>\n",
              "    <tr style=\"text-align: right;\">\n",
              "      <th></th>\n",
              "      <th>Unnamed: 0</th>\n",
              "      <th>sentences</th>\n",
              "      <th>tags</th>\n",
              "      <th>label</th>\n",
              "    </tr>\n",
              "  </thead>\n",
              "  <tbody>\n",
              "    <tr>\n",
              "      <th>0</th>\n",
              "      <td>0</td>\n",
              "      <td>술이 달다   라고 하는걸 이걸보구 말하나봐요알쓰들도 무한대로 마실수 있는 연말을 ...</td>\n",
              "      <td>선릉   평상술집   술   술집   술안주   꿀주   꿀막걸리   막걸리   ...</td>\n",
              "      <td>8</td>\n",
              "    </tr>\n",
              "    <tr>\n",
              "      <th>1</th>\n",
              "      <td>1</td>\n",
              "      <td></td>\n",
              "      <td>강남카페   강남대형카페도심   카즐_서울   카즐_강남   카즐_가로수길   카...</td>\n",
              "      <td>1</td>\n",
              "    </tr>\n",
              "    <tr>\n",
              "      <th>2</th>\n",
              "      <td>2</td>\n",
              "      <td></td>\n",
              "      <td>강남카페   강남대형카페도심   카즐_서울   카즐_강남   카즐_가로수길   카...</td>\n",
              "      <td>2</td>\n",
              "    </tr>\n",
              "    <tr>\n",
              "      <th>3</th>\n",
              "      <td>3</td>\n",
              "      <td>연타발 압구정 완전 대박인듯ㅜㅜ어느 하나 모자람없는 이 맛을 다양한 세계로 이끌어가...</td>\n",
              "      <td>도산공원맛집   연타발압구정본점   강남맛집   신사동맛집   압구정맛집   도산...</td>\n",
              "      <td>1</td>\n",
              "    </tr>\n",
              "    <tr>\n",
              "      <th>4</th>\n",
              "      <td>4</td>\n",
              "      <td>연타발 압구정 완전 대박인듯ㅜㅜ어느 하나 모자람없는 이 맛을 다양한 세계로 이끌어가...</td>\n",
              "      <td>도산공원맛집   연타발압구정본점   강남맛집   신사동맛집   압구정맛집   도산...</td>\n",
              "      <td>8</td>\n",
              "    </tr>\n",
              "    <tr>\n",
              "      <th>...</th>\n",
              "      <td>...</td>\n",
              "      <td>...</td>\n",
              "      <td>...</td>\n",
              "      <td>...</td>\n",
              "    </tr>\n",
              "    <tr>\n",
              "      <th>8270</th>\n",
              "      <td>8270</td>\n",
              "      <td>올드카에 관심 있다면  규슈 자동차 박물관2023 03 08</td>\n",
              "      <td>사진   여행사진   일본   여행   유후인   일본여행   후쿠오카   규슈 ...</td>\n",
              "      <td>7</td>\n",
              "    </tr>\n",
              "    <tr>\n",
              "      <th>8271</th>\n",
              "      <td>8271</td>\n",
              "      <td>조선의 외교관 역관  부산박물관 특별기획전 전시관람하고 왔어요  아직 어린 아들...</td>\n",
              "      <td>부산박물관   특별기획전   전시관람   전시연출   박물관   포토스팟   역관...</td>\n",
              "      <td>7</td>\n",
              "    </tr>\n",
              "    <tr>\n",
              "      <th>8272</th>\n",
              "      <td>8272</td>\n",
              "      <td>어벤져스 엔드게임의 감동을 다시 한 번  피규어뮤지엄제주 2023 03 15</td>\n",
              "      <td>사진   여행사진   한국   제주   여행   풍경   한국여행   제주도   ...</td>\n",
              "      <td>7</td>\n",
              "    </tr>\n",
              "    <tr>\n",
              "      <th>8273</th>\n",
              "      <td>8273</td>\n",
              "      <td>사 한국박물관협회 회장 조한희 는 지난 5월 11일 목 부터 13일 토 까지 3일...</td>\n",
              "      <td>한국박물관협회   한박협   뮤지엄   박물관   미술관   제17회한국박물관국제...</td>\n",
              "      <td>0</td>\n",
              "    </tr>\n",
              "    <tr>\n",
              "      <th>8274</th>\n",
              "      <td>8274</td>\n",
              "      <td>2023 박물관 미술관 주간  뮤궁뮤진 X 국립산악박물관뮤궁뮤진 X 국립산악박물관...</td>\n",
              "      <td>박미주_소리    국립산악박물관   박미주_소리   박미주_국립산악박물관   박미...</td>\n",
              "      <td>7</td>\n",
              "    </tr>\n",
              "  </tbody>\n",
              "</table>\n",
              "<p>8275 rows × 4 columns</p>\n",
              "</div>\n",
              "      <button class=\"colab-df-convert\" onclick=\"convertToInteractive('df-8ad2ebdc-a770-4c90-9dae-fef7daba036f')\"\n",
              "              title=\"Convert this dataframe to an interactive table.\"\n",
              "              style=\"display:none;\">\n",
              "        \n",
              "  <svg xmlns=\"http://www.w3.org/2000/svg\" height=\"24px\"viewBox=\"0 0 24 24\"\n",
              "       width=\"24px\">\n",
              "    <path d=\"M0 0h24v24H0V0z\" fill=\"none\"/>\n",
              "    <path d=\"M18.56 5.44l.94 2.06.94-2.06 2.06-.94-2.06-.94-.94-2.06-.94 2.06-2.06.94zm-11 1L8.5 8.5l.94-2.06 2.06-.94-2.06-.94L8.5 2.5l-.94 2.06-2.06.94zm10 10l.94 2.06.94-2.06 2.06-.94-2.06-.94-.94-2.06-.94 2.06-2.06.94z\"/><path d=\"M17.41 7.96l-1.37-1.37c-.4-.4-.92-.59-1.43-.59-.52 0-1.04.2-1.43.59L10.3 9.45l-7.72 7.72c-.78.78-.78 2.05 0 2.83L4 21.41c.39.39.9.59 1.41.59.51 0 1.02-.2 1.41-.59l7.78-7.78 2.81-2.81c.8-.78.8-2.07 0-2.86zM5.41 20L4 18.59l7.72-7.72 1.47 1.35L5.41 20z\"/>\n",
              "  </svg>\n",
              "      </button>\n",
              "      \n",
              "  <style>\n",
              "    .colab-df-container {\n",
              "      display:flex;\n",
              "      flex-wrap:wrap;\n",
              "      gap: 12px;\n",
              "    }\n",
              "\n",
              "    .colab-df-convert {\n",
              "      background-color: #E8F0FE;\n",
              "      border: none;\n",
              "      border-radius: 50%;\n",
              "      cursor: pointer;\n",
              "      display: none;\n",
              "      fill: #1967D2;\n",
              "      height: 32px;\n",
              "      padding: 0 0 0 0;\n",
              "      width: 32px;\n",
              "    }\n",
              "\n",
              "    .colab-df-convert:hover {\n",
              "      background-color: #E2EBFA;\n",
              "      box-shadow: 0px 1px 2px rgba(60, 64, 67, 0.3), 0px 1px 3px 1px rgba(60, 64, 67, 0.15);\n",
              "      fill: #174EA6;\n",
              "    }\n",
              "\n",
              "    [theme=dark] .colab-df-convert {\n",
              "      background-color: #3B4455;\n",
              "      fill: #D2E3FC;\n",
              "    }\n",
              "\n",
              "    [theme=dark] .colab-df-convert:hover {\n",
              "      background-color: #434B5C;\n",
              "      box-shadow: 0px 1px 3px 1px rgba(0, 0, 0, 0.15);\n",
              "      filter: drop-shadow(0px 1px 2px rgba(0, 0, 0, 0.3));\n",
              "      fill: #FFFFFF;\n",
              "    }\n",
              "  </style>\n",
              "\n",
              "      <script>\n",
              "        const buttonEl =\n",
              "          document.querySelector('#df-8ad2ebdc-a770-4c90-9dae-fef7daba036f button.colab-df-convert');\n",
              "        buttonEl.style.display =\n",
              "          google.colab.kernel.accessAllowed ? 'block' : 'none';\n",
              "\n",
              "        async function convertToInteractive(key) {\n",
              "          const element = document.querySelector('#df-8ad2ebdc-a770-4c90-9dae-fef7daba036f');\n",
              "          const dataTable =\n",
              "            await google.colab.kernel.invokeFunction('convertToInteractive',\n",
              "                                                     [key], {});\n",
              "          if (!dataTable) return;\n",
              "\n",
              "          const docLinkHtml = 'Like what you see? Visit the ' +\n",
              "            '<a target=\"_blank\" href=https://colab.research.google.com/notebooks/data_table.ipynb>data table notebook</a>'\n",
              "            + ' to learn more about interactive tables.';\n",
              "          element.innerHTML = '';\n",
              "          dataTable['output_type'] = 'display_data';\n",
              "          await google.colab.output.renderOutput(dataTable, element);\n",
              "          const docLink = document.createElement('div');\n",
              "          docLink.innerHTML = docLinkHtml;\n",
              "          element.appendChild(docLink);\n",
              "        }\n",
              "      </script>\n",
              "    </div>\n",
              "  </div>\n",
              "  "
            ]
          },
          "metadata": {},
          "execution_count": 39
        }
      ],
      "source": [
        "# 데이터 확인\n",
        "df"
      ]
    },
    {
      "cell_type": "code",
      "execution_count": 40,
      "metadata": {
        "colab": {
          "base_uri": "https://localhost:8080/"
        },
        "id": "mGOOD9lFoZsI",
        "outputId": "a56e75b6-f5ca-4f8d-9373-4ec73712f8b8"
      },
      "outputs": [
        {
          "output_type": "stream",
          "name": "stdout",
          "text": [
            "Unnamed: 0    0\n",
            "sentences     1\n",
            "tags          0\n",
            "label         0\n",
            "dtype: int64\n"
          ]
        }
      ],
      "source": [
        "# 어떤 열에서 Null 값 존재하는지 확인\n",
        "print(df.isnull().sum())"
      ]
    },
    {
      "cell_type": "code",
      "execution_count": 41,
      "metadata": {
        "colab": {
          "base_uri": "https://localhost:8080/"
        },
        "id": "npFtnyNCl4TE",
        "outputId": "5b24b46d-3fee-4dd2-843e-30a8a684494c"
      },
      "outputs": [
        {
          "output_type": "stream",
          "name": "stdout",
          "text": [
            "False\n"
          ]
        }
      ],
      "source": [
        "# Null값 제거\n",
        "df = df.dropna(how = 'any') # Null 값이 존재하는 행 제거\n",
        "print(df.isnull().values.any()) # Null 값이 존재하는지 확인"
      ]
    },
    {
      "cell_type": "code",
      "execution_count": 42,
      "metadata": {
        "colab": {
          "base_uri": "https://localhost:8080/"
        },
        "id": "kEdvwn6OmTPO",
        "outputId": "dd1b780c-eb72-41d6-c43b-43d19f42be8f"
      },
      "outputs": [
        {
          "output_type": "stream",
          "name": "stdout",
          "text": [
            "8274\n"
          ]
        }
      ],
      "source": [
        "# Null값 제거 후 데이터 개수 확인\n",
        "print(len(df))"
      ]
    },
    {
      "cell_type": "code",
      "execution_count": 43,
      "metadata": {
        "colab": {
          "base_uri": "https://localhost:8080/"
        },
        "id": "SvLkr-0uBMHp",
        "outputId": "d226ba5a-2bd2-4df9-9cdf-59cc3bf5b822"
      },
      "outputs": [
        {
          "output_type": "stream",
          "name": "stdout",
          "text": [
            "1      200\n",
            "3      200\n",
            "2      200\n",
            "0      200\n",
            "8      200\n",
            "5      200\n",
            "9      200\n",
            "7      200\n",
            "4      200\n",
            "6      110\n",
            "nan     73\n",
            "Name: label, dtype: int64\n"
          ]
        }
      ],
      "source": [
        "# 라벨 값별로 200개씩만 선택\n",
        "label_counts = df['label'].value_counts()\n",
        "selected_indices = []\n",
        "for label in label_counts.index:\n",
        "    label_indices = df[df['label'] == label].index.tolist()\n",
        "    selected_indices += label_indices[:200]\n",
        "selected_df = df.loc[selected_indices]\n",
        "\n",
        "# 결과 확인\n",
        "print(selected_df['label'].value_counts())\n"
      ]
    },
    {
      "cell_type": "code",
      "execution_count": 44,
      "metadata": {
        "id": "56zm6y-zBzbL"
      },
      "outputs": [],
      "source": [
        "df = selected_df"
      ]
    },
    {
      "cell_type": "code",
      "execution_count": 50,
      "metadata": {
        "colab": {
          "base_uri": "https://localhost:8080/",
          "height": 648
        },
        "id": "iqRSShoz91fi",
        "outputId": "00cc43f6-e562-4fb6-80bf-5629e995d654"
      },
      "outputs": [
        {
          "output_type": "stream",
          "name": "stdout",
          "text": [
            "1    200\n",
            "3    200\n",
            "2    200\n",
            "0    200\n",
            "8    200\n",
            "5    200\n",
            "9    200\n",
            "7    200\n",
            "4    200\n",
            "6    110\n",
            "Name: label, dtype: int64\n"
          ]
        },
        {
          "output_type": "execute_result",
          "data": {
            "text/plain": [
              "1910"
            ]
          },
          "metadata": {},
          "execution_count": 50
        },
        {
          "output_type": "display_data",
          "data": {
            "text/plain": [
              "<Figure size 640x480 with 1 Axes>"
            ],
            "image/png": "[encoded data removed]"
          },
          "metadata": {}
        }
      ],
      "source": [
        "# 각 label별 갯수 확인\n",
        "df['label'].value_counts().plot(kind = 'bar')\n",
        "print(df['label'].value_counts())\n",
        "len(df)"
      ]
    },
    {
      "cell_type": "code",
      "execution_count": 51,
      "metadata": {
        "id": "yYolu3s8cN3b"
      },
      "outputs": [],
      "source": [
        "# label에서 nan 제거\n",
        "df = df[df.label != 'nan']"
      ]
    },
    {
      "cell_type": "code",
      "execution_count": 52,
      "metadata": {
        "colab": {
          "base_uri": "https://localhost:8080/",
          "height": 648
        },
        "id": "riVb8oUWcNha",
        "outputId": "cea0c5f5-b303-4409-fbc1-b126478249a8"
      },
      "outputs": [
        {
          "output_type": "stream",
          "name": "stdout",
          "text": [
            "1    200\n",
            "3    200\n",
            "2    200\n",
            "0    200\n",
            "8    200\n",
            "5    200\n",
            "9    200\n",
            "7    200\n",
            "4    200\n",
            "6    110\n",
            "Name: label, dtype: int64\n"
          ]
        },
        {
          "output_type": "execute_result",
          "data": {
            "text/plain": [
              "1910"
            ]
          },
          "metadata": {},
          "execution_count": 52
        },
        {
          "output_type": "display_data",
          "data": {
            "text/plain": [
              "<Figure size 640x480 with 1 Axes>"
            ],
            "image/png": "[encoded data removed]"
          },
          "metadata": {}
        }
      ],
      "source": [
        "# 각 label별 갯수 확인\n",
        "df['label'].value_counts().plot(kind = 'bar')\n",
        "print(df['label'].value_counts())\n",
        "len(df)"
      ]
    },
    {
      "cell_type": "code",
      "execution_count": 53,
      "metadata": {
        "id": "PCLDUAcNxvGT"
      },
      "outputs": [],
      "source": [
        "# data_list에 본문과 라벨링된 값 저장장\n",
        "data_list = []\n",
        "for q, label in zip(df['tags'], df['label'])  :\n",
        "    if q.strip() == '' or q.strip() == '.':\n",
        "        print(q)\n",
        "        continue\n",
        "    data = []\n",
        "    data.append(q)\n",
        "    data.append(str(label))\n",
        "\n",
        "    data_list.append(data)"
      ]
    },
    {
      "cell_type": "code",
      "execution_count": 54,
      "metadata": {
        "colab": {
          "base_uri": "https://localhost:8080/"
        },
        "id": "M3ERVX4MyFe5",
        "outputId": "2af333d1-de81-4d5c-a37f-32d536789437"
      },
      "outputs": [
        {
          "output_type": "stream",
          "name": "stdout",
          "text": [
            "[' 강남카페   강남대형카페도심   카즐_서울   카즐_강남   카즐_가로수길   카즐_신사   카즐_도산   강남카페추천   강남데이트코스   강남가볼만한곳   강남핫플   강남맛집   강남브런치', '1']\n",
            "[' 고흥여행   고흥민박   고흥펜션   고흥1박2일   고흥가볼만한곳   고흥나들이   고흥커플여행   커플여행   주말여행   여름휴가   고흥휴가   고흥여름휴가   전남고흥   전남가볼만한곳   전남여행   전남나들이   전남휴가   전라남도여행추천   고흥여행코스   고흥1박2일여행코스   연흥도   쑥섬   애도   금산해안경관   소원동산   시비공원   유자막걸리   고흥숙박   용바위   전망좋은곳', '2']\n"
          ]
        }
      ],
      "source": [
        "print(data_list[0])\n",
        "print(data_list[500])\n",
        "#print(data_list[1200])\n",
        "# print(data_list[1800])\n",
        "# print(data_list[2400])\n",
        "# print(data_list[2800])\n",
        "# print(data_list[-1])"
      ]
    },
    {
      "cell_type": "code",
      "execution_count": 55,
      "metadata": {
        "id": "Wce4ICOPyHqV"
      },
      "outputs": [],
      "source": [
        "#train & test 데이터로 나누기 train 80 test 20\n",
        "from sklearn.model_selection import train_test_split\n",
        "                                                         \n",
        "train, test = train_test_split(df, test_size=0.2, random_state=0)"
      ]
    },
    {
      "cell_type": "code",
      "execution_count": 57,
      "metadata": {
        "colab": {
          "base_uri": "https://localhost:8080/"
        },
        "id": "JNBGMYZR02eV",
        "outputId": "82edf6da-1afc-4561-b1f9-9b8706e3eaa8"
      },
      "outputs": [
        {
          "output_type": "stream",
          "name": "stdout",
          "text": [
            "1528\n",
            "382\n"
          ]
        }
      ],
      "source": [
        "# train data, test data 개수 확인\n",
        "print(len(train))\n",
        "print(len(test))"
      ]
    },
    {
      "cell_type": "code",
      "execution_count": 58,
      "metadata": {
        "colab": {
          "base_uri": "https://localhost:8080/"
        },
        "id": "txTvwRFCYkaz",
        "outputId": "32efddd9-d664-420b-c58c-ee0836dac92d"
      },
      "outputs": [
        {
          "output_type": "stream",
          "name": "stdout",
          "text": [
            "      Unnamed: 0                                          sentences  \\\n",
            "1989        1989                                             이번 설날    \n",
            "866          866  부산에서 오신 고객분   너무 예쁜사진 감사합니다  오시는 분들마다 창찬을 아끼지않...   \n",
            "7032        7032                                            세계 각국의    \n",
            "782          782    2023 열린모작실 season 1  조개줍깅 X 모래알U0001fab8바다모빌...   \n",
            "2019        2019                                    청양 맛과 멋을 이야기하는    \n",
            "...          ...                                                ...   \n",
            "271          271       광고강릉최고의 특상 1  투플 한우금송아지예약문의 010 3153 1245      \n",
            "193          193                                           주말엔 달달한    \n",
            "5023        5023  내가 좋아하는 동네    진관사가 있고고즈넉한 한옥들이 있고 전시도 있고  찻집도 ...   \n",
            "870          870                                   너무 예뻐서 사진 펌 합니다    \n",
            "995          995   세상 다소곳한 척  주변에 사람많았는ᄃ...   \n",
            "\n",
            "                                                   tags label  \n",
            "1989   해미읍성   민속행사   여행공유환영   맛집공유환영   서산지기_여기가주세요_환...     4  \n",
            "866    안동숙소   안동숙소추천   안동여행   안동펜션   안동펜션추천   대구근교여행...     2  \n",
            "7032   문화   체험   글로벌   데이5 15  월  5 19  금    충청북도국제교...     4  \n",
            "782    속초   속초여행   속초소품샵   속초원데이클래스   바다모빌만들기   속초체험...     9  \n",
            "2019   청양향토식당우거디밥이맛있는집 김장김치가   청양   청양군   청양가볼만한곳   ...     8  \n",
            "...                                                 ...   ...  \n",
            "271    금송아지   강릉가볼만한곳   강릉맛집추천   강릉   강릉역맛집금송아지   강릉...     8  \n",
            "193    마카롱   강화블럭방   강화   강화가볼만한곳   강화아이랑   강화아이와가볼만...     9  \n",
            "5023   한옥마을   은평한옥마을   셋이서문학관   진관사   북한산둘레길   은평가볼만...     4  \n",
            "870    안동숙소   안동숙소추천   안동여행   안동펜션   안동펜션추천   대구근교여행...     2  \n",
            "995                                        이슬_당진     0  \n",
            "\n",
            "[1528 rows x 4 columns]\n"
          ]
        }
      ],
      "source": [
        "print(train)"
      ]
    },
    {
      "cell_type": "markdown",
      "metadata": {
        "id": "OBdwQxrkX3j6"
      },
      "source": [
        "------"
      ]
    },
    {
      "cell_type": "code",
      "execution_count": 59,
      "metadata": {
        "id": "Xachxm2KX2yz"
      },
      "outputs": [],
      "source": [
        "# CLS, SEP 붙이기 (문장의 시작, 끝)\n",
        "document_bert = [\"[CLS] \" + str(s) + \" [SEP]\" for s in train.tags]"
      ]
    },
    {
      "cell_type": "code",
      "execution_count": 60,
      "metadata": {
        "colab": {
          "base_uri": "https://localhost:8080/"
        },
        "id": "4-4_U1PIX6hS",
        "outputId": "bae5e02f-754e-4701-f7de-7839d4ac4cec"
      },
      "outputs": [
        {
          "output_type": "execute_result",
          "data": {
            "text/plain": [
              "['[CLS]  해미읍성   민속행사   여행공유환영   맛집공유환영   서산지기_여기가주세요_환영   제보는_프로필_링크클릭        서산   서산여행   서산가볼만한곳   서산여행지   서산포토존   서산볼거리   서산커플여행   서산우정여행   서산가족여행   서산명소   서산힐링   서산여행지추천   충남가볼만한곳   충남여행지추천   서산놀거리   서산겨울여행   서산명절   서산설날놀거리   서산아이들   서산민속체험   서산전통체험   서산해미읍성   해미면   서산민속가옥 [SEP]',\n",
              " '[CLS]  안동숙소   안동숙소추천   안동여행   안동펜션   안동펜션추천   대구근교여행   안동커플여행   안동가족여행   안동카페   안동맛집   안동맛집추천   경북여행   경북숙소   안동한옥   안동한옥스테이   안동한옥펜션   숙소추천   감성숙소   안동에어비앤비   한래소담   자쿠지숙소   경북자쿠지숙소   경북자쿠지   안동자쿠지숙소   안동자쿠지   안동놀거리   안동데이트   안동맘   안동핫플   안동데이트코스 [SEP]',\n",
              " '[CLS]  문화   체험   글로벌   데이5 15  월  5 19  금    충청북도국제교육원   중부분원   진천군   덕산읍   인석로   문화체험   글로벌데이   다문화   중국   일본   필리핀   미국   멕시코   스코틀랜드   러시아   목공예체험   우리꽃차체험   세계명소   캐리커쳐   프랑스요리 [SEP]',\n",
              " '[CLS]  속초   속초여행   속초소품샵   속초원데이클래스   바다모빌만들기   속초체험   속초체험공방   속초우정여행   속초커플여행   속초카페   속초맛집   문우당서림   원데이클래스   바다모빌체험   모빌만들기체험   속초만들기체험   청년작가   로컬상점   속초로컬상점   모래알   속초모래알   열린모작실   지역작가   로컬   로컬크리에이터   [SEP]',\n",
              " '[CLS]  청양향토식당우거디밥이맛있는집 김장김치가   청양   청양군   청양가볼만한곳   청양겨울여행   청양겨울축제   청양알프스얼음축제   청양알프스마을   청양맛집   청양자족식당우거디   청양로컬푸드우거디   청양군식재료맛집우거디   청양군맛집   청양시장맛집   청양읍맛집   청양군청맛집   청양문화예술회관맛집   해장국   청양해장국   청양선지해장국   연말모임후해장하는곱 [SEP]']"
            ]
          },
          "metadata": {},
          "execution_count": 60
        }
      ],
      "source": [
        "document_bert[:5]"
      ]
    },
    {
      "cell_type": "code",
      "execution_count": 61,
      "metadata": {
        "colab": {
          "base_uri": "https://localhost:8080/",
          "height": 170,
          "referenced_widgets": [
            "86e09639056745ac93d930b15b18ac80",
            "1f8dbacf21ae49cba7f30e56d06f1e9e",
            "87d54d79e12c4592a6549e34621c3470",
            "13f94b7631384cedafd26629207b02e5",
            "8f87da18c0db4adb98b969ba6732af29",
            "b011be1324424c0989174b6b31529987",
            "975073cea6d2442087fce45dd805eb35",
            "1525ca8180954011bc80b5cb01aa618d",
            "0b59293947744b55ac03362fdd78fba4",
            "4544bd8b04c04405ad8845bef6a34554",
            "ebb5600c5b4a4f99bb393b41682250cf",
            "b5f7b0f77d39443ba8714dca8ad12d2b",
            "f4c87e51a3a748bd90e2a74c1a61ca1d",
            "4c0cd0e4ed2140e18efe6615efff546f",
            "5e0d6d3b79f74a68b366a403070b4183",
            "f238ee7d227f42b1aea18d7d4e1c90d3",
            "b824ba6c7987447c86ec65e68db3d638",
            "47680ee37d274e15b3b845e1d5966fc3",
            "000e07694138463ab5e1d6d24c8f7f96",
            "2902c1a57ba14f688de8383e8c94c8d1",
            "23c6414042f841b292f98ee0189493d2",
            "636db5ff29c540a9aaf56bfebcb09389",
            "26733b4f2d8a418c8b919836f50e7176",
            "1570f3729b9b4395ac3162c39c26f4da",
            "2c431ae78f3746f48dc1ee2dc90697fa",
            "5759c499fd3a4060946b0be4dae46243",
            "99a52cde533e4ce4b7ab84f08406a735",
            "82dc1f3311b84e02b5c72a166b22b0dc",
            "bc2ce066952b4763815cd1b78f144069",
            "d673f86f7b454e5f9c24b9ccdf768b48",
            "237cf616fdd74db0a6f837dc8362addf",
            "636e3ece35f04111be9599f03cfe4309",
            "3eb4609b52c44248aa03101db38c4766"
          ]
        },
        "id": "Ok4ysOjV7Epj",
        "outputId": "b597f691-d7fd-4720-f01c-7d995ce43aff"
      },
      "outputs": [
        {
          "output_type": "stream",
          "name": "stdout",
          "text": [
            "tokenizeing..\n"
          ]
        },
        {
          "output_type": "display_data",
          "data": {
            "text/plain": [
              "Downloading (…)solve/main/vocab.txt:   0%|          | 0.00/996k [00:00<?, ?B/s]"
            ],
            "application/vnd.jupyter.widget-view+json": {
              "version_major": 2,
              "version_minor": 0,
              "model_id": "86e09639056745ac93d930b15b18ac80"
            }
          },
          "metadata": {}
        },
        {
          "output_type": "display_data",
          "data": {
            "text/plain": [
              "Downloading (…)okenizer_config.json:   0%|          | 0.00/29.0 [00:00<?, ?B/s]"
            ],
            "application/vnd.jupyter.widget-view+json": {
              "version_major": 2,
              "version_minor": 0,
              "model_id": "b5f7b0f77d39443ba8714dca8ad12d2b"
            }
          },
          "metadata": {}
        },
        {
          "output_type": "display_data",
          "data": {
            "text/plain": [
              "Downloading (…)lve/main/config.json:   0%|          | 0.00/625 [00:00<?, ?B/s]"
            ],
            "application/vnd.jupyter.widget-view+json": {
              "version_major": 2,
              "version_minor": 0,
              "model_id": "26733b4f2d8a418c8b919836f50e7176"
            }
          },
          "metadata": {}
        },
        {
          "output_type": "stream",
          "name": "stdout",
          "text": [
            "tokenized_texts[0]: ['[CLS]', '해', '##미', '##읍', '##성', '민', '##속', '##행', '##사', '여', '##행', '##공', '##유', '##환', '##영', '맛', '##집', '##공', '##유', '##환', '##영', '서', '##산', '##지', '##기', '_', '여', '##기가', '##주', '##세', '##요', '_', '환', '##영', '제', '##보', '##는', '_', '프로', '##필', '_', '링', '##크', '##클', '##릭', '서', '##산', '서', '##산', '##여', '##행', '서', '##산', '##가', '##볼', '##만', '##한', '##곳', '서', '##산', '##여', '##행', '##지', '서', '##산', '##포', '##토', '##존', '서', '##산', '##볼', '##거', '##리', '서', '##산', '##커', '##플', '##여', '##행', '서', '##산', '##우', '##정', '##여', '##행', '서', '##산', '##가', '##족', '##여', '##행', '서', '##산', '##명', '##소', '서', '##산', '##힐', '##링', '서', '##산', '##여', '##행', '##지', '##추', '##천', '충', '##남', '##가', '##볼', '##만', '##한', '##곳', '충', '##남', '##여', '##행', '##지', '##추', '##천', '서', '##산', '##놀', '##거', '##리', '서', '##산', '##겨', '##울', '##여', '##행', '서', '##산', '##명', '##절', '서', '##산', '##설', '##날', '##놀', '##거', '##리', '서', '##산', '##아', '##이', '##들', '서', '##산', '##민', '##속', '##체', '##험', '서', '##산', '##전', '##통', '##체', '##험', '서', '##산', '##해', '##미', '##읍', '##성', '해', '##미', '##면', '서', '##산', '##민', '##속', '##가', '##옥', '[SEP]']\n"
          ]
        }
      ],
      "source": [
        "#사전 학습된 BERT multilingual 모델 내 포함되어있는 토크나이저 활용\n",
        "print('tokenizeing..')\n",
        "tokenizer = BertTokenizer.from_pretrained('bert-base-multilingual-cased',do_lower_case=False)\n",
        "tokenized_texts = [ tokenizer.tokenize(s) for s in document_bert]\n",
        "print('tokenized_texts[0]:',tokenized_texts[0])"
      ]
    },
    {
      "cell_type": "code",
      "execution_count": 62,
      "metadata": {
        "colab": {
          "base_uri": "https://localhost:8080/"
        },
        "id": "JNVGpQV17QwM",
        "outputId": "3c68ca7e-a7b7-4948-a723-2c57f3cfb073"
      },
      "outputs": [
        {
          "output_type": "stream",
          "name": "stdout",
          "text": [
            "padding\n",
            "input_ids[0]: [   101   9960  22458  79773  17138   9311  43962  25549  12945   9565\n",
            "  25549  28000  42815  51745  30858   9254  38696  28000  42815  51745\n",
            "  30858   9425  21386  12508  12310    168   9565  47869  16323  24982\n",
            "  48549    168   9995  30858   9672  30005  11018    168 102574 119416\n",
            "    168   9245  20308 119327  73352   9425  21386   9425  21386  29935\n",
            "  25549   9425  21386  11287 101450  19105  11102 118644   9425  21386\n",
            "  29935  25549  12508   9425  21386  55530  26444  79718   9425  21386\n",
            " 101450  41521  12692   9425  21386 106826 119412  29935  25549   9425\n",
            "  21386  27355  16605  29935  25549   9425  21386  11287  52560  29935\n",
            "  25549   9425  21386  16758  22333   9425  21386 119470  80174   9425\n",
            "  21386  29935  25549  12508 119274  38631   9770  37004  11287 101450\n",
            "  19105  11102 118644   9770  37004  29935  25549  12508 119274  38631\n",
            "   9425  21386 118744  41521  12692   9425  21386  89045]\n"
          ]
        }
      ],
      "source": [
        "#token들의 max length보다 크게 MAX_LEN을 설정한다. 설정한 MAX_LEN만큼 빈 공간을 0 이 채운다\n",
        "print('padding')\n",
        "MAX_LEN = 128\n",
        "input_ids = [tokenizer.convert_tokens_to_ids(x) for x in tokenized_texts]\n",
        "input_ids = pad_sequences(input_ids, maxlen = MAX_LEN, dtype='long', truncating='post', padding='post')\n",
        "input_ids[0]\n",
        "print('input_ids[0]:',input_ids[0])"
      ]
    },
    {
      "cell_type": "code",
      "execution_count": 63,
      "metadata": {
        "colab": {
          "base_uri": "https://localhost:8080/"
        },
        "id": "s0EJLbhT7Vbx",
        "outputId": "d15b717e-7666-4ccc-86e5-a58150592ffd"
      },
      "outputs": [
        {
          "output_type": "stream",
          "name": "stdout",
          "text": [
            "attention_masks[0]: [1.0, 1.0, 1.0, 1.0, 1.0, 1.0, 1.0, 1.0, 1.0, 1.0, 1.0, 1.0, 1.0, 1.0, 1.0, 1.0, 1.0, 1.0, 1.0, 1.0, 1.0, 1.0, 1.0, 1.0, 1.0, 1.0, 1.0, 1.0, 1.0, 1.0, 1.0, 1.0, 1.0, 1.0, 1.0, 1.0, 1.0, 1.0, 1.0, 1.0, 1.0, 1.0, 1.0, 1.0, 1.0, 1.0, 1.0, 1.0, 1.0, 1.0, 1.0, 1.0, 1.0, 1.0, 1.0, 1.0, 1.0, 1.0, 1.0, 1.0, 1.0, 1.0, 1.0, 1.0, 1.0, 1.0, 1.0, 1.0, 1.0, 1.0, 1.0, 1.0, 1.0, 1.0, 1.0, 1.0, 1.0, 1.0, 1.0, 1.0, 1.0, 1.0, 1.0, 1.0, 1.0, 1.0, 1.0, 1.0, 1.0, 1.0, 1.0, 1.0, 1.0, 1.0, 1.0, 1.0, 1.0, 1.0, 1.0, 1.0, 1.0, 1.0, 1.0, 1.0, 1.0, 1.0, 1.0, 1.0, 1.0, 1.0, 1.0, 1.0, 1.0, 1.0, 1.0, 1.0, 1.0, 1.0, 1.0, 1.0, 1.0, 1.0, 1.0, 1.0, 1.0, 1.0, 1.0, 1.0]\n"
          ]
        }
      ],
      "source": [
        "#학습 속도를 높이기 위해 실 데이터가 있는 곳과 padding이 있는곳을 attention에게 알려줌\n",
        "\n",
        "attention_masks = []\n",
        "\n",
        "for seq in input_ids:\n",
        "    seq_mask = [float(i>0) for i in seq]\n",
        "    attention_masks.append(seq_mask)\n",
        "\n",
        "print('attention_masks[0]:',attention_masks[0])"
      ]
    },
    {
      "cell_type": "code",
      "execution_count": 64,
      "metadata": {
        "colab": {
          "base_uri": "https://localhost:8080/"
        },
        "id": "SkkcFlTk7aMW",
        "outputId": "d521f39a-8d51-4d3f-afd8-0fa8ac4c6d9c"
      },
      "outputs": [
        {
          "output_type": "stream",
          "name": "stdout",
          "text": [
            "split train - val\n"
          ]
        }
      ],
      "source": [
        "# input 과 mask가 뒤섞이지 않도록 random_state를 일정하게 고정.\n",
        "# test set은 위에서 분리되었기에 , train 과 validation set만 분리\n",
        "print('split train - val')\n",
        "train_inputs, validation_inputs, train_labels, validation_labels = \\\n",
        "train_test_split(input_ids, train['label'].values, random_state=42, test_size=0.1)\n",
        "\n",
        "train_masks, validation_masks, _, _ = train_test_split(attention_masks, input_ids, random_state=42,test_size=0.1)"
      ]
    },
    {
      "cell_type": "code",
      "execution_count": 65,
      "metadata": {
        "id": "F4IOu9UuBUfk"
      },
      "outputs": [],
      "source": [
        "train_labels = train_labels.astype(int)"
      ]
    },
    {
      "cell_type": "code",
      "execution_count": 66,
      "metadata": {
        "id": "xIVYlNi6BfU8"
      },
      "outputs": [],
      "source": [
        "validation_labels = validation_labels.astype(int)"
      ]
    },
    {
      "cell_type": "code",
      "execution_count": 67,
      "metadata": {
        "colab": {
          "base_uri": "https://localhost:8080/"
        },
        "id": "65DQoIoi8RDt",
        "outputId": "fbab3a21-12a3-47ae-d30a-68320f4901b4"
      },
      "outputs": [
        {
          "output_type": "stream",
          "name": "stdout",
          "text": [
            "convert data to tenser..\n"
          ]
        }
      ],
      "source": [
        "# numpy ndarray로 되어있는 input,lable,mask들을 torch tensor로 변환\n",
        "print('convert data to tenser..')\n",
        "train_inputs = torch.tensor(train_inputs)\n",
        "train_labels = torch.tensor(train_labels)\n",
        "train_masks = torch.tensor(train_masks)\n",
        "validation_inputs = torch.tensor(validation_inputs)\n",
        "validation_labels = torch.tensor(validation_labels)\n",
        "validation_masks = torch.tensor(validation_masks)"
      ]
    },
    {
      "cell_type": "code",
      "execution_count": 68,
      "metadata": {
        "colab": {
          "base_uri": "https://localhost:8080/"
        },
        "id": "eWo3Vp1p80ZI",
        "outputId": "e608bf26-48b1-4af8-ab0c-5f61aff506c9"
      },
      "outputs": [
        {
          "output_type": "stream",
          "name": "stdout",
          "text": [
            "set batch and data loader\n"
          ]
        }
      ],
      "source": [
        "#현재 쓰고있는 GPU의 VRAM에 맞게 배치사이즈 설정(크게 설정후 부족메시지가 뜨면 8의 배수중 작은것으로 줄여나가기)\n",
        "print('set batch and data loader')\n",
        "BATCH_SIZE = 32\n",
        "\n",
        "train_data = TensorDataset(train_inputs, train_masks, train_labels)\n",
        "train_sampler = RandomSampler(train_data)\n",
        "train_dataloader = DataLoader(train_data, sampler = train_sampler, batch_size = BATCH_SIZE)\n",
        "\n",
        "validation_data = TensorDataset(validation_inputs, validation_masks, validation_labels)\n",
        "validation_sampler = SequentialSampler(validation_data)\n",
        "validation_dataloader = DataLoader(validation_data, sampler=validation_sampler, batch_size=BATCH_SIZE)"
      ]
    },
    {
      "cell_type": "code",
      "execution_count": 69,
      "metadata": {
        "colab": {
          "base_uri": "https://localhost:8080/"
        },
        "id": "Zd0evJj5Bmmm",
        "outputId": "37b29a06-2c27-4353-8fd8-3ad9dec4d724"
      },
      "outputs": [
        {
          "output_type": "stream",
          "name": "stdout",
          "text": [
            "data split\n"
          ]
        }
      ],
      "source": [
        "#위의 train-val 셋 전처리와 동일\n",
        "print('data split')\n",
        "sentences = test['tags']\n",
        "sentences = [\"[CLS]\"+str(sentence)+\"[SEP]\" for sentence in sentences]\n",
        "labels = test['label'].values\n",
        "\n",
        "tokenized_texts = [tokenizer.tokenize(sent) for sent in sentences]\n",
        "\n",
        "input_ids = [tokenizer.convert_tokens_to_ids(x) for x in tokenized_texts]\n",
        "input_ids = pad_sequences(input_ids, maxlen=MAX_LEN, dtype=\"long\", truncating=\"post\", padding=\"post\")\n",
        "\n",
        "attention_masks = []\n",
        "for seq in input_ids:\n",
        "        seq_mask = [float(i>0) for i in seq]\n",
        "        attention_masks.append(seq_mask)\n",
        "\n",
        "labels = labels.astype(int)\n",
        "\n",
        "test_inputs = torch.tensor(input_ids)\n",
        "test_labels = torch.tensor(labels)\n",
        "test_masks = torch.tensor(attention_masks)\n",
        "\n",
        "test_data = TensorDataset(test_inputs, test_masks, test_labels)\n",
        "test_sampler = RandomSampler(test_data)\n",
        "test_dataloader = DataLoader(test_data, sampler=test_sampler, batch_size=BATCH_SIZE)"
      ]
    },
    {
      "cell_type": "code",
      "execution_count": 70,
      "metadata": {
        "colab": {
          "base_uri": "https://localhost:8080/"
        },
        "id": "b0r39B7kEDYl",
        "outputId": "b4da4679-10e4-4cf8-d376-0ccfb15ffd78"
      },
      "outputs": [
        {
          "output_type": "stream",
          "name": "stdout",
          "text": [
            "True\n",
            "1\n",
            "Tesla T4\n"
          ]
        }
      ],
      "source": [
        "import torch\n",
        "\n",
        "print(torch.cuda.is_available())  # CUDA를 사용할 수 있는지 확인\n",
        "print(torch.cuda.device_count())  # 사용 가능한 CUDA 디바이스 개수 확인\n",
        "\n",
        "for i in range(torch.cuda.device_count()):\n",
        "    print(torch.cuda.get_device_name(i))  # CUDA 디바이스 이름 출력\n"
      ]
    },
    {
      "cell_type": "code",
      "execution_count": 71,
      "metadata": {
        "colab": {
          "base_uri": "https://localhost:8080/",
          "height": 1000,
          "referenced_widgets": [
            "60b80f8a209748a59667d1f70d8ffe6d",
            "ee5c59cf7e41489d98f00db3291d525c",
            "41483eb9ec864f6b8eda8a329c698bf2",
            "dc2e5e62e08246349dfac12cf336190d",
            "8a3aa72b17474638bc539769dbca8f47",
            "5949726c92c8490cafb31550a4b25b5c",
            "cfd1b48e88c64872ad7396970002df57",
            "57e4975ee047470888cdc83e054d0883",
            "b4bd467fd0724c9a8fa5b17b5d474a34",
            "d8cf4b4cd3664860afec4e8659b7495b",
            "1e5824c23de54f8d935246ed94542859"
          ]
        },
        "id": "h_VO3d-OBrtr",
        "outputId": "52bc4f6f-feb9-424e-8aba-ccea91f63bf1"
      },
      "outputs": [
        {
          "output_type": "stream",
          "name": "stdout",
          "text": [
            "There are 1 GPU(s) available.\n",
            "We will use the GPU: Tesla T4\n",
            "making BERT model for classification\n"
          ]
        },
        {
          "output_type": "display_data",
          "data": {
            "text/plain": [
              "Downloading pytorch_model.bin:   0%|          | 0.00/714M [00:00<?, ?B/s]"
            ],
            "application/vnd.jupyter.widget-view+json": {
              "version_major": 2,
              "version_minor": 0,
              "model_id": "60b80f8a209748a59667d1f70d8ffe6d"
            }
          },
          "metadata": {}
        },
        {
          "output_type": "stream",
          "name": "stderr",
          "text": [
            "Some weights of the model checkpoint at bert-base-multilingual-cased were not used when initializing BertForSequenceClassification: ['cls.predictions.transform.LayerNorm.bias', 'cls.predictions.bias', 'cls.seq_relationship.bias', 'cls.predictions.decoder.weight', 'cls.predictions.transform.dense.weight', 'cls.predictions.transform.dense.bias', 'cls.predictions.transform.LayerNorm.weight', 'cls.seq_relationship.weight']\n",
            "- This IS expected if you are initializing BertForSequenceClassification from the checkpoint of a model trained on another task or with another architecture (e.g. initializing a BertForSequenceClassification model from a BertForPreTraining model).\n",
            "- This IS NOT expected if you are initializing BertForSequenceClassification from the checkpoint of a model that you expect to be exactly identical (initializing a BertForSequenceClassification model from a BertForSequenceClassification model).\n",
            "Some weights of BertForSequenceClassification were not initialized from the model checkpoint at bert-base-multilingual-cased and are newly initialized: ['classifier.bias', 'classifier.weight']\n",
            "You should probably TRAIN this model on a down-stream task to be able to use it for predictions and inference.\n"
          ]
        },
        {
          "output_type": "execute_result",
          "data": {
            "text/plain": [
              "BertForSequenceClassification(\n",
              "  (bert): BertModel(\n",
              "    (embeddings): BertEmbeddings(\n",
              "      (word_embeddings): Embedding(119547, 768, padding_idx=0)\n",
              "      (position_embeddings): Embedding(512, 768)\n",
              "      (token_type_embeddings): Embedding(2, 768)\n",
              "      (LayerNorm): LayerNorm((768,), eps=1e-12, elementwise_affine=True)\n",
              "      (dropout): Dropout(p=0.1, inplace=False)\n",
              "    )\n",
              "    (encoder): BertEncoder(\n",
              "      (layer): ModuleList(\n",
              "        (0-11): 12 x BertLayer(\n",
              "          (attention): BertAttention(\n",
              "            (self): BertSelfAttention(\n",
              "              (query): Linear(in_features=768, out_features=768, bias=True)\n",
              "              (key): Linear(in_features=768, out_features=768, bias=True)\n",
              "              (value): Linear(in_features=768, out_features=768, bias=True)\n",
              "              (dropout): Dropout(p=0.1, inplace=False)\n",
              "            )\n",
              "            (output): BertSelfOutput(\n",
              "              (dense): Linear(in_features=768, out_features=768, bias=True)\n",
              "              (LayerNorm): LayerNorm((768,), eps=1e-12, elementwise_affine=True)\n",
              "              (dropout): Dropout(p=0.1, inplace=False)\n",
              "            )\n",
              "          )\n",
              "          (intermediate): BertIntermediate(\n",
              "            (dense): Linear(in_features=768, out_features=3072, bias=True)\n",
              "            (intermediate_act_fn): GELUActivation()\n",
              "          )\n",
              "          (output): BertOutput(\n",
              "            (dense): Linear(in_features=3072, out_features=768, bias=True)\n",
              "            (LayerNorm): LayerNorm((768,), eps=1e-12, elementwise_affine=True)\n",
              "            (dropout): Dropout(p=0.1, inplace=False)\n",
              "          )\n",
              "        )\n",
              "      )\n",
              "    )\n",
              "    (pooler): BertPooler(\n",
              "      (dense): Linear(in_features=768, out_features=768, bias=True)\n",
              "      (activation): Tanh()\n",
              "    )\n",
              "  )\n",
              "  (dropout): Dropout(p=0.1, inplace=False)\n",
              "  (classifier): Linear(in_features=768, out_features=10, bias=True)\n",
              ")"
            ]
          },
          "metadata": {},
          "execution_count": 71
        }
      ],
      "source": [
        "\n",
        "#GPU 체크 및 할당\n",
        "if torch.cuda.is_available():    \n",
        "    device = torch.device(\"cuda:0\")\n",
        "    print('There are %d GPU(s) available.' % torch.cuda.device_count())\n",
        "    print('We will use the GPU:', torch.cuda.get_device_name(0))\n",
        "else:\n",
        "    device = torch.device(\"cpu\")\n",
        "    print('No GPU available, using the CPU instead.')\n",
        "\n",
        "\n",
        "## 분류를 위한 BERT 모델 생성\n",
        "# transformers 의 BertForSequenceClassification 모듈 이용\n",
        "print('making BERT model for classification')\n",
        "model = BertForSequenceClassification.from_pretrained(\"bert-base-multilingual-cased\", num_labels=10)\n",
        "#model.cuda()\n",
        "model.to(device)"
      ]
    },
    {
      "cell_type": "code",
      "execution_count": 72,
      "metadata": {
        "colab": {
          "base_uri": "https://localhost:8080/"
        },
        "id": "6F_V5hPQCRBV",
        "outputId": "23f77587-d2fd-46a2-a6b4-cc94d4e744ac"
      },
      "outputs": [
        {
          "output_type": "stream",
          "name": "stdout",
          "text": [
            "schedule start\n",
            "train start\n"
          ]
        },
        {
          "output_type": "stream",
          "name": "stderr",
          "text": [
            "/usr/local/lib/python3.10/dist-packages/transformers/optimization.py:407: FutureWarning: This implementation of AdamW is deprecated and will be removed in a future version. Use the PyTorch implementation torch.optim.AdamW instead, or set `no_deprecation_warning=True` to disable this warning\n",
            "  warnings.warn(\n"
          ]
        }
      ],
      "source": [
        "# transformers에서 제공하는 옵티마이저 중 AdamW를 사용\n",
        "# 총 훈련 스텝은 이터레이션 * 에폭 수로 설정\n",
        "# 러닝 레잇 스케쥴러도 transformers에서 제공하는것을 사용\n",
        "print('schedule start')\n",
        "#옵티마이저 설정\n",
        "optimizer = AdamW(model.parameters(),\n",
        "                  lr = 2e-5, # 학습률\n",
        "                  eps = 1e-8 # 0으로 나누는 것을 방지하기 위한 epsilon 값\n",
        "                )\n",
        "\n",
        "# 에폭수\n",
        "epochs = 50\n",
        "\n",
        "# 총 훈련 스텝\n",
        "total_steps = len(train_dataloader) * epochs\n",
        "\n",
        "# lr 조금씩 감소시키는 스케줄러\n",
        "scheduler = get_linear_schedule_with_warmup(optimizer, \n",
        "                                            num_warmup_steps = 0,\n",
        "                                            num_training_steps = total_steps)\n",
        "\n",
        "##학습\n",
        "# accuracy 와 시간 표시함수 정의\n",
        "# 정확도 계산 함수\n",
        "print('train start')\n",
        "def flat_accuracy(preds, labels):\n",
        "    pred_flat = np.argmax(preds, axis=1).flatten()\n",
        "    labels_flat = labels.flatten()\n",
        "    return np.sum(pred_flat == labels_flat) / len(labels_flat)\n",
        "\n",
        "# 시간 표시 함수\n",
        "def format_time(elapsed):\n",
        "    # 반올림\n",
        "    elapsed_rounded = int(round((elapsed)))\n",
        "    # hh:mm:ss으로 형태 변경\n",
        "    return str(datetime.timedelta(seconds=elapsed_rounded))"
      ]
    },
    {
      "cell_type": "code",
      "execution_count": 73,
      "metadata": {
        "colab": {
          "base_uri": "https://localhost:8080/"
        },
        "id": "4R_yL0HsEoum",
        "outputId": "f843ae90-42b5-4487-876c-86e1cad04e7e"
      },
      "outputs": [
        {
          "output_type": "stream",
          "name": "stdout",
          "text": [
            "\n",
            "======== Epoch 1 / 50 ========\n",
            "Training...\n",
            "\n",
            "  Average training loss: 2.25\n",
            "  Training epcoh took: 0:00:27\n",
            "\n",
            "Running Validation...\n",
            "  Accuracy: 0.24\n",
            "  Validation took: 0:00:01\n",
            "\n",
            "======== Epoch 2 / 50 ========\n",
            "Training...\n",
            "\n",
            "  Average training loss: 1.90\n",
            "  Training epcoh took: 0:00:26\n",
            "\n",
            "Running Validation...\n",
            "  Accuracy: 0.39\n",
            "  Validation took: 0:00:01\n",
            "\n",
            "======== Epoch 3 / 50 ========\n",
            "Training...\n",
            "\n",
            "  Average training loss: 1.62\n",
            "  Training epcoh took: 0:00:27\n",
            "\n",
            "Running Validation...\n",
            "  Accuracy: 0.41\n",
            "  Validation took: 0:00:01\n",
            "\n",
            "======== Epoch 4 / 50 ========\n",
            "Training...\n",
            "\n",
            "  Average training loss: 1.40\n",
            "  Training epcoh took: 0:00:29\n",
            "\n",
            "Running Validation...\n",
            "  Accuracy: 0.43\n",
            "  Validation took: 0:00:01\n",
            "\n",
            "======== Epoch 5 / 50 ========\n",
            "Training...\n",
            "\n",
            "  Average training loss: 1.23\n",
            "  Training epcoh took: 0:00:29\n",
            "\n",
            "Running Validation...\n",
            "  Accuracy: 0.43\n",
            "  Validation took: 0:00:01\n",
            "\n",
            "======== Epoch 6 / 50 ========\n",
            "Training...\n",
            "\n",
            "  Average training loss: 1.08\n",
            "  Training epcoh took: 0:00:28\n",
            "\n",
            "Running Validation...\n",
            "  Accuracy: 0.42\n",
            "  Validation took: 0:00:01\n",
            "\n",
            "======== Epoch 7 / 50 ========\n",
            "Training...\n",
            "\n",
            "  Average training loss: 0.96\n",
            "  Training epcoh took: 0:00:29\n",
            "\n",
            "Running Validation...\n",
            "  Accuracy: 0.43\n",
            "  Validation took: 0:00:01\n",
            "\n",
            "======== Epoch 8 / 50 ========\n",
            "Training...\n",
            "\n",
            "  Average training loss: 0.89\n",
            "  Training epcoh took: 0:00:29\n",
            "\n",
            "Running Validation...\n",
            "  Accuracy: 0.40\n",
            "  Validation took: 0:00:01\n",
            "\n",
            "======== Epoch 9 / 50 ========\n",
            "Training...\n",
            "\n",
            "  Average training loss: 0.79\n",
            "  Training epcoh took: 0:00:28\n",
            "\n",
            "Running Validation...\n",
            "  Accuracy: 0.40\n",
            "  Validation took: 0:00:01\n",
            "\n",
            "======== Epoch 10 / 50 ========\n",
            "Training...\n",
            "\n",
            "  Average training loss: 0.74\n",
            "  Training epcoh took: 0:00:28\n",
            "\n",
            "Running Validation...\n",
            "  Accuracy: 0.39\n",
            "  Validation took: 0:00:01\n",
            "\n",
            "======== Epoch 11 / 50 ========\n",
            "Training...\n",
            "\n",
            "  Average training loss: 0.70\n",
            "  Training epcoh took: 0:00:29\n",
            "\n",
            "Running Validation...\n",
            "  Accuracy: 0.39\n",
            "  Validation took: 0:00:01\n",
            "\n",
            "======== Epoch 12 / 50 ========\n",
            "Training...\n",
            "\n",
            "  Average training loss: 0.67\n",
            "  Training epcoh took: 0:00:29\n",
            "\n",
            "Running Validation...\n",
            "  Accuracy: 0.40\n",
            "  Validation took: 0:00:01\n",
            "\n",
            "======== Epoch 13 / 50 ========\n",
            "Training...\n",
            "\n",
            "  Average training loss: 0.63\n",
            "  Training epcoh took: 0:00:29\n",
            "\n",
            "Running Validation...\n",
            "  Accuracy: 0.38\n",
            "  Validation took: 0:00:01\n",
            "\n",
            "======== Epoch 14 / 50 ========\n",
            "Training...\n",
            "\n",
            "  Average training loss: 0.62\n",
            "  Training epcoh took: 0:00:29\n",
            "\n",
            "Running Validation...\n",
            "  Accuracy: 0.39\n",
            "  Validation took: 0:00:01\n",
            "\n",
            "======== Epoch 15 / 50 ========\n",
            "Training...\n",
            "\n",
            "  Average training loss: 0.58\n",
            "  Training epcoh took: 0:00:29\n",
            "\n",
            "Running Validation...\n",
            "  Accuracy: 0.39\n",
            "  Validation took: 0:00:01\n",
            "\n",
            "======== Epoch 16 / 50 ========\n",
            "Training...\n",
            "\n",
            "  Average training loss: 0.54\n",
            "  Training epcoh took: 0:00:28\n",
            "\n",
            "Running Validation...\n",
            "  Accuracy: 0.42\n",
            "  Validation took: 0:00:01\n",
            "\n",
            "======== Epoch 17 / 50 ========\n",
            "Training...\n",
            "\n",
            "  Average training loss: 0.55\n",
            "  Training epcoh took: 0:00:29\n",
            "\n",
            "Running Validation...\n",
            "  Accuracy: 0.37\n",
            "  Validation took: 0:00:01\n",
            "\n",
            "======== Epoch 18 / 50 ========\n",
            "Training...\n",
            "\n",
            "  Average training loss: 0.52\n",
            "  Training epcoh took: 0:00:29\n",
            "\n",
            "Running Validation...\n",
            "  Accuracy: 0.39\n",
            "  Validation took: 0:00:01\n",
            "\n",
            "======== Epoch 19 / 50 ========\n",
            "Training...\n",
            "\n",
            "  Average training loss: 0.52\n",
            "  Training epcoh took: 0:00:29\n",
            "\n",
            "Running Validation...\n",
            "  Accuracy: 0.41\n",
            "  Validation took: 0:00:01\n",
            "\n",
            "======== Epoch 20 / 50 ========\n",
            "Training...\n",
            "\n",
            "  Average training loss: 0.49\n",
            "  Training epcoh took: 0:00:29\n",
            "\n",
            "Running Validation...\n",
            "  Accuracy: 0.39\n",
            "  Validation took: 0:00:01\n",
            "\n",
            "======== Epoch 21 / 50 ========\n",
            "Training...\n",
            "\n",
            "  Average training loss: 0.49\n",
            "  Training epcoh took: 0:00:29\n",
            "\n",
            "Running Validation...\n",
            "  Accuracy: 0.42\n",
            "  Validation took: 0:00:01\n",
            "\n",
            "======== Epoch 22 / 50 ========\n",
            "Training...\n",
            "\n",
            "  Average training loss: 0.47\n",
            "  Training epcoh took: 0:00:29\n",
            "\n",
            "Running Validation...\n",
            "  Accuracy: 0.39\n",
            "  Validation took: 0:00:01\n",
            "\n",
            "======== Epoch 23 / 50 ========\n",
            "Training...\n",
            "\n",
            "  Average training loss: 0.46\n",
            "  Training epcoh took: 0:00:29\n",
            "\n",
            "Running Validation...\n",
            "  Accuracy: 0.39\n",
            "  Validation took: 0:00:01\n",
            "\n",
            "======== Epoch 24 / 50 ========\n",
            "Training...\n",
            "\n",
            "  Average training loss: 0.45\n",
            "  Training epcoh took: 0:00:29\n",
            "\n",
            "Running Validation...\n",
            "  Accuracy: 0.39\n",
            "  Validation took: 0:00:01\n",
            "\n",
            "======== Epoch 25 / 50 ========\n",
            "Training...\n",
            "\n",
            "  Average training loss: 0.44\n",
            "  Training epcoh took: 0:00:29\n",
            "\n",
            "Running Validation...\n",
            "  Accuracy: 0.39\n",
            "  Validation took: 0:00:01\n",
            "\n",
            "======== Epoch 26 / 50 ========\n",
            "Training...\n",
            "\n",
            "  Average training loss: 0.45\n",
            "  Training epcoh took: 0:00:29\n",
            "\n",
            "Running Validation...\n",
            "  Accuracy: 0.37\n",
            "  Validation took: 0:00:01\n",
            "\n",
            "======== Epoch 27 / 50 ========\n",
            "Training...\n",
            "\n",
            "  Average training loss: 0.42\n",
            "  Training epcoh took: 0:00:29\n",
            "\n",
            "Running Validation...\n",
            "  Accuracy: 0.39\n",
            "  Validation took: 0:00:01\n",
            "\n",
            "======== Epoch 28 / 50 ========\n",
            "Training...\n",
            "\n",
            "  Average training loss: 0.41\n",
            "  Training epcoh took: 0:00:29\n",
            "\n",
            "Running Validation...\n",
            "  Accuracy: 0.36\n",
            "  Validation took: 0:00:01\n",
            "\n",
            "======== Epoch 29 / 50 ========\n",
            "Training...\n",
            "\n",
            "  Average training loss: 0.42\n",
            "  Training epcoh took: 0:00:29\n",
            "\n",
            "Running Validation...\n",
            "  Accuracy: 0.38\n",
            "  Validation took: 0:00:01\n",
            "\n",
            "======== Epoch 30 / 50 ========\n",
            "Training...\n",
            "\n",
            "  Average training loss: 0.39\n",
            "  Training epcoh took: 0:00:29\n",
            "\n",
            "Running Validation...\n",
            "  Accuracy: 0.38\n",
            "  Validation took: 0:00:01\n",
            "\n",
            "======== Epoch 31 / 50 ========\n",
            "Training...\n",
            "\n",
            "  Average training loss: 0.40\n",
            "  Training epcoh took: 0:00:29\n",
            "\n",
            "Running Validation...\n",
            "  Accuracy: 0.37\n",
            "  Validation took: 0:00:01\n",
            "\n",
            "======== Epoch 32 / 50 ========\n",
            "Training...\n",
            "\n",
            "  Average training loss: 0.40\n",
            "  Training epcoh took: 0:00:29\n",
            "\n",
            "Running Validation...\n",
            "  Accuracy: 0.36\n",
            "  Validation took: 0:00:01\n",
            "\n",
            "======== Epoch 33 / 50 ========\n",
            "Training...\n",
            "\n",
            "  Average training loss: 0.39\n",
            "  Training epcoh took: 0:00:29\n",
            "\n",
            "Running Validation...\n",
            "  Accuracy: 0.37\n",
            "  Validation took: 0:00:01\n",
            "\n",
            "======== Epoch 34 / 50 ========\n",
            "Training...\n",
            "\n",
            "  Average training loss: 0.38\n",
            "  Training epcoh took: 0:00:28\n",
            "\n",
            "Running Validation...\n",
            "  Accuracy: 0.36\n",
            "  Validation took: 0:00:01\n",
            "\n",
            "======== Epoch 35 / 50 ========\n",
            "Training...\n",
            "\n",
            "  Average training loss: 0.38\n",
            "  Training epcoh took: 0:00:29\n",
            "\n",
            "Running Validation...\n",
            "  Accuracy: 0.35\n",
            "  Validation took: 0:00:01\n",
            "\n",
            "======== Epoch 36 / 50 ========\n",
            "Training...\n",
            "\n",
            "  Average training loss: 0.37\n",
            "  Training epcoh took: 0:00:29\n",
            "\n",
            "Running Validation...\n",
            "  Accuracy: 0.36\n",
            "  Validation took: 0:00:01\n",
            "\n",
            "======== Epoch 37 / 50 ========\n",
            "Training...\n",
            "\n",
            "  Average training loss: 0.37\n",
            "  Training epcoh took: 0:00:29\n",
            "\n",
            "Running Validation...\n",
            "  Accuracy: 0.34\n",
            "  Validation took: 0:00:01\n",
            "\n",
            "======== Epoch 38 / 50 ========\n",
            "Training...\n",
            "\n",
            "  Average training loss: 0.36\n",
            "  Training epcoh took: 0:00:29\n",
            "\n",
            "Running Validation...\n",
            "  Accuracy: 0.37\n",
            "  Validation took: 0:00:01\n",
            "\n",
            "======== Epoch 39 / 50 ========\n",
            "Training...\n",
            "\n",
            "  Average training loss: 0.36\n",
            "  Training epcoh took: 0:00:29\n",
            "\n",
            "Running Validation...\n",
            "  Accuracy: 0.36\n",
            "  Validation took: 0:00:01\n",
            "\n",
            "======== Epoch 40 / 50 ========\n",
            "Training...\n",
            "\n",
            "  Average training loss: 0.35\n",
            "  Training epcoh took: 0:00:29\n",
            "\n",
            "Running Validation...\n",
            "  Accuracy: 0.35\n",
            "  Validation took: 0:00:01\n",
            "\n",
            "======== Epoch 41 / 50 ========\n",
            "Training...\n",
            "\n",
            "  Average training loss: 0.35\n",
            "  Training epcoh took: 0:00:29\n",
            "\n",
            "Running Validation...\n",
            "  Accuracy: 0.36\n",
            "  Validation took: 0:00:01\n",
            "\n",
            "======== Epoch 42 / 50 ========\n",
            "Training...\n",
            "\n",
            "  Average training loss: 0.35\n",
            "  Training epcoh took: 0:00:29\n",
            "\n",
            "Running Validation...\n",
            "  Accuracy: 0.35\n",
            "  Validation took: 0:00:01\n",
            "\n",
            "======== Epoch 43 / 50 ========\n",
            "Training...\n",
            "\n",
            "  Average training loss: 0.34\n",
            "  Training epcoh took: 0:00:29\n",
            "\n",
            "Running Validation...\n",
            "  Accuracy: 0.36\n",
            "  Validation took: 0:00:01\n",
            "\n",
            "======== Epoch 44 / 50 ========\n",
            "Training...\n",
            "\n",
            "  Average training loss: 0.34\n",
            "  Training epcoh took: 0:00:29\n",
            "\n",
            "Running Validation...\n",
            "  Accuracy: 0.36\n",
            "  Validation took: 0:00:01\n",
            "\n",
            "======== Epoch 45 / 50 ========\n",
            "Training...\n",
            "\n",
            "  Average training loss: 0.34\n",
            "  Training epcoh took: 0:00:29\n",
            "\n",
            "Running Validation...\n",
            "  Accuracy: 0.37\n",
            "  Validation took: 0:00:01\n",
            "\n",
            "======== Epoch 46 / 50 ========\n",
            "Training...\n",
            "\n",
            "  Average training loss: 0.33\n",
            "  Training epcoh took: 0:00:29\n",
            "\n",
            "Running Validation...\n",
            "  Accuracy: 0.37\n",
            "  Validation took: 0:00:01\n",
            "\n",
            "======== Epoch 47 / 50 ========\n",
            "Training...\n",
            "\n",
            "  Average training loss: 0.33\n",
            "  Training epcoh took: 0:00:29\n",
            "\n",
            "Running Validation...\n",
            "  Accuracy: 0.36\n",
            "  Validation took: 0:00:01\n",
            "\n",
            "======== Epoch 48 / 50 ========\n",
            "Training...\n",
            "\n",
            "  Average training loss: 0.33\n",
            "  Training epcoh took: 0:00:29\n",
            "\n",
            "Running Validation...\n",
            "  Accuracy: 0.36\n",
            "  Validation took: 0:00:01\n",
            "\n",
            "======== Epoch 49 / 50 ========\n",
            "Training...\n",
            "\n",
            "  Average training loss: 0.32\n",
            "  Training epcoh took: 0:00:29\n",
            "\n",
            "Running Validation...\n",
            "  Accuracy: 0.36\n",
            "  Validation took: 0:00:01\n",
            "\n",
            "======== Epoch 50 / 50 ========\n",
            "Training...\n",
            "\n",
            "  Average training loss: 0.31\n",
            "  Training epcoh took: 0:00:29\n",
            "\n",
            "Running Validation...\n",
            "  Accuracy: 0.36\n",
            "  Validation took: 0:00:01\n",
            "\n",
            "Training complete!\n",
            "\n"
          ]
        }
      ],
      "source": [
        "# 데이터로더에서 배치만큼 가져온 후 forward, backward pass를 수행\n",
        "# gradient update는 명시적으로 하지 않고 위에서 로드한 optimizer를 활용\n",
        "# 재현을 위해 랜덤시드 고정\n",
        "# 모든 Epoch를 학습하면 학습이 종료\n",
        "\n",
        "seed_val = 42\n",
        "random.seed(seed_val)\n",
        "np.random.seed(seed_val)\n",
        "torch.manual_seed(seed_val)\n",
        "torch.cuda.manual_seed_all(seed_val)\n",
        "\n",
        "# 그래디언트 초기화\n",
        "model.zero_grad()\n",
        "\n",
        "# 에폭만큼 반복\n",
        "for epoch_i in range(0, epochs):\n",
        "    \n",
        "    # ========================================\n",
        "    #               Training\n",
        "    # ========================================\n",
        "    \n",
        "    print(\"\")\n",
        "    print('======== Epoch {:} / {:} ========'.format(epoch_i + 1, epochs))\n",
        "    print('Training...')\n",
        "\n",
        "    # 시작 시간 설정\n",
        "    t0 = time.time()\n",
        "\n",
        "    # 로스 초기화\n",
        "    total_loss = 0\n",
        "\n",
        "    # 훈련모드로 변경\n",
        "    model.train()\n",
        "        \n",
        "    # 데이터로더에서 배치만큼 반복하여 가져옴\n",
        "    for step, batch in enumerate(train_dataloader):\n",
        "        # 경과 정보 표시\n",
        "        if step % 500 == 0 and not step == 0:\n",
        "            elapsed = format_time(time.time() - t0)\n",
        "            print('  Batch {:>5,}  of  {:>5,}.    Elapsed: {:}.'.format(step, len(train_dataloader), elapsed))\n",
        "\n",
        "        # 배치를 GPU에 넣음\n",
        "        batch = tuple(t.to(device) for t in batch)\n",
        "        \n",
        "        # 배치에서 데이터 추출\n",
        "        b_input_ids, b_input_mask, b_labels = batch\n",
        "\n",
        "        # Forward 수행                \n",
        "        outputs = model(b_input_ids, \n",
        "                        token_type_ids=None, \n",
        "                        attention_mask=b_input_mask, \n",
        "                        labels=b_labels)\n",
        "        \n",
        "        # 로스 구함\n",
        "        loss = outputs[0]\n",
        "\n",
        "        # 총 로스 계산\n",
        "        total_loss += loss.item()\n",
        "\n",
        "        # Backward 수행으로 그래디언트 계산\n",
        "        loss.backward()\n",
        "\n",
        "        # 그래디언트 클리핑\n",
        "        torch.nn.utils.clip_grad_norm_(model.parameters(), 1.0)\n",
        "\n",
        "        # 그래디언트를 통해 가중치 파라미터 업데이트\n",
        "        optimizer.step()\n",
        "\n",
        "        # 스케줄러로 학습률 감소\n",
        "        scheduler.step()\n",
        "\n",
        "        # 그래디언트 초기화\n",
        "        model.zero_grad()\n",
        "\n",
        "    # 평균 로스 계산\n",
        "    avg_train_loss = total_loss / len(train_dataloader)            \n",
        "\n",
        "    print(\"\")\n",
        "    print(\"  Average training loss: {0:.2f}\".format(avg_train_loss))\n",
        "    print(\"  Training epcoh took: {:}\".format(format_time(time.time() - t0)))\n",
        "        \n",
        "    # ========================================\n",
        "    #               Validation\n",
        "    # ========================================\n",
        "\n",
        "    print(\"\")\n",
        "    print(\"Running Validation...\")\n",
        "\n",
        "    #시작 시간 설정\n",
        "    t0 = time.time()\n",
        "\n",
        "    # 평가모드로 변경\n",
        "    model.eval()\n",
        "\n",
        "    # 변수 초기화\n",
        "    eval_loss, eval_accuracy = 0, 0\n",
        "    nb_eval_steps, nb_eval_examples = 0, 0\n",
        "\n",
        "    # 데이터로더에서 배치만큼 반복하여 가져옴\n",
        "    for batch in validation_dataloader:\n",
        "        # 배치를 GPU에 넣음\n",
        "        batch = tuple(t.to(device) for t in batch)\n",
        "        \n",
        "        # 배치에서 데이터 추출\n",
        "        b_input_ids, b_input_mask, b_labels = batch\n",
        "        \n",
        "        # 그래디언트 계산 안함\n",
        "        with torch.no_grad():     \n",
        "            # Forward 수행\n",
        "            outputs = model(b_input_ids, \n",
        "                            token_type_ids=None, \n",
        "                            attention_mask=b_input_mask)\n",
        "        \n",
        "        # 로스 구함\n",
        "        logits = outputs[0]\n",
        "\n",
        "        # CPU로 데이터 이동\n",
        "        logits = logits.detach().cpu().numpy()\n",
        "        label_ids = b_labels.to('cpu').numpy()\n",
        "        \n",
        "        # 출력 로짓과 라벨을 비교하여 정확도 계산\n",
        "        tmp_eval_accuracy = flat_accuracy(logits, label_ids)\n",
        "        eval_accuracy += tmp_eval_accuracy\n",
        "        nb_eval_steps += 1\n",
        "\n",
        "    print(\"  Accuracy: {0:.2f}\".format(eval_accuracy/nb_eval_steps))\n",
        "    print(\"  Validation took: {:}\".format(format_time(time.time() - t0)))\n",
        "\n",
        "print(\"\")\n",
        "print(\"Training complete!\")\n",
        "print(\"\")"
      ]
    },
    {
      "cell_type": "code",
      "execution_count": 74,
      "metadata": {
        "colab": {
          "base_uri": "https://localhost:8080/"
        },
        "id": "KpRlCwcXEtU2",
        "outputId": "174723d7-eeda-4048-b618-eceaf298e8b4"
      },
      "outputs": [
        {
          "output_type": "stream",
          "name": "stdout",
          "text": [
            "test start\n",
            "\n",
            "Accuracy: 0.38\n",
            "Test took: 0:00:03\n",
            "test finished!\n"
          ]
        }
      ],
      "source": [
        "print('test start')\n",
        "#시작 시간 설정\n",
        "t0 = time.time()\n",
        "\n",
        "# 평가모드로 변경\n",
        "model.eval()\n",
        "\n",
        "# 변수 초기화\n",
        "eval_loss, eval_accuracy = 0, 0\n",
        "nb_eval_steps, nb_eval_examples = 0, 0\n",
        "\n",
        "# 데이터로더에서 배치만큼 반복하여 가져옴\n",
        "for step, batch in enumerate(test_dataloader):\n",
        "    # 경과 정보 표시\n",
        "    if step % 100 == 0 and not step == 0:\n",
        "        elapsed = format_time(time.time() - t0)\n",
        "        print('  Batch {:>5,}  of  {:>5,}.    Elapsed: {:}.'.format(step, len(test_dataloader), elapsed))\n",
        "\n",
        "    # 배치를 GPU에 넣음\n",
        "    batch = tuple(t.to(device) for t in batch)\n",
        "    \n",
        "    # 배치에서 데이터 추출\n",
        "    b_input_ids, b_input_mask, b_labels = batch\n",
        "    \n",
        "    # 그래디언트 계산 안함\n",
        "    with torch.no_grad():     \n",
        "        # Forward 수행\n",
        "        outputs = model(b_input_ids, \n",
        "                        token_type_ids=None, \n",
        "                        attention_mask=b_input_mask)\n",
        "    \n",
        "    # 로스 구함\n",
        "    logits = outputs[0]\n",
        "\n",
        "    # CPU로 데이터 이동\n",
        "    logits = logits.detach().cpu().numpy()\n",
        "    label_ids = b_labels.to('cpu').numpy()\n",
        "    \n",
        "    # 출력 로짓과 라벨을 비교하여 정확도 계산\n",
        "    tmp_eval_accuracy = flat_accuracy(logits, label_ids)\n",
        "    eval_accuracy += tmp_eval_accuracy\n",
        "    nb_eval_steps += 1\n",
        "\n",
        "print(\"\")\n",
        "print(\"Accuracy: {0:.2f}\".format(eval_accuracy/nb_eval_steps))\n",
        "print(\"Test took: {:}\".format(format_time(time.time() - t0)))\n",
        "print(\"test finished!\")"
      ]
    },
    {
      "cell_type": "code",
      "execution_count": null,
      "metadata": {
        "colab": {
          "background_save": true
        },
        "id": "y7wS1MLoE8Vd"
      },
      "outputs": [],
      "source": []
    }
  ],
  "metadata": {
    "accelerator": "GPU",
    "colab": {
      "machine_shape": "hm",
      "provenance": [],
      "authorship_tag": "ABX9TyMg5Fp/EvLWPUjGjyu03itD",
      "include_colab_link": true
    },
    "gpuClass": "standard",
    "kernelspec": {
      "display_name": "Python 3",
      "name": "python3"
    },
    "language_info": {
      "name": "python"
    },
    "widgets": {
      "application/vnd.jupyter.widget-state+json": {
        "86e09639056745ac93d930b15b18ac80": {
          "model_module": "@jupyter-widgets/controls",
          "model_name": "HBoxModel",
          "model_module_version": "1.5.0",
          "state": {
            "_dom_classes": [],
            "_model_module": "@jupyter-widgets/controls",
            "_model_module_version": "1.5.0",
            "_model_name": "HBoxModel",
            "_view_count": null,
            "_view_module": "@jupyter-widgets/controls",
            "_view_module_version": "1.5.0",
            "_view_name": "HBoxView",
            "box_style": "",
            "children": [
              "IPY_MODEL_1f8dbacf21ae49cba7f30e56d06f1e9e",
              "IPY_MODEL_87d54d79e12c4592a6549e34621c3470",
              "IPY_MODEL_13f94b7631384cedafd26629207b02e5"
            ],
            "layout": "IPY_MODEL_8f87da18c0db4adb98b969ba6732af29"
          }
        },
        "1f8dbacf21ae49cba7f30e56d06f1e9e": {
          "model_module": "@jupyter-widgets/controls",
          "model_name": "HTMLModel",
          "model_module_version": "1.5.0",
          "state": {
            "_dom_classes": [],
            "_model_module": "@jupyter-widgets/controls",
            "_model_module_version": "1.5.0",
            "_model_name": "HTMLModel",
            "_view_count": null,
            "_view_module": "@jupyter-widgets/controls",
            "_view_module_version": "1.5.0",
            "_view_name": "HTMLView",
            "description": "",
            "description_tooltip": null,
            "layout": "IPY_MODEL_b011be1324424c0989174b6b31529987",
            "placeholder": "​",
            "style": "IPY_MODEL_975073cea6d2442087fce45dd805eb35",
            "value": "Downloading (…)solve/main/vocab.txt: 100%"
          }
        },
        "87d54d79e12c4592a6549e34621c3470": {
          "model_module": "@jupyter-widgets/controls",
          "model_name": "FloatProgressModel",
          "model_module_version": "1.5.0",
          "state": {
            "_dom_classes": [],
            "_model_module": "@jupyter-widgets/controls",
            "_model_module_version": "1.5.0",
            "_model_name": "FloatProgressModel",
            "_view_count": null,
            "_view_module": "@jupyter-widgets/controls",
            "_view_module_version": "1.5.0",
            "_view_name": "ProgressView",
            "bar_style": "success",
            "description": "",
            "description_tooltip": null,
            "layout": "IPY_MODEL_1525ca8180954011bc80b5cb01aa618d",
            "max": 995526,
            "min": 0,
            "orientation": "horizontal",
            "style": "IPY_MODEL_0b59293947744b55ac03362fdd78fba4",
            "value": 995526
          }
        },
        "13f94b7631384cedafd26629207b02e5": {
          "model_module": "@jupyter-widgets/controls",
          "model_name": "HTMLModel",
          "model_module_version": "1.5.0",
          "state": {
            "_dom_classes": [],
            "_model_module": "@jupyter-widgets/controls",
            "_model_module_version": "1.5.0",
            "_model_name": "HTMLModel",
            "_view_count": null,
            "_view_module": "@jupyter-widgets/controls",
            "_view_module_version": "1.5.0",
            "_view_name": "HTMLView",
            "description": "",
            "description_tooltip": null,
            "layout": "IPY_MODEL_4544bd8b04c04405ad8845bef6a34554",
            "placeholder": "​",
            "style": "IPY_MODEL_ebb5600c5b4a4f99bb393b41682250cf",
            "value": " 996k/996k [00:00&lt;00:00, 2.31MB/s]"
          }
        },
        "8f87da18c0db4adb98b969ba6732af29": {
          "model_module": "@jupyter-widgets/base",
          "model_name": "LayoutModel",
          "model_module_version": "1.2.0",
          "state": {
            "_model_module": "@jupyter-widgets/base",
            "_model_module_version": "1.2.0",
            "_model_name": "LayoutModel",
            "_view_count": null,
            "_view_module": "@jupyter-widgets/base",
            "_view_module_version": "1.2.0",
            "_view_name": "LayoutView",
            "align_content": null,
            "align_items": null,
            "align_self": null,
            "border": null,
            "bottom": null,
            "display": null,
            "flex": null,
            "flex_flow": null,
            "grid_area": null,
            "grid_auto_columns": null,
            "grid_auto_flow": null,
            "grid_auto_rows": null,
            "grid_column": null,
            "grid_gap": null,
            "grid_row": null,
            "grid_template_areas": null,
            "grid_template_columns": null,
            "grid_template_rows": null,
            "height": null,
            "justify_content": null,
            "justify_items": null,
            "left": null,
            "margin": null,
            "max_height": null,
            "max_width": null,
            "min_height": null,
            "min_width": null,
            "object_fit": null,
            "object_position": null,
            "order": null,
            "overflow": null,
            "overflow_x": null,
            "overflow_y": null,
            "padding": null,
            "right": null,
            "top": null,
            "visibility": null,
            "width": null
          }
        },
        "b011be1324424c0989174b6b31529987": {
          "model_module": "@jupyter-widgets/base",
          "model_name": "LayoutModel",
          "model_module_version": "1.2.0",
          "state": {
            "_model_module": "@jupyter-widgets/base",
            "_model_module_version": "1.2.0",
            "_model_name": "LayoutModel",
            "_view_count": null,
            "_view_module": "@jupyter-widgets/base",
            "_view_module_version": "1.2.0",
            "_view_name": "LayoutView",
            "align_content": null,
            "align_items": null,
            "align_self": null,
            "border": null,
            "bottom": null,
            "display": null,
            "flex": null,
            "flex_flow": null,
            "grid_area": null,
            "grid_auto_columns": null,
            "grid_auto_flow": null,
            "grid_auto_rows": null,
            "grid_column": null,
            "grid_gap": null,
            "grid_row": null,
            "grid_template_areas": null,
            "grid_template_columns": null,
            "grid_template_rows": null,
            "height": null,
            "justify_content": null,
            "justify_items": null,
            "left": null,
            "margin": null,
            "max_height": null,
            "max_width": null,
            "min_height": null,
            "min_width": null,
            "object_fit": null,
            "object_position": null,
            "order": null,
            "overflow": null,
            "overflow_x": null,
            "overflow_y": null,
            "padding": null,
            "right": null,
            "top": null,
            "visibility": null,
            "width": null
          }
        },
        "975073cea6d2442087fce45dd805eb35": {
          "model_module": "@jupyter-widgets/controls",
          "model_name": "DescriptionStyleModel",
          "model_module_version": "1.5.0",
          "state": {
            "_model_module": "@jupyter-widgets/controls",
            "_model_module_version": "1.5.0",
            "_model_name": "DescriptionStyleModel",
            "_view_count": null,
            "_view_module": "@jupyter-widgets/base",
            "_view_module_version": "1.2.0",
            "_view_name": "StyleView",
            "description_width": ""
          }
        },
        "1525ca8180954011bc80b5cb01aa618d": {
          "model_module": "@jupyter-widgets/base",
          "model_name": "LayoutModel",
          "model_module_version": "1.2.0",
          "state": {
            "_model_module": "@jupyter-widgets/base",
            "_model_module_version": "1.2.0",
            "_model_name": "LayoutModel",
            "_view_count": null,
            "_view_module": "@jupyter-widgets/base",
            "_view_module_version": "1.2.0",
            "_view_name": "LayoutView",
            "align_content": null,
            "align_items": null,
            "align_self": null,
            "border": null,
            "bottom": null,
            "display": null,
            "flex": null,
            "flex_flow": null,
            "grid_area": null,
            "grid_auto_columns": null,
            "grid_auto_flow": null,
            "grid_auto_rows": null,
            "grid_column": null,
            "grid_gap": null,
            "grid_row": null,
            "grid_template_areas": null,
            "grid_template_columns": null,
            "grid_template_rows": null,
            "height": null,
            "justify_content": null,
            "justify_items": null,
            "left": null,
            "margin": null,
            "max_height": null,
            "max_width": null,
            "min_height": null,
            "min_width": null,
            "object_fit": null,
            "object_position": null,
            "order": null,
            "overflow": null,
            "overflow_x": null,
            "overflow_y": null,
            "padding": null,
            "right": null,
            "top": null,
            "visibility": null,
            "width": null
          }
        },
        "0b59293947744b55ac03362fdd78fba4": {
          "model_module": "@jupyter-widgets/controls",
          "model_name": "ProgressStyleModel",
          "model_module_version": "1.5.0",
          "state": {
            "_model_module": "@jupyter-widgets/controls",
            "_model_module_version": "1.5.0",
            "_model_name": "ProgressStyleModel",
            "_view_count": null,
            "_view_module": "@jupyter-widgets/base",
            "_view_module_version": "1.2.0",
            "_view_name": "StyleView",
            "bar_color": null,
            "description_width": ""
          }
        },
        "4544bd8b04c04405ad8845bef6a34554": {
          "model_module": "@jupyter-widgets/base",
          "model_name": "LayoutModel",
          "model_module_version": "1.2.0",
          "state": {
            "_model_module": "@jupyter-widgets/base",
            "_model_module_version": "1.2.0",
            "_model_name": "LayoutModel",
            "_view_count": null,
            "_view_module": "@jupyter-widgets/base",
            "_view_module_version": "1.2.0",
            "_view_name": "LayoutView",
            "align_content": null,
            "align_items": null,
            "align_self": null,
            "border": null,
            "bottom": null,
            "display": null,
            "flex": null,
            "flex_flow": null,
            "grid_area": null,
            "grid_auto_columns": null,
            "grid_auto_flow": null,
            "grid_auto_rows": null,
            "grid_column": null,
            "grid_gap": null,
            "grid_row": null,
            "grid_template_areas": null,
            "grid_template_columns": null,
            "grid_template_rows": null,
            "height": null,
            "justify_content": null,
            "justify_items": null,
            "left": null,
            "margin": null,
            "max_height": null,
            "max_width": null,
            "min_height": null,
            "min_width": null,
            "object_fit": null,
            "object_position": null,
            "order": null,
            "overflow": null,
            "overflow_x": null,
            "overflow_y": null,
            "padding": null,
            "right": null,
            "top": null,
            "visibility": null,
            "width": null
          }
        },
        "ebb5600c5b4a4f99bb393b41682250cf": {
          "model_module": "@jupyter-widgets/controls",
          "model_name": "DescriptionStyleModel",
          "model_module_version": "1.5.0",
          "state": {
            "_model_module": "@jupyter-widgets/controls",
            "_model_module_version": "1.5.0",
            "_model_name": "DescriptionStyleModel",
            "_view_count": null,
            "_view_module": "@jupyter-widgets/base",
            "_view_module_version": "1.2.0",
            "_view_name": "StyleView",
            "description_width": ""
          }
        },
        "b5f7b0f77d39443ba8714dca8ad12d2b": {
          "model_module": "@jupyter-widgets/controls",
          "model_name": "HBoxModel",
          "model_module_version": "1.5.0",
          "state": {
            "_dom_classes": [],
            "_model_module": "@jupyter-widgets/controls",
            "_model_module_version": "1.5.0",
            "_model_name": "HBoxModel",
            "_view_count": null,
            "_view_module": "@jupyter-widgets/controls",
            "_view_module_version": "1.5.0",
            "_view_name": "HBoxView",
            "box_style": "",
            "children": [
              "IPY_MODEL_f4c87e51a3a748bd90e2a74c1a61ca1d",
              "IPY_MODEL_4c0cd0e4ed2140e18efe6615efff546f",
              "IPY_MODEL_5e0d6d3b79f74a68b366a403070b4183"
            ],
            "layout": "IPY_MODEL_f238ee7d227f42b1aea18d7d4e1c90d3"
          }
        },
        "f4c87e51a3a748bd90e2a74c1a61ca1d": {
          "model_module": "@jupyter-widgets/controls",
          "model_name": "HTMLModel",
          "model_module_version": "1.5.0",
          "state": {
            "_dom_classes": [],
            "_model_module": "@jupyter-widgets/controls",
            "_model_module_version": "1.5.0",
            "_model_name": "HTMLModel",
            "_view_count": null,
            "_view_module": "@jupyter-widgets/controls",
            "_view_module_version": "1.5.0",
            "_view_name": "HTMLView",
            "description": "",
            "description_tooltip": null,
            "layout": "IPY_MODEL_b824ba6c7987447c86ec65e68db3d638",
            "placeholder": "​",
            "style": "IPY_MODEL_47680ee37d274e15b3b845e1d5966fc3",
            "value": "Downloading (…)okenizer_config.json: 100%"
          }
        },
        "4c0cd0e4ed2140e18efe6615efff546f": {
          "model_module": "@jupyter-widgets/controls",
          "model_name": "FloatProgressModel",
          "model_module_version": "1.5.0",
          "state": {
            "_dom_classes": [],
            "_model_module": "@jupyter-widgets/controls",
            "_model_module_version": "1.5.0",
            "_model_name": "FloatProgressModel",
            "_view_count": null,
            "_view_module": "@jupyter-widgets/controls",
            "_view_module_version": "1.5.0",
            "_view_name": "ProgressView",
            "bar_style": "success",
            "description": "",
            "description_tooltip": null,
            "layout": "IPY_MODEL_000e07694138463ab5e1d6d24c8f7f96",
            "max": 29,
            "min": 0,
            "orientation": "horizontal",
            "style": "IPY_MODEL_2902c1a57ba14f688de8383e8c94c8d1",
            "value": 29
          }
        },
        "5e0d6d3b79f74a68b366a403070b4183": {
          "model_module": "@jupyter-widgets/controls",
          "model_name": "HTMLModel",
          "model_module_version": "1.5.0",
          "state": {
            "_dom_classes": [],
            "_model_module": "@jupyter-widgets/controls",
            "_model_module_version": "1.5.0",
            "_model_name": "HTMLModel",
            "_view_count": null,
            "_view_module": "@jupyter-widgets/controls",
            "_view_module_version": "1.5.0",
            "_view_name": "HTMLView",
            "description": "",
            "description_tooltip": null,
            "layout": "IPY_MODEL_23c6414042f841b292f98ee0189493d2",
            "placeholder": "​",
            "style": "IPY_MODEL_636db5ff29c540a9aaf56bfebcb09389",
            "value": " 29.0/29.0 [00:00&lt;00:00, 2.52kB/s]"
          }
        },
        "f238ee7d227f42b1aea18d7d4e1c90d3": {
          "model_module": "@jupyter-widgets/base",
          "model_name": "LayoutModel",
          "model_module_version": "1.2.0",
          "state": {
            "_model_module": "@jupyter-widgets/base",
            "_model_module_version": "1.2.0",
            "_model_name": "LayoutModel",
            "_view_count": null,
            "_view_module": "@jupyter-widgets/base",
            "_view_module_version": "1.2.0",
            "_view_name": "LayoutView",
            "align_content": null,
            "align_items": null,
            "align_self": null,
            "border": null,
            "bottom": null,
            "display": null,
            "flex": null,
            "flex_flow": null,
            "grid_area": null,
            "grid_auto_columns": null,
            "grid_auto_flow": null,
            "grid_auto_rows": null,
            "grid_column": null,
            "grid_gap": null,
            "grid_row": null,
            "grid_template_areas": null,
            "grid_template_columns": null,
            "grid_template_rows": null,
            "height": null,
            "justify_content": null,
            "justify_items": null,
            "left": null,
            "margin": null,
            "max_height": null,
            "max_width": null,
            "min_height": null,
            "min_width": null,
            "object_fit": null,
            "object_position": null,
            "order": null,
            "overflow": null,
            "overflow_x": null,
            "overflow_y": null,
            "padding": null,
            "right": null,
            "top": null,
            "visibility": null,
            "width": null
          }
        },
        "b824ba6c7987447c86ec65e68db3d638": {
          "model_module": "@jupyter-widgets/base",
          "model_name": "LayoutModel",
          "model_module_version": "1.2.0",
          "state": {
            "_model_module": "@jupyter-widgets/base",
            "_model_module_version": "1.2.0",
            "_model_name": "LayoutModel",
            "_view_count": null,
            "_view_module": "@jupyter-widgets/base",
            "_view_module_version": "1.2.0",
            "_view_name": "LayoutView",
            "align_content": null,
            "align_items": null,
            "align_self": null,
            "border": null,
            "bottom": null,
            "display": null,
            "flex": null,
            "flex_flow": null,
            "grid_area": null,
            "grid_auto_columns": null,
            "grid_auto_flow": null,
            "grid_auto_rows": null,
            "grid_column": null,
            "grid_gap": null,
            "grid_row": null,
            "grid_template_areas": null,
            "grid_template_columns": null,
            "grid_template_rows": null,
            "height": null,
            "justify_content": null,
            "justify_items": null,
            "left": null,
            "margin": null,
            "max_height": null,
            "max_width": null,
            "min_height": null,
            "min_width": null,
            "object_fit": null,
            "object_position": null,
            "order": null,
            "overflow": null,
            "overflow_x": null,
            "overflow_y": null,
            "padding": null,
            "right": null,
            "top": null,
            "visibility": null,
            "width": null
          }
        },
        "47680ee37d274e15b3b845e1d5966fc3": {
          "model_module": "@jupyter-widgets/controls",
          "model_name": "DescriptionStyleModel",
          "model_module_version": "1.5.0",
          "state": {
            "_model_module": "@jupyter-widgets/controls",
            "_model_module_version": "1.5.0",
            "_model_name": "DescriptionStyleModel",
            "_view_count": null,
            "_view_module": "@jupyter-widgets/base",
            "_view_module_version": "1.2.0",
            "_view_name": "StyleView",
            "description_width": ""
          }
        },
        "000e07694138463ab5e1d6d24c8f7f96": {
          "model_module": "@jupyter-widgets/base",
          "model_name": "LayoutModel",
          "model_module_version": "1.2.0",
          "state": {
            "_model_module": "@jupyter-widgets/base",
            "_model_module_version": "1.2.0",
            "_model_name": "LayoutModel",
            "_view_count": null,
            "_view_module": "@jupyter-widgets/base",
            "_view_module_version": "1.2.0",
            "_view_name": "LayoutView",
            "align_content": null,
            "align_items": null,
            "align_self": null,
            "border": null,
            "bottom": null,
            "display": null,
            "flex": null,
            "flex_flow": null,
            "grid_area": null,
            "grid_auto_columns": null,
            "grid_auto_flow": null,
            "grid_auto_rows": null,
            "grid_column": null,
            "grid_gap": null,
            "grid_row": null,
            "grid_template_areas": null,
            "grid_template_columns": null,
            "grid_template_rows": null,
            "height": null,
            "justify_content": null,
            "justify_items": null,
            "left": null,
            "margin": null,
            "max_height": null,
            "max_width": null,
            "min_height": null,
            "min_width": null,
            "object_fit": null,
            "object_position": null,
            "order": null,
            "overflow": null,
            "overflow_x": null,
            "overflow_y": null,
            "padding": null,
            "right": null,
            "top": null,
            "visibility": null,
            "width": null
          }
        },
        "2902c1a57ba14f688de8383e8c94c8d1": {
          "model_module": "@jupyter-widgets/controls",
          "model_name": "ProgressStyleModel",
          "model_module_version": "1.5.0",
          "state": {
            "_model_module": "@jupyter-widgets/controls",
            "_model_module_version": "1.5.0",
            "_model_name": "ProgressStyleModel",
            "_view_count": null,
            "_view_module": "@jupyter-widgets/base",
            "_view_module_version": "1.2.0",
            "_view_name": "StyleView",
            "bar_color": null,
            "description_width": ""
          }
        },
        "23c6414042f841b292f98ee0189493d2": {
          "model_module": "@jupyter-widgets/base",
          "model_name": "LayoutModel",
          "model_module_version": "1.2.0",
          "state": {
            "_model_module": "@jupyter-widgets/base",
            "_model_module_version": "1.2.0",
            "_model_name": "LayoutModel",
            "_view_count": null,
            "_view_module": "@jupyter-widgets/base",
            "_view_module_version": "1.2.0",
            "_view_name": "LayoutView",
            "align_content": null,
            "align_items": null,
            "align_self": null,
            "border": null,
            "bottom": null,
            "display": null,
            "flex": null,
            "flex_flow": null,
            "grid_area": null,
            "grid_auto_columns": null,
            "grid_auto_flow": null,
            "grid_auto_rows": null,
            "grid_column": null,
            "grid_gap": null,
            "grid_row": null,
            "grid_template_areas": null,
            "grid_template_columns": null,
            "grid_template_rows": null,
            "height": null,
            "justify_content": null,
            "justify_items": null,
            "left": null,
            "margin": null,
            "max_height": null,
            "max_width": null,
            "min_height": null,
            "min_width": null,
            "object_fit": null,
            "object_position": null,
            "order": null,
            "overflow": null,
            "overflow_x": null,
            "overflow_y": null,
            "padding": null,
            "right": null,
            "top": null,
            "visibility": null,
            "width": null
          }
        },
        "636db5ff29c540a9aaf56bfebcb09389": {
          "model_module": "@jupyter-widgets/controls",
          "model_name": "DescriptionStyleModel",
          "model_module_version": "1.5.0",
          "state": {
            "_model_module": "@jupyter-widgets/controls",
            "_model_module_version": "1.5.0",
            "_model_name": "DescriptionStyleModel",
            "_view_count": null,
            "_view_module": "@jupyter-widgets/base",
            "_view_module_version": "1.2.0",
            "_view_name": "StyleView",
            "description_width": ""
          }
        },
        "26733b4f2d8a418c8b919836f50e7176": {
          "model_module": "@jupyter-widgets/controls",
          "model_name": "HBoxModel",
          "model_module_version": "1.5.0",
          "state": {
            "_dom_classes": [],
            "_model_module": "@jupyter-widgets/controls",
            "_model_module_version": "1.5.0",
            "_model_name": "HBoxModel",
            "_view_count": null,
            "_view_module": "@jupyter-widgets/controls",
            "_view_module_version": "1.5.0",
            "_view_name": "HBoxView",
            "box_style": "",
            "children": [
              "IPY_MODEL_1570f3729b9b4395ac3162c39c26f4da",
              "IPY_MODEL_2c431ae78f3746f48dc1ee2dc90697fa",
              "IPY_MODEL_5759c499fd3a4060946b0be4dae46243"
            ],
            "layout": "IPY_MODEL_99a52cde533e4ce4b7ab84f08406a735"
          }
        },
        "1570f3729b9b4395ac3162c39c26f4da": {
          "model_module": "@jupyter-widgets/controls",
          "model_name": "HTMLModel",
          "model_module_version": "1.5.0",
          "state": {
            "_dom_classes": [],
            "_model_module": "@jupyter-widgets/controls",
            "_model_module_version": "1.5.0",
            "_model_name": "HTMLModel",
            "_view_count": null,
            "_view_module": "@jupyter-widgets/controls",
            "_view_module_version": "1.5.0",
            "_view_name": "HTMLView",
            "description": "",
            "description_tooltip": null,
            "layout": "IPY_MODEL_82dc1f3311b84e02b5c72a166b22b0dc",
            "placeholder": "​",
            "style": "IPY_MODEL_bc2ce066952b4763815cd1b78f144069",
            "value": "Downloading (…)lve/main/config.json: 100%"
          }
        },
        "2c431ae78f3746f48dc1ee2dc90697fa": {
          "model_module": "@jupyter-widgets/controls",
          "model_name": "FloatProgressModel",
          "model_module_version": "1.5.0",
          "state": {
            "_dom_classes": [],
            "_model_module": "@jupyter-widgets/controls",
            "_model_module_version": "1.5.0",
            "_model_name": "FloatProgressModel",
            "_view_count": null,
            "_view_module": "@jupyter-widgets/controls",
            "_view_module_version": "1.5.0",
            "_view_name": "ProgressView",
            "bar_style": "success",
            "description": "",
            "description_tooltip": null,
            "layout": "IPY_MODEL_d673f86f7b454e5f9c24b9ccdf768b48",
            "max": 625,
            "min": 0,
            "orientation": "horizontal",
            "style": "IPY_MODEL_237cf616fdd74db0a6f837dc8362addf",
            "value": 625
          }
        },
        "5759c499fd3a4060946b0be4dae46243": {
          "model_module": "@jupyter-widgets/controls",
          "model_name": "HTMLModel",
          "model_module_version": "1.5.0",
          "state": {
            "_dom_classes": [],
            "_model_module": "@jupyter-widgets/controls",
            "_model_module_version": "1.5.0",
            "_model_name": "HTMLModel",
            "_view_count": null,
            "_view_module": "@jupyter-widgets/controls",
            "_view_module_version": "1.5.0",
            "_view_name": "HTMLView",
            "description": "",
            "description_tooltip": null,
            "layout": "IPY_MODEL_636e3ece35f04111be9599f03cfe4309",
            "placeholder": "​",
            "style": "IPY_MODEL_3eb4609b52c44248aa03101db38c4766",
            "value": " 625/625 [00:00&lt;00:00, 54.6kB/s]"
          }
        },
        "99a52cde533e4ce4b7ab84f08406a735": {
          "model_module": "@jupyter-widgets/base",
          "model_name": "LayoutModel",
          "model_module_version": "1.2.0",
          "state": {
            "_model_module": "@jupyter-widgets/base",
            "_model_module_version": "1.2.0",
            "_model_name": "LayoutModel",
            "_view_count": null,
            "_view_module": "@jupyter-widgets/base",
            "_view_module_version": "1.2.0",
            "_view_name": "LayoutView",
            "align_content": null,
            "align_items": null,
            "align_self": null,
            "border": null,
            "bottom": null,
            "display": null,
            "flex": null,
            "flex_flow": null,
            "grid_area": null,
            "grid_auto_columns": null,
            "grid_auto_flow": null,
            "grid_auto_rows": null,
            "grid_column": null,
            "grid_gap": null,
            "grid_row": null,
            "grid_template_areas": null,
            "grid_template_columns": null,
            "grid_template_rows": null,
            "height": null,
            "justify_content": null,
            "justify_items": null,
            "left": null,
            "margin": null,
            "max_height": null,
            "max_width": null,
            "min_height": null,
            "min_width": null,
            "object_fit": null,
            "object_position": null,
            "order": null,
            "overflow": null,
            "overflow_x": null,
            "overflow_y": null,
            "padding": null,
            "right": null,
            "top": null,
            "visibility": null,
            "width": null
          }
        },
        "82dc1f3311b84e02b5c72a166b22b0dc": {
          "model_module": "@jupyter-widgets/base",
          "model_name": "LayoutModel",
          "model_module_version": "1.2.0",
          "state": {
            "_model_module": "@jupyter-widgets/base",
            "_model_module_version": "1.2.0",
            "_model_name": "LayoutModel",
            "_view_count": null,
            "_view_module": "@jupyter-widgets/base",
            "_view_module_version": "1.2.0",
            "_view_name": "LayoutView",
            "align_content": null,
            "align_items": null,
            "align_self": null,
            "border": null,
            "bottom": null,
            "display": null,
            "flex": null,
            "flex_flow": null,
            "grid_area": null,
            "grid_auto_columns": null,
            "grid_auto_flow": null,
            "grid_auto_rows": null,
            "grid_column": null,
            "grid_gap": null,
            "grid_row": null,
            "grid_template_areas": null,
            "grid_template_columns": null,
            "grid_template_rows": null,
            "height": null,
            "justify_content": null,
            "justify_items": null,
            "left": null,
            "margin": null,
            "max_height": null,
            "max_width": null,
            "min_height": null,
            "min_width": null,
            "object_fit": null,
            "object_position": null,
            "order": null,
            "overflow": null,
            "overflow_x": null,
            "overflow_y": null,
            "padding": null,
            "right": null,
            "top": null,
            "visibility": null,
            "width": null
          }
        },
        "bc2ce066952b4763815cd1b78f144069": {
          "model_module": "@jupyter-widgets/controls",
          "model_name": "DescriptionStyleModel",
          "model_module_version": "1.5.0",
          "state": {
            "_model_module": "@jupyter-widgets/controls",
            "_model_module_version": "1.5.0",
            "_model_name": "DescriptionStyleModel",
            "_view_count": null,
            "_view_module": "@jupyter-widgets/base",
            "_view_module_version": "1.2.0",
            "_view_name": "StyleView",
            "description_width": ""
          }
        },
        "d673f86f7b454e5f9c24b9ccdf768b48": {
          "model_module": "@jupyter-widgets/base",
          "model_name": "LayoutModel",
          "model_module_version": "1.2.0",
          "state": {
            "_model_module": "@jupyter-widgets/base",
            "_model_module_version": "1.2.0",
            "_model_name": "LayoutModel",
            "_view_count": null,
            "_view_module": "@jupyter-widgets/base",
            "_view_module_version": "1.2.0",
            "_view_name": "LayoutView",
            "align_content": null,
            "align_items": null,
            "align_self": null,
            "border": null,
            "bottom": null,
            "display": null,
            "flex": null,
            "flex_flow": null,
            "grid_area": null,
            "grid_auto_columns": null,
            "grid_auto_flow": null,
            "grid_auto_rows": null,
            "grid_column": null,
            "grid_gap": null,
            "grid_row": null,
            "grid_template_areas": null,
            "grid_template_columns": null,
            "grid_template_rows": null,
            "height": null,
            "justify_content": null,
            "justify_items": null,
            "left": null,
            "margin": null,
            "max_height": null,
            "max_width": null,
            "min_height": null,
            "min_width": null,
            "object_fit": null,
            "object_position": null,
            "order": null,
            "overflow": null,
            "overflow_x": null,
            "overflow_y": null,
            "padding": null,
            "right": null,
            "top": null,
            "visibility": null,
            "width": null
          }
        },
        "237cf616fdd74db0a6f837dc8362addf": {
          "model_module": "@jupyter-widgets/controls",
          "model_name": "ProgressStyleModel",
          "model_module_version": "1.5.0",
          "state": {
            "_model_module": "@jupyter-widgets/controls",
            "_model_module_version": "1.5.0",
            "_model_name": "ProgressStyleModel",
            "_view_count": null,
            "_view_module": "@jupyter-widgets/base",
            "_view_module_version": "1.2.0",
            "_view_name": "StyleView",
            "bar_color": null,
            "description_width": ""
          }
        },
        "636e3ece35f04111be9599f03cfe4309": {
          "model_module": "@jupyter-widgets/base",
          "model_name": "LayoutModel",
          "model_module_version": "1.2.0",
          "state": {
            "_model_module": "@jupyter-widgets/base",
            "_model_module_version": "1.2.0",
            "_model_name": "LayoutModel",
            "_view_count": null,
            "_view_module": "@jupyter-widgets/base",
            "_view_module_version": "1.2.0",
            "_view_name": "LayoutView",
            "align_content": null,
            "align_items": null,
            "align_self": null,
            "border": null,
            "bottom": null,
            "display": null,
            "flex": null,
            "flex_flow": null,
            "grid_area": null,
            "grid_auto_columns": null,
            "grid_auto_flow": null,
            "grid_auto_rows": null,
            "grid_column": null,
            "grid_gap": null,
            "grid_row": null,
            "grid_template_areas": null,
            "grid_template_columns": null,
            "grid_template_rows": null,
            "height": null,
            "justify_content": null,
            "justify_items": null,
            "left": null,
            "margin": null,
            "max_height": null,
            "max_width": null,
            "min_height": null,
            "min_width": null,
            "object_fit": null,
            "object_position": null,
            "order": null,
            "overflow": null,
            "overflow_x": null,
            "overflow_y": null,
            "padding": null,
            "right": null,
            "top": null,
            "visibility": null,
            "width": null
          }
        },
        "3eb4609b52c44248aa03101db38c4766": {
          "model_module": "@jupyter-widgets/controls",
          "model_name": "DescriptionStyleModel",
          "model_module_version": "1.5.0",
          "state": {
            "_model_module": "@jupyter-widgets/controls",
            "_model_module_version": "1.5.0",
            "_model_name": "DescriptionStyleModel",
            "_view_count": null,
            "_view_module": "@jupyter-widgets/base",
            "_view_module_version": "1.2.0",
            "_view_name": "StyleView",
            "description_width": ""
          }
        },
        "60b80f8a209748a59667d1f70d8ffe6d": {
          "model_module": "@jupyter-widgets/controls",
          "model_name": "HBoxModel",
          "model_module_version": "1.5.0",
          "state": {
            "_dom_classes": [],
            "_model_module": "@jupyter-widgets/controls",
            "_model_module_version": "1.5.0",
            "_model_name": "HBoxModel",
            "_view_count": null,
            "_view_module": "@jupyter-widgets/controls",
            "_view_module_version": "1.5.0",
            "_view_name": "HBoxView",
            "box_style": "",
            "children": [
              "IPY_MODEL_ee5c59cf7e41489d98f00db3291d525c",
              "IPY_MODEL_41483eb9ec864f6b8eda8a329c698bf2",
              "IPY_MODEL_dc2e5e62e08246349dfac12cf336190d"
            ],
            "layout": "IPY_MODEL_8a3aa72b17474638bc539769dbca8f47"
          }
        },
        "ee5c59cf7e41489d98f00db3291d525c": {
          "model_module": "@jupyter-widgets/controls",
          "model_name": "HTMLModel",
          "model_module_version": "1.5.0",
          "state": {
            "_dom_classes": [],
            "_model_module": "@jupyter-widgets/controls",
            "_model_module_version": "1.5.0",
            "_model_name": "HTMLModel",
            "_view_count": null,
            "_view_module": "@jupyter-widgets/controls",
            "_view_module_version": "1.5.0",
            "_view_name": "HTMLView",
            "description": "",
            "description_tooltip": null,
            "layout": "IPY_MODEL_5949726c92c8490cafb31550a4b25b5c",
            "placeholder": "​",
            "style": "IPY_MODEL_cfd1b48e88c64872ad7396970002df57",
            "value": "Downloading pytorch_model.bin: 100%"
          }
        },
        "41483eb9ec864f6b8eda8a329c698bf2": {
          "model_module": "@jupyter-widgets/controls",
          "model_name": "FloatProgressModel",
          "model_module_version": "1.5.0",
          "state": {
            "_dom_classes": [],
            "_model_module": "@jupyter-widgets/controls",
            "_model_module_version": "1.5.0",
            "_model_name": "FloatProgressModel",
            "_view_count": null,
            "_view_module": "@jupyter-widgets/controls",
            "_view_module_version": "1.5.0",
            "_view_name": "ProgressView",
            "bar_style": "success",
            "description": "",
            "description_tooltip": null,
            "layout": "IPY_MODEL_57e4975ee047470888cdc83e054d0883",
            "max": 714314041,
            "min": 0,
            "orientation": "horizontal",
            "style": "IPY_MODEL_b4bd467fd0724c9a8fa5b17b5d474a34",
            "value": 714314041
          }
        },
        "dc2e5e62e08246349dfac12cf336190d": {
          "model_module": "@jupyter-widgets/controls",
          "model_name": "HTMLModel",
          "model_module_version": "1.5.0",
          "state": {
            "_dom_classes": [],
            "_model_module": "@jupyter-widgets/controls",
            "_model_module_version": "1.5.0",
            "_model_name": "HTMLModel",
            "_view_count": null,
            "_view_module": "@jupyter-widgets/controls",
            "_view_module_version": "1.5.0",
            "_view_name": "HTMLView",
            "description": "",
            "description_tooltip": null,
            "layout": "IPY_MODEL_d8cf4b4cd3664860afec4e8659b7495b",
            "placeholder": "​",
            "style": "IPY_MODEL_1e5824c23de54f8d935246ed94542859",
            "value": " 714M/714M [00:02&lt;00:00, 245MB/s]"
          }
        },
        "8a3aa72b17474638bc539769dbca8f47": {
          "model_module": "@jupyter-widgets/base",
          "model_name": "LayoutModel",
          "model_module_version": "1.2.0",
          "state": {
            "_model_module": "@jupyter-widgets/base",
            "_model_module_version": "1.2.0",
            "_model_name": "LayoutModel",
            "_view_count": null,
            "_view_module": "@jupyter-widgets/base",
            "_view_module_version": "1.2.0",
            "_view_name": "LayoutView",
            "align_content": null,
            "align_items": null,
            "align_self": null,
            "border": null,
            "bottom": null,
            "display": null,
            "flex": null,
            "flex_flow": null,
            "grid_area": null,
            "grid_auto_columns": null,
            "grid_auto_flow": null,
            "grid_auto_rows": null,
            "grid_column": null,
            "grid_gap": null,
            "grid_row": null,
            "grid_template_areas": null,
            "grid_template_columns": null,
            "grid_template_rows": null,
            "height": null,
            "justify_content": null,
            "justify_items": null,
            "left": null,
            "margin": null,
            "max_height": null,
            "max_width": null,
            "min_height": null,
            "min_width": null,
            "object_fit": null,
            "object_position": null,
            "order": null,
            "overflow": null,
            "overflow_x": null,
            "overflow_y": null,
            "padding": null,
            "right": null,
            "top": null,
            "visibility": null,
            "width": null
          }
        },
        "5949726c92c8490cafb31550a4b25b5c": {
          "model_module": "@jupyter-widgets/base",
          "model_name": "LayoutModel",
          "model_module_version": "1.2.0",
          "state": {
            "_model_module": "@jupyter-widgets/base",
            "_model_module_version": "1.2.0",
            "_model_name": "LayoutModel",
            "_view_count": null,
            "_view_module": "@jupyter-widgets/base",
            "_view_module_version": "1.2.0",
            "_view_name": "LayoutView",
            "align_content": null,
            "align_items": null,
            "align_self": null,
            "border": null,
            "bottom": null,
            "display": null,
            "flex": null,
            "flex_flow": null,
            "grid_area": null,
            "grid_auto_columns": null,
            "grid_auto_flow": null,
            "grid_auto_rows": null,
            "grid_column": null,
            "grid_gap": null,
            "grid_row": null,
            "grid_template_areas": null,
            "grid_template_columns": null,
            "grid_template_rows": null,
            "height": null,
            "justify_content": null,
            "justify_items": null,
            "left": null,
            "margin": null,
            "max_height": null,
            "max_width": null,
            "min_height": null,
            "min_width": null,
            "object_fit": null,
            "object_position": null,
            "order": null,
            "overflow": null,
            "overflow_x": null,
            "overflow_y": null,
            "padding": null,
            "right": null,
            "top": null,
            "visibility": null,
            "width": null
          }
        },
        "cfd1b48e88c64872ad7396970002df57": {
          "model_module": "@jupyter-widgets/controls",
          "model_name": "DescriptionStyleModel",
          "model_module_version": "1.5.0",
          "state": {
            "_model_module": "@jupyter-widgets/controls",
            "_model_module_version": "1.5.0",
            "_model_name": "DescriptionStyleModel",
            "_view_count": null,
            "_view_module": "@jupyter-widgets/base",
            "_view_module_version": "1.2.0",
            "_view_name": "StyleView",
            "description_width": ""
          }
        },
        "57e4975ee047470888cdc83e054d0883": {
          "model_module": "@jupyter-widgets/base",
          "model_name": "LayoutModel",
          "model_module_version": "1.2.0",
          "state": {
            "_model_module": "@jupyter-widgets/base",
            "_model_module_version": "1.2.0",
            "_model_name": "LayoutModel",
            "_view_count": null,
            "_view_module": "@jupyter-widgets/base",
            "_view_module_version": "1.2.0",
            "_view_name": "LayoutView",
            "align_content": null,
            "align_items": null,
            "align_self": null,
            "border": null,
            "bottom": null,
            "display": null,
            "flex": null,
            "flex_flow": null,
            "grid_area": null,
            "grid_auto_columns": null,
            "grid_auto_flow": null,
            "grid_auto_rows": null,
            "grid_column": null,
            "grid_gap": null,
            "grid_row": null,
            "grid_template_areas": null,
            "grid_template_columns": null,
            "grid_template_rows": null,
            "height": null,
            "justify_content": null,
            "justify_items": null,
            "left": null,
            "margin": null,
            "max_height": null,
            "max_width": null,
            "min_height": null,
            "min_width": null,
            "object_fit": null,
            "object_position": null,
            "order": null,
            "overflow": null,
            "overflow_x": null,
            "overflow_y": null,
            "padding": null,
            "right": null,
            "top": null,
            "visibility": null,
            "width": null
          }
        },
        "b4bd467fd0724c9a8fa5b17b5d474a34": {
          "model_module": "@jupyter-widgets/controls",
          "model_name": "ProgressStyleModel",
          "model_module_version": "1.5.0",
          "state": {
            "_model_module": "@jupyter-widgets/controls",
            "_model_module_version": "1.5.0",
            "_model_name": "ProgressStyleModel",
            "_view_count": null,
            "_view_module": "@jupyter-widgets/base",
            "_view_module_version": "1.2.0",
            "_view_name": "StyleView",
            "bar_color": null,
            "description_width": ""
          }
        },
        "d8cf4b4cd3664860afec4e8659b7495b": {
          "model_module": "@jupyter-widgets/base",
          "model_name": "LayoutModel",
          "model_module_version": "1.2.0",
          "state": {
            "_model_module": "@jupyter-widgets/base",
            "_model_module_version": "1.2.0",
            "_model_name": "LayoutModel",
            "_view_count": null,
            "_view_module": "@jupyter-widgets/base",
            "_view_module_version": "1.2.0",
            "_view_name": "LayoutView",
            "align_content": null,
            "align_items": null,
            "align_self": null,
            "border": null,
            "bottom": null,
            "display": null,
            "flex": null,
            "flex_flow": null,
            "grid_area": null,
            "grid_auto_columns": null,
            "grid_auto_flow": null,
            "grid_auto_rows": null,
            "grid_column": null,
            "grid_gap": null,
            "grid_row": null,
            "grid_template_areas": null,
            "grid_template_columns": null,
            "grid_template_rows": null,
            "height": null,
            "justify_content": null,
            "justify_items": null,
            "left": null,
            "margin": null,
            "max_height": null,
            "max_width": null,
            "min_height": null,
            "min_width": null,
            "object_fit": null,
            "object_position": null,
            "order": null,
            "overflow": null,
            "overflow_x": null,
            "overflow_y": null,
            "padding": null,
            "right": null,
            "top": null,
            "visibility": null,
            "width": null
          }
        },
        "1e5824c23de54f8d935246ed94542859": {
          "model_module": "@jupyter-widgets/controls",
          "model_name": "DescriptionStyleModel",
          "model_module_version": "1.5.0",
          "state": {
            "_model_module": "@jupyter-widgets/controls",
            "_model_module_version": "1.5.0",
            "_model_name": "DescriptionStyleModel",
            "_view_count": null,
            "_view_module": "@jupyter-widgets/base",
            "_view_module_version": "1.2.0",
            "_view_name": "StyleView",
            "description_width": ""
          }
        }
      }
    }
  },
  "nbformat": 4,
  "nbformat_minor": 0
}