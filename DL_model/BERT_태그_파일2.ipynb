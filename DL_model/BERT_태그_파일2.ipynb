{
  "cells": [
    {
      "cell_type": "markdown",
      "metadata": {
        "id": "view-in-github",
        "colab_type": "text"
      },
      "source": [
        "<a href=\"https://colab.research.google.com/github/sb8919/Travelplus/blob/main/DL_model/BERT_%ED%83%9C%EA%B7%B8_%ED%8C%8C%EC%9D%BC2.ipynb\" target=\"_parent\"><img src=\"https://colab.research.google.com/assets/colab-badge.svg\" alt=\"Open In Colab\"/></a>"
      ]
    },
    {
      "cell_type": "code",
      "source": [
        "a=1"
      ],
      "metadata": {
        "id": "3RLlUkYZxzm5"
      },
      "execution_count": null,
      "outputs": []
    },
    {
      "cell_type": "code",
      "execution_count": null,
      "metadata": {
        "colab": {
          "base_uri": "https://localhost:8080/"
        },
        "id": "tLhI8PakUuAv",
        "outputId": "78406329-2afa-4cd5-ac83-6ac7e1dcdf71"
      },
      "outputs": [
        {
          "output_type": "stream",
          "name": "stdout",
          "text": [
            "Looking in indexes: https://pypi.org/simple, https://us-python.pkg.dev/colab-wheels/public/simple/\n",
            "Requirement already satisfied: transformers in /usr/local/lib/python3.10/dist-packages (4.29.2)\n",
            "Requirement already satisfied: filelock in /usr/local/lib/python3.10/dist-packages (from transformers) (3.12.0)\n",
            "Requirement already satisfied: huggingface-hub<1.0,>=0.14.1 in /usr/local/lib/python3.10/dist-packages (from transformers) (0.14.1)\n",
            "Requirement already satisfied: numpy>=1.17 in /usr/local/lib/python3.10/dist-packages (from transformers) (1.22.4)\n",
            "Requirement already satisfied: packaging>=20.0 in /usr/local/lib/python3.10/dist-packages (from transformers) (23.1)\n",
            "Requirement already satisfied: pyyaml>=5.1 in /usr/local/lib/python3.10/dist-packages (from transformers) (6.0)\n",
            "Requirement already satisfied: regex!=2019.12.17 in /usr/local/lib/python3.10/dist-packages (from transformers) (2022.10.31)\n",
            "Requirement already satisfied: requests in /usr/local/lib/python3.10/dist-packages (from transformers) (2.27.1)\n",
            "Requirement already satisfied: tokenizers!=0.11.3,<0.14,>=0.11.1 in /usr/local/lib/python3.10/dist-packages (from transformers) (0.13.3)\n",
            "Requirement already satisfied: tqdm>=4.27 in /usr/local/lib/python3.10/dist-packages (from transformers) (4.65.0)\n",
            "Requirement already satisfied: fsspec in /usr/local/lib/python3.10/dist-packages (from huggingface-hub<1.0,>=0.14.1->transformers) (2023.4.0)\n",
            "Requirement already satisfied: typing-extensions>=3.7.4.3 in /usr/local/lib/python3.10/dist-packages (from huggingface-hub<1.0,>=0.14.1->transformers) (4.5.0)\n",
            "Requirement already satisfied: urllib3<1.27,>=1.21.1 in /usr/local/lib/python3.10/dist-packages (from requests->transformers) (1.26.15)\n",
            "Requirement already satisfied: certifi>=2017.4.17 in /usr/local/lib/python3.10/dist-packages (from requests->transformers) (2022.12.7)\n",
            "Requirement already satisfied: charset-normalizer~=2.0.0 in /usr/local/lib/python3.10/dist-packages (from requests->transformers) (2.0.12)\n",
            "Requirement already satisfied: idna<4,>=2.5 in /usr/local/lib/python3.10/dist-packages (from requests->transformers) (3.4)\n"
          ]
        }
      ],
      "source": [
        "# 패키지 다운로드\n",
        "!pip install transformers"
      ]
    },
    {
      "cell_type": "code",
      "execution_count": null,
      "metadata": {
        "id": "0oEPeeskUxYM"
      },
      "outputs": [],
      "source": [
        "# 주요 패키지 불러오기\n",
        "import tensorflow as tf\n",
        "import torch\n",
        "\n",
        "from transformers import BertTokenizer\n",
        "from transformers import BertForSequenceClassification, AdamW, BertConfig\n",
        "from transformers import get_linear_schedule_with_warmup\n",
        "from torch.utils.data import TensorDataset, DataLoader, RandomSampler, SequentialSampler\n",
        "from keras.utils import pad_sequences\n",
        "from sklearn.model_selection import train_test_split\n",
        "\n",
        "import pandas as pd\n",
        "import folium\n",
        "import numpy as np\n",
        "import random\n",
        "import time\n",
        "import datetime"
      ]
    },
    {
      "cell_type": "code",
      "execution_count": null,
      "metadata": {
        "colab": {
          "base_uri": "https://localhost:8080/"
        },
        "id": "8WseIlKaU59C",
        "outputId": "21b0b080-740f-4b51-eb05-92ac8ce0a147"
      },
      "outputs": [
        {
          "output_type": "stream",
          "name": "stdout",
          "text": [
            "1\n",
            "Tesla T4\n"
          ]
        }
      ],
      "source": [
        "# GPU 확인\n",
        "n_devices = torch.cuda.device_count()\n",
        "print(n_devices)\n",
        "\n",
        "for i in range(n_devices):\n",
        "    print(torch.cuda.get_device_name(i))"
      ]
    },
    {
      "cell_type": "markdown",
      "metadata": {
        "id": "cY6P4PVIWXv9"
      },
      "source": [
        "-------------"
      ]
    },
    {
      "cell_type": "code",
      "execution_count": null,
      "metadata": {
        "colab": {
          "base_uri": "https://localhost:8080/"
        },
        "id": "dEGi2pIBCKGW",
        "outputId": "2bd75c2f-0df6-49a2-82ed-33bdd3766bab"
      },
      "outputs": [
        {
          "output_type": "stream",
          "name": "stdout",
          "text": [
            "Drive already mounted at /content/drive; to attempt to forcibly remount, call drive.mount(\"/content/drive\", force_remount=True).\n"
          ]
        }
      ],
      "source": [
        "#구글드라이브 연동\n",
        "from google.colab import drive\n",
        "drive.mount('/content/drive')"
      ]
    },
    {
      "cell_type": "code",
      "execution_count": null,
      "metadata": {
        "id": "-thyDni2aH9O"
      },
      "outputs": [],
      "source": [
        "# 라벨링 파일 데이터 프레임 형태로 가져오기\n",
        "import pandas as pd\n",
        "df = pd.read_excel('/content/drive/MyDrive/labeling_data_0528.xlsx')"
      ]
    },
    {
      "cell_type": "code",
      "execution_count": null,
      "metadata": {
        "id": "r5HpT9toRv8k"
      },
      "outputs": [],
      "source": [
        "# 인스타그램 본문 내용에서 특수문자 공백으로 교환\n",
        "df[\"sentences\"] = df[\"sentences\"].str.replace(pat=r'[^\\w]', repl=r' ', regex=True)"
      ]
    },
    {
      "cell_type": "code",
      "execution_count": null,
      "metadata": {
        "id": "7JsR0sdeRv1E"
      },
      "outputs": [],
      "source": [
        "# 인스타그램 태그 내용에서 특수문자 공백으로 교환\n",
        "df[\"tags\"] = df[\"tags\"].str.replace(pat=r'[^\\w]', repl=r' ', regex=True)"
      ]
    },
    {
      "cell_type": "code",
      "execution_count": null,
      "metadata": {
        "colab": {
          "base_uri": "https://localhost:8080/",
          "height": 736
        },
        "id": "hbJtrEgeacmJ",
        "outputId": "d2a3acaa-4171-4526-84a3-12b40d2427f5"
      },
      "outputs": [
        {
          "output_type": "execute_result",
          "data": {
            "text/plain": [
              "      Unnamed: 0                                          sentences  \\\n",
              "2312        2312     배달의민족    최 재 영 매니저만의 혜택    방문상담  빠른등록  추후관리...   \n",
              "354          354                                     두부는 여전히 인기 짱     \n",
              "1397        1397   겨울에 필수코스라는 원주 겨울여행 12곳 총정리  뷰좋고 분위기낭낭한 원주 겨울여...   \n",
              "1714        1714  지금 짚라인문경은 초록 이 넘실대는 뜨거운 여름  우리 귀염뽀짝 ZG들과 함께 짚라...   \n",
              "3934        3934                          양궁의 즐거움을 누리며 신화 기연을 이어가다    \n",
              "227          227  강원도 고성  속초 카페 추천 5     _h conte 피플님의 제보   강원도 ...   \n",
              "1102        1102    𝘀𝗹𝗲𝗱작년 아니고 이래뵈도 올해 1월최고 한파 였을 때 패딩 입은 모습 새롭네...   \n",
              "1187        1187     천북 청보리밭   충남 보령시 천북면 천광로 73 11 천북신흥교회 옆u200...   \n",
              "2290        2290  해수욕장이름이 뭐였지   고흥에 있는 해수욕장   발 담그다 옷은 다 젖고내강아지들...   \n",
              "4542        4542  샤브샤브 생각날 때 늘 찾는 능동 능동칼국수 맛있는건 다 알겠지만 능동칼국수 등심 ...   \n",
              "\n",
              "                                                   tags      place  label  \n",
              "2312   화천삼대장   화천맛집   화천고기집   화천한우   화천닭갈비   화천카페   ...        NaN    8.0  \n",
              "354    배때기네하우스   반려동물동반여행   무섬마을   주택건축   전원주택   영주여...    경상북도영주시    1.0  \n",
              "1397   원주겨울여행   원주여행   원주가볼만한곳   원주데이트   원주여행코스   원주...        NaN    3.0  \n",
              "1714   짚라인   문경   짚라인문경   문경짚라인   zipline   mungyeon...      문경짚라인    5.0  \n",
              "3934                양궁   양궁장   기술   양궁너무재밌다   양궁   양궁선수        NaN    0.0  \n",
              "227                                피플카트래블   피플카트래블_강원도         강원도    0.0  \n",
              "1102   좋은자전거고르기   장갑챙기기   포천여행   산정호수썰매축제   겨울가족여행  ...        NaN    2.0  \n",
              "1187   천북청보리밭   청보리밭   천북목장   천북굴   천북굴구이   천북굴찜   천...  천북면 (보령시)    0.0  \n",
              "2290                                고흥   고흥여행   고흥가볼만한곳        NaN    2.0  \n",
              "4542   동탄맛집   능동맛집   화성맛집   동탄칼국수   병점맛집   능동칼국수   맛...        NaN    8.0  "
            ],
            "text/html": [
              "\n",
              "  <div id=\"df-40042faa-97ec-47fb-a9fb-53d13e1f9af2\">\n",
              "    <div class=\"colab-df-container\">\n",
              "      <div>\n",
              "<style scoped>\n",
              "    .dataframe tbody tr th:only-of-type {\n",
              "        vertical-align: middle;\n",
              "    }\n",
              "\n",
              "    .dataframe tbody tr th {\n",
              "        vertical-align: top;\n",
              "    }\n",
              "\n",
              "    .dataframe thead th {\n",
              "        text-align: right;\n",
              "    }\n",
              "</style>\n",
              "<table border=\"1\" class=\"dataframe\">\n",
              "  <thead>\n",
              "    <tr style=\"text-align: right;\">\n",
              "      <th></th>\n",
              "      <th>Unnamed: 0</th>\n",
              "      <th>sentences</th>\n",
              "      <th>tags</th>\n",
              "      <th>place</th>\n",
              "      <th>label</th>\n",
              "    </tr>\n",
              "  </thead>\n",
              "  <tbody>\n",
              "    <tr>\n",
              "      <th>2312</th>\n",
              "      <td>2312</td>\n",
              "      <td>배달의민족    최 재 영 매니저만의 혜택    방문상담  빠른등록  추후관리...</td>\n",
              "      <td>화천삼대장   화천맛집   화천고기집   화천한우   화천닭갈비   화천카페   ...</td>\n",
              "      <td>NaN</td>\n",
              "      <td>8.0</td>\n",
              "    </tr>\n",
              "    <tr>\n",
              "      <th>354</th>\n",
              "      <td>354</td>\n",
              "      <td>두부는 여전히 인기 짱</td>\n",
              "      <td>배때기네하우스   반려동물동반여행   무섬마을   주택건축   전원주택   영주여...</td>\n",
              "      <td>경상북도영주시</td>\n",
              "      <td>1.0</td>\n",
              "    </tr>\n",
              "    <tr>\n",
              "      <th>1397</th>\n",
              "      <td>1397</td>\n",
              "      <td>겨울에 필수코스라는 원주 겨울여행 12곳 총정리  뷰좋고 분위기낭낭한 원주 겨울여...</td>\n",
              "      <td>원주겨울여행   원주여행   원주가볼만한곳   원주데이트   원주여행코스   원주...</td>\n",
              "      <td>NaN</td>\n",
              "      <td>3.0</td>\n",
              "    </tr>\n",
              "    <tr>\n",
              "      <th>1714</th>\n",
              "      <td>1714</td>\n",
              "      <td>지금 짚라인문경은 초록 이 넘실대는 뜨거운 여름  우리 귀염뽀짝 ZG들과 함께 짚라...</td>\n",
              "      <td>짚라인   문경   짚라인문경   문경짚라인   zipline   mungyeon...</td>\n",
              "      <td>문경짚라인</td>\n",
              "      <td>5.0</td>\n",
              "    </tr>\n",
              "    <tr>\n",
              "      <th>3934</th>\n",
              "      <td>3934</td>\n",
              "      <td>양궁의 즐거움을 누리며 신화 기연을 이어가다</td>\n",
              "      <td>양궁   양궁장   기술   양궁너무재밌다   양궁   양궁선수</td>\n",
              "      <td>NaN</td>\n",
              "      <td>0.0</td>\n",
              "    </tr>\n",
              "    <tr>\n",
              "      <th>227</th>\n",
              "      <td>227</td>\n",
              "      <td>강원도 고성  속초 카페 추천 5     _h conte 피플님의 제보   강원도 ...</td>\n",
              "      <td>피플카트래블   피플카트래블_강원도</td>\n",
              "      <td>강원도</td>\n",
              "      <td>0.0</td>\n",
              "    </tr>\n",
              "    <tr>\n",
              "      <th>1102</th>\n",
              "      <td>1102</td>\n",
              "      <td>𝘀𝗹𝗲𝗱작년 아니고 이래뵈도 올해 1월최고 한파 였을 때 패딩 입은 모습 새롭네...</td>\n",
              "      <td>좋은자전거고르기   장갑챙기기   포천여행   산정호수썰매축제   겨울가족여행  ...</td>\n",
              "      <td>NaN</td>\n",
              "      <td>2.0</td>\n",
              "    </tr>\n",
              "    <tr>\n",
              "      <th>1187</th>\n",
              "      <td>1187</td>\n",
              "      <td>천북 청보리밭   충남 보령시 천북면 천광로 73 11 천북신흥교회 옆u200...</td>\n",
              "      <td>천북청보리밭   청보리밭   천북목장   천북굴   천북굴구이   천북굴찜   천...</td>\n",
              "      <td>천북면 (보령시)</td>\n",
              "      <td>0.0</td>\n",
              "    </tr>\n",
              "    <tr>\n",
              "      <th>2290</th>\n",
              "      <td>2290</td>\n",
              "      <td>해수욕장이름이 뭐였지   고흥에 있는 해수욕장   발 담그다 옷은 다 젖고내강아지들...</td>\n",
              "      <td>고흥   고흥여행   고흥가볼만한곳</td>\n",
              "      <td>NaN</td>\n",
              "      <td>2.0</td>\n",
              "    </tr>\n",
              "    <tr>\n",
              "      <th>4542</th>\n",
              "      <td>4542</td>\n",
              "      <td>샤브샤브 생각날 때 늘 찾는 능동 능동칼국수 맛있는건 다 알겠지만 능동칼국수 등심 ...</td>\n",
              "      <td>동탄맛집   능동맛집   화성맛집   동탄칼국수   병점맛집   능동칼국수   맛...</td>\n",
              "      <td>NaN</td>\n",
              "      <td>8.0</td>\n",
              "    </tr>\n",
              "  </tbody>\n",
              "</table>\n",
              "</div>\n",
              "      <button class=\"colab-df-convert\" onclick=\"convertToInteractive('df-40042faa-97ec-47fb-a9fb-53d13e1f9af2')\"\n",
              "              title=\"Convert this dataframe to an interactive table.\"\n",
              "              style=\"display:none;\">\n",
              "        \n",
              "  <svg xmlns=\"http://www.w3.org/2000/svg\" height=\"24px\"viewBox=\"0 0 24 24\"\n",
              "       width=\"24px\">\n",
              "    <path d=\"M0 0h24v24H0V0z\" fill=\"none\"/>\n",
              "    <path d=\"M18.56 5.44l.94 2.06.94-2.06 2.06-.94-2.06-.94-.94-2.06-.94 2.06-2.06.94zm-11 1L8.5 8.5l.94-2.06 2.06-.94-2.06-.94L8.5 2.5l-.94 2.06-2.06.94zm10 10l.94 2.06.94-2.06 2.06-.94-2.06-.94-.94-2.06-.94 2.06-2.06.94z\"/><path d=\"M17.41 7.96l-1.37-1.37c-.4-.4-.92-.59-1.43-.59-.52 0-1.04.2-1.43.59L10.3 9.45l-7.72 7.72c-.78.78-.78 2.05 0 2.83L4 21.41c.39.39.9.59 1.41.59.51 0 1.02-.2 1.41-.59l7.78-7.78 2.81-2.81c.8-.78.8-2.07 0-2.86zM5.41 20L4 18.59l7.72-7.72 1.47 1.35L5.41 20z\"/>\n",
              "  </svg>\n",
              "      </button>\n",
              "      \n",
              "  <style>\n",
              "    .colab-df-container {\n",
              "      display:flex;\n",
              "      flex-wrap:wrap;\n",
              "      gap: 12px;\n",
              "    }\n",
              "\n",
              "    .colab-df-convert {\n",
              "      background-color: #E8F0FE;\n",
              "      border: none;\n",
              "      border-radius: 50%;\n",
              "      cursor: pointer;\n",
              "      display: none;\n",
              "      fill: #1967D2;\n",
              "      height: 32px;\n",
              "      padding: 0 0 0 0;\n",
              "      width: 32px;\n",
              "    }\n",
              "\n",
              "    .colab-df-convert:hover {\n",
              "      background-color: #E2EBFA;\n",
              "      box-shadow: 0px 1px 2px rgba(60, 64, 67, 0.3), 0px 1px 3px 1px rgba(60, 64, 67, 0.15);\n",
              "      fill: #174EA6;\n",
              "    }\n",
              "\n",
              "    [theme=dark] .colab-df-convert {\n",
              "      background-color: #3B4455;\n",
              "      fill: #D2E3FC;\n",
              "    }\n",
              "\n",
              "    [theme=dark] .colab-df-convert:hover {\n",
              "      background-color: #434B5C;\n",
              "      box-shadow: 0px 1px 3px 1px rgba(0, 0, 0, 0.15);\n",
              "      filter: drop-shadow(0px 1px 2px rgba(0, 0, 0, 0.3));\n",
              "      fill: #FFFFFF;\n",
              "    }\n",
              "  </style>\n",
              "\n",
              "      <script>\n",
              "        const buttonEl =\n",
              "          document.querySelector('#df-40042faa-97ec-47fb-a9fb-53d13e1f9af2 button.colab-df-convert');\n",
              "        buttonEl.style.display =\n",
              "          google.colab.kernel.accessAllowed ? 'block' : 'none';\n",
              "\n",
              "        async function convertToInteractive(key) {\n",
              "          const element = document.querySelector('#df-40042faa-97ec-47fb-a9fb-53d13e1f9af2');\n",
              "          const dataTable =\n",
              "            await google.colab.kernel.invokeFunction('convertToInteractive',\n",
              "                                                     [key], {});\n",
              "          if (!dataTable) return;\n",
              "\n",
              "          const docLinkHtml = 'Like what you see? Visit the ' +\n",
              "            '<a target=\"_blank\" href=https://colab.research.google.com/notebooks/data_table.ipynb>data table notebook</a>'\n",
              "            + ' to learn more about interactive tables.';\n",
              "          element.innerHTML = '';\n",
              "          dataTable['output_type'] = 'display_data';\n",
              "          await google.colab.output.renderOutput(dataTable, element);\n",
              "          const docLink = document.createElement('div');\n",
              "          docLink.innerHTML = docLinkHtml;\n",
              "          element.appendChild(docLink);\n",
              "        }\n",
              "      </script>\n",
              "    </div>\n",
              "  </div>\n",
              "  "
            ]
          },
          "metadata": {},
          "execution_count": 55
        }
      ],
      "source": [
        "# 10개의 데이터 랜덤으로 출력\n",
        "df.sample(n=10)"
      ]
    },
    {
      "cell_type": "code",
      "execution_count": null,
      "metadata": {
        "id": "e_SKQKspah67"
      },
      "outputs": [],
      "source": [
        "# label 열의 값 float-> str\n",
        "df['label'] = df['label'].astype(str)"
      ]
    },
    {
      "cell_type": "code",
      "execution_count": null,
      "metadata": {
        "id": "53utk_-3wYeF"
      },
      "outputs": [],
      "source": [
        "# label 분류 숫자로 변경\n",
        "df.loc[(df['label'] == \"0.0\"), 'label'] = 0  #0.0 => 스팸 => 0\n",
        "df.loc[(df['label'] == \"1.0\"), 'label'] = 1  #1.0 => 가볼만한곳 => 1\n",
        "df.loc[(df['label'] == \"2.0\"), 'label'] = 2  #2.0 => 가족여행 => 2\n",
        "df.loc[(df['label'] == \"3.0\"), 'label'] = 3  #3.0 => 관람 => 3\n",
        "df.loc[(df['label'] == \"4.0\"), 'label'] = 4  #4.0 => 맛집 => 4\n",
        "df.loc[(df['label'] == \"5.0\"), 'label'] = 5  #5.0 => 우정여행 => 5\n",
        "df.loc[(df['label'] == \"6.0\"), 'label'] = 6  #6.0 => 전통 => 6\n",
        "df.loc[(df['label'] == \"7.0\"), 'label'] = 7  #7.0 => 체험 => 7\n",
        "df.loc[(df['label'] == \"8.0\"), 'label'] = 8  #8.0 => 카페 => 8\n",
        "df.loc[(df['label'] == \"9.0\"), 'label'] = 9  #9.0 => 캠핑 => 9"
      ]
    },
    {
      "cell_type": "code",
      "execution_count": null,
      "metadata": {
        "colab": {
          "base_uri": "https://localhost:8080/",
          "height": 461
        },
        "id": "_9izbFRskVdO",
        "outputId": "b307cf61-f77e-4c3c-a360-c2ca4470a767"
      },
      "outputs": [
        {
          "output_type": "execute_result",
          "data": {
            "text/plain": [
              "<Axes: >"
            ]
          },
          "metadata": {},
          "execution_count": 58
        },
        {
          "output_type": "display_data",
          "data": {
            "text/plain": [
              "<Figure size 640x480 with 1 Axes>"
            ],
            "image/png": "[encoded data removed]"
          },
          "metadata": {}
        }
      ],
      "source": [
        "# 데이터 정제하기\n",
        "# label 값 분포 확인\n",
        "df['label'].value_counts().plot(kind = 'bar')"
      ]
    },
    {
      "cell_type": "code",
      "execution_count": null,
      "metadata": {
        "colab": {
          "base_uri": "https://localhost:8080/"
        },
        "id": "EqP2XXF8Ak4A",
        "outputId": "275fe4ce-a488-4ac8-c0fa-699a66e6252c"
      },
      "outputs": [
        {
          "output_type": "execute_result",
          "data": {
            "text/plain": [
              "1      1139\n",
              "0      1010\n",
              "8       505\n",
              "2       456\n",
              "3       429\n",
              "5       372\n",
              "7       286\n",
              "9       273\n",
              "4       121\n",
              "nan      73\n",
              "6        73\n",
              "Name: label, dtype: int64"
            ]
          },
          "metadata": {},
          "execution_count": 59
        }
      ],
      "source": [
        "# 각 label 별 갯수 확인\n",
        "df['label'].value_counts()"
      ]
    },
    {
      "cell_type": "code",
      "execution_count": null,
      "metadata": {
        "colab": {
          "base_uri": "https://localhost:8080/"
        },
        "id": "Ro0aJouvku-u",
        "outputId": "d74b27c2-5c49-438c-d03b-d69e3caa7658"
      },
      "outputs": [
        {
          "output_type": "stream",
          "name": "stdout",
          "text": [
            "True\n"
          ]
        }
      ],
      "source": [
        "# Null 값 유무 확인 True <- Null 값 있음\n",
        "print(df.isnull().values.any())"
      ]
    },
    {
      "cell_type": "code",
      "execution_count": null,
      "metadata": {
        "colab": {
          "base_uri": "https://localhost:8080/"
        },
        "id": "MkzdgXaPlpEJ",
        "outputId": "bafd479c-2357-4585-98ca-3a15246c702c"
      },
      "outputs": [
        {
          "output_type": "stream",
          "name": "stdout",
          "text": [
            "Unnamed: 0       0\n",
            "sentences        1\n",
            "tags             0\n",
            "place         2990\n",
            "label            0\n",
            "dtype: int64\n"
          ]
        }
      ],
      "source": [
        "# 어떤 열에서 Null 값 존재하는지 확인\n",
        "print(df.isnull().sum())"
      ]
    },
    {
      "cell_type": "code",
      "execution_count": null,
      "metadata": {
        "id": "gWpIYeGSmeBV"
      },
      "outputs": [],
      "source": [
        "# Null 값 많은 place 열 제거\n",
        "df = df.drop('place',axis=1)"
      ]
    },
    {
      "cell_type": "code",
      "execution_count": null,
      "metadata": {
        "colab": {
          "base_uri": "https://localhost:8080/",
          "height": 762
        },
        "id": "kiaacXsuoRBu",
        "outputId": "190fa825-38f2-4906-8331-45a08dc88ffd"
      },
      "outputs": [
        {
          "output_type": "execute_result",
          "data": {
            "text/plain": [
              "      Unnamed: 0                                          sentences  \\\n",
              "0              0  술이 달다   라고 하는걸 이걸보구 말하나봐요알쓰들도 무한대로 마실수 있는 연말을 ...   \n",
              "1              1                                                      \n",
              "2              2  연타발 압구정 완전 대박인듯ㅜㅜ어느 하나 모자람없는 이 맛을 다양한 세계로 이끌어가...   \n",
              "3              3    날 풀리면 가기 좋을 서울 테라스카페 모음집   뷰맛집으로 너무 핫한 서울 예쁜...   \n",
              "4              4  가장 행복한 순간 배꼽집에서 고기 먹을 때  맛있게 구워서 한 점 한 점 먹으면  ...   \n",
              "...          ...                                                ...   \n",
              "4732        4732                 올드카에 관심 있다면  규슈 자동차 박물관2023 03 08    \n",
              "4733        4733    조선의 외교관 역관  부산박물관 특별기획전 전시관람하고 왔어요  아직 어린 아들...   \n",
              "4734        4734        어벤져스 엔드게임의 감동을 다시 한 번  피규어뮤지엄제주 2023 03 15    \n",
              "4735        4735   사 한국박물관협회 회장 조한희 는 지난 5월 11일 목 부터 13일 토 까지 3일...   \n",
              "4736        4736   2023 박물관 미술관 주간  뮤궁뮤진 X 국립산악박물관뮤궁뮤진 X 국립산악박물관...   \n",
              "\n",
              "                                                   tags label  \n",
              "0      선릉   평상술집   술   술집   술안주   꿀주   꿀막걸리   막걸리   ...     8  \n",
              "1      강남카페   강남대형카페도심   카즐_서울   카즐_강남   카즐_가로수길   카...     2  \n",
              "2      도산공원맛집   연타발압구정본점   강남맛집   신사동맛집   압구정맛집   도산...     1  \n",
              "3      서울카페   서울카페추천    서울데이트   서울데이트코스   서울가볼만한곳   ...     9  \n",
              "4      배꼽집   강남맛집   삼성동맛집   삼성역맛집   봉은사역맛집   코엑스맛집  ...     8  \n",
              "...                                                 ...   ...  \n",
              "4732   사진   여행사진   일본   여행   유후인   일본여행   후쿠오카   규슈 ...     7  \n",
              "4733   부산박물관   특별기획전   전시관람   전시연출   박물관   포토스팟   역관...     7  \n",
              "4734   사진   여행사진   한국   제주   여행   풍경   한국여행   제주도   ...     7  \n",
              "4735   한국박물관협회   한박협   뮤지엄   박물관   미술관   제17회한국박물관국제...     0  \n",
              "4736   박미주_소리    국립산악박물관   박미주_소리   박미주_국립산악박물관   박미...     7  \n",
              "\n",
              "[4737 rows x 4 columns]"
            ],
            "text/html": [
              "\n",
              "  <div id=\"df-52167c37-238a-45de-af4e-1c5dec3d1c9c\">\n",
              "    <div class=\"colab-df-container\">\n",
              "      <div>\n",
              "<style scoped>\n",
              "    .dataframe tbody tr th:only-of-type {\n",
              "        vertical-align: middle;\n",
              "    }\n",
              "\n",
              "    .dataframe tbody tr th {\n",
              "        vertical-align: top;\n",
              "    }\n",
              "\n",
              "    .dataframe thead th {\n",
              "        text-align: right;\n",
              "    }\n",
              "</style>\n",
              "<table border=\"1\" class=\"dataframe\">\n",
              "  <thead>\n",
              "    <tr style=\"text-align: right;\">\n",
              "      <th></th>\n",
              "      <th>Unnamed: 0</th>\n",
              "      <th>sentences</th>\n",
              "      <th>tags</th>\n",
              "      <th>label</th>\n",
              "    </tr>\n",
              "  </thead>\n",
              "  <tbody>\n",
              "    <tr>\n",
              "      <th>0</th>\n",
              "      <td>0</td>\n",
              "      <td>술이 달다   라고 하는걸 이걸보구 말하나봐요알쓰들도 무한대로 마실수 있는 연말을 ...</td>\n",
              "      <td>선릉   평상술집   술   술집   술안주   꿀주   꿀막걸리   막걸리   ...</td>\n",
              "      <td>8</td>\n",
              "    </tr>\n",
              "    <tr>\n",
              "      <th>1</th>\n",
              "      <td>1</td>\n",
              "      <td></td>\n",
              "      <td>강남카페   강남대형카페도심   카즐_서울   카즐_강남   카즐_가로수길   카...</td>\n",
              "      <td>2</td>\n",
              "    </tr>\n",
              "    <tr>\n",
              "      <th>2</th>\n",
              "      <td>2</td>\n",
              "      <td>연타발 압구정 완전 대박인듯ㅜㅜ어느 하나 모자람없는 이 맛을 다양한 세계로 이끌어가...</td>\n",
              "      <td>도산공원맛집   연타발압구정본점   강남맛집   신사동맛집   압구정맛집   도산...</td>\n",
              "      <td>1</td>\n",
              "    </tr>\n",
              "    <tr>\n",
              "      <th>3</th>\n",
              "      <td>3</td>\n",
              "      <td>날 풀리면 가기 좋을 서울 테라스카페 모음집   뷰맛집으로 너무 핫한 서울 예쁜...</td>\n",
              "      <td>서울카페   서울카페추천    서울데이트   서울데이트코스   서울가볼만한곳   ...</td>\n",
              "      <td>9</td>\n",
              "    </tr>\n",
              "    <tr>\n",
              "      <th>4</th>\n",
              "      <td>4</td>\n",
              "      <td>가장 행복한 순간 배꼽집에서 고기 먹을 때  맛있게 구워서 한 점 한 점 먹으면  ...</td>\n",
              "      <td>배꼽집   강남맛집   삼성동맛집   삼성역맛집   봉은사역맛집   코엑스맛집  ...</td>\n",
              "      <td>8</td>\n",
              "    </tr>\n",
              "    <tr>\n",
              "      <th>...</th>\n",
              "      <td>...</td>\n",
              "      <td>...</td>\n",
              "      <td>...</td>\n",
              "      <td>...</td>\n",
              "    </tr>\n",
              "    <tr>\n",
              "      <th>4732</th>\n",
              "      <td>4732</td>\n",
              "      <td>올드카에 관심 있다면  규슈 자동차 박물관2023 03 08</td>\n",
              "      <td>사진   여행사진   일본   여행   유후인   일본여행   후쿠오카   규슈 ...</td>\n",
              "      <td>7</td>\n",
              "    </tr>\n",
              "    <tr>\n",
              "      <th>4733</th>\n",
              "      <td>4733</td>\n",
              "      <td>조선의 외교관 역관  부산박물관 특별기획전 전시관람하고 왔어요  아직 어린 아들...</td>\n",
              "      <td>부산박물관   특별기획전   전시관람   전시연출   박물관   포토스팟   역관...</td>\n",
              "      <td>7</td>\n",
              "    </tr>\n",
              "    <tr>\n",
              "      <th>4734</th>\n",
              "      <td>4734</td>\n",
              "      <td>어벤져스 엔드게임의 감동을 다시 한 번  피규어뮤지엄제주 2023 03 15</td>\n",
              "      <td>사진   여행사진   한국   제주   여행   풍경   한국여행   제주도   ...</td>\n",
              "      <td>7</td>\n",
              "    </tr>\n",
              "    <tr>\n",
              "      <th>4735</th>\n",
              "      <td>4735</td>\n",
              "      <td>사 한국박물관협회 회장 조한희 는 지난 5월 11일 목 부터 13일 토 까지 3일...</td>\n",
              "      <td>한국박물관협회   한박협   뮤지엄   박물관   미술관   제17회한국박물관국제...</td>\n",
              "      <td>0</td>\n",
              "    </tr>\n",
              "    <tr>\n",
              "      <th>4736</th>\n",
              "      <td>4736</td>\n",
              "      <td>2023 박물관 미술관 주간  뮤궁뮤진 X 국립산악박물관뮤궁뮤진 X 국립산악박물관...</td>\n",
              "      <td>박미주_소리    국립산악박물관   박미주_소리   박미주_국립산악박물관   박미...</td>\n",
              "      <td>7</td>\n",
              "    </tr>\n",
              "  </tbody>\n",
              "</table>\n",
              "<p>4737 rows × 4 columns</p>\n",
              "</div>\n",
              "      <button class=\"colab-df-convert\" onclick=\"convertToInteractive('df-52167c37-238a-45de-af4e-1c5dec3d1c9c')\"\n",
              "              title=\"Convert this dataframe to an interactive table.\"\n",
              "              style=\"display:none;\">\n",
              "        \n",
              "  <svg xmlns=\"http://www.w3.org/2000/svg\" height=\"24px\"viewBox=\"0 0 24 24\"\n",
              "       width=\"24px\">\n",
              "    <path d=\"M0 0h24v24H0V0z\" fill=\"none\"/>\n",
              "    <path d=\"M18.56 5.44l.94 2.06.94-2.06 2.06-.94-2.06-.94-.94-2.06-.94 2.06-2.06.94zm-11 1L8.5 8.5l.94-2.06 2.06-.94-2.06-.94L8.5 2.5l-.94 2.06-2.06.94zm10 10l.94 2.06.94-2.06 2.06-.94-2.06-.94-.94-2.06-.94 2.06-2.06.94z\"/><path d=\"M17.41 7.96l-1.37-1.37c-.4-.4-.92-.59-1.43-.59-.52 0-1.04.2-1.43.59L10.3 9.45l-7.72 7.72c-.78.78-.78 2.05 0 2.83L4 21.41c.39.39.9.59 1.41.59.51 0 1.02-.2 1.41-.59l7.78-7.78 2.81-2.81c.8-.78.8-2.07 0-2.86zM5.41 20L4 18.59l7.72-7.72 1.47 1.35L5.41 20z\"/>\n",
              "  </svg>\n",
              "      </button>\n",
              "      \n",
              "  <style>\n",
              "    .colab-df-container {\n",
              "      display:flex;\n",
              "      flex-wrap:wrap;\n",
              "      gap: 12px;\n",
              "    }\n",
              "\n",
              "    .colab-df-convert {\n",
              "      background-color: #E8F0FE;\n",
              "      border: none;\n",
              "      border-radius: 50%;\n",
              "      cursor: pointer;\n",
              "      display: none;\n",
              "      fill: #1967D2;\n",
              "      height: 32px;\n",
              "      padding: 0 0 0 0;\n",
              "      width: 32px;\n",
              "    }\n",
              "\n",
              "    .colab-df-convert:hover {\n",
              "      background-color: #E2EBFA;\n",
              "      box-shadow: 0px 1px 2px rgba(60, 64, 67, 0.3), 0px 1px 3px 1px rgba(60, 64, 67, 0.15);\n",
              "      fill: #174EA6;\n",
              "    }\n",
              "\n",
              "    [theme=dark] .colab-df-convert {\n",
              "      background-color: #3B4455;\n",
              "      fill: #D2E3FC;\n",
              "    }\n",
              "\n",
              "    [theme=dark] .colab-df-convert:hover {\n",
              "      background-color: #434B5C;\n",
              "      box-shadow: 0px 1px 3px 1px rgba(0, 0, 0, 0.15);\n",
              "      filter: drop-shadow(0px 1px 2px rgba(0, 0, 0, 0.3));\n",
              "      fill: #FFFFFF;\n",
              "    }\n",
              "  </style>\n",
              "\n",
              "      <script>\n",
              "        const buttonEl =\n",
              "          document.querySelector('#df-52167c37-238a-45de-af4e-1c5dec3d1c9c button.colab-df-convert');\n",
              "        buttonEl.style.display =\n",
              "          google.colab.kernel.accessAllowed ? 'block' : 'none';\n",
              "\n",
              "        async function convertToInteractive(key) {\n",
              "          const element = document.querySelector('#df-52167c37-238a-45de-af4e-1c5dec3d1c9c');\n",
              "          const dataTable =\n",
              "            await google.colab.kernel.invokeFunction('convertToInteractive',\n",
              "                                                     [key], {});\n",
              "          if (!dataTable) return;\n",
              "\n",
              "          const docLinkHtml = 'Like what you see? Visit the ' +\n",
              "            '<a target=\"_blank\" href=https://colab.research.google.com/notebooks/data_table.ipynb>data table notebook</a>'\n",
              "            + ' to learn more about interactive tables.';\n",
              "          element.innerHTML = '';\n",
              "          dataTable['output_type'] = 'display_data';\n",
              "          await google.colab.output.renderOutput(dataTable, element);\n",
              "          const docLink = document.createElement('div');\n",
              "          docLink.innerHTML = docLinkHtml;\n",
              "          element.appendChild(docLink);\n",
              "        }\n",
              "      </script>\n",
              "    </div>\n",
              "  </div>\n",
              "  "
            ]
          },
          "metadata": {},
          "execution_count": 63
        }
      ],
      "source": [
        "# 데이터 확인\n",
        "df"
      ]
    },
    {
      "cell_type": "code",
      "execution_count": null,
      "metadata": {
        "colab": {
          "base_uri": "https://localhost:8080/"
        },
        "id": "mGOOD9lFoZsI",
        "outputId": "d8f9cc3e-ea03-47e5-ed18-eef257ec2838"
      },
      "outputs": [
        {
          "output_type": "stream",
          "name": "stdout",
          "text": [
            "Unnamed: 0    0\n",
            "sentences     1\n",
            "tags          0\n",
            "label         0\n",
            "dtype: int64\n"
          ]
        }
      ],
      "source": [
        "# 어떤 열에서 Null 값 존재하는지 확인\n",
        "print(df.isnull().sum())"
      ]
    },
    {
      "cell_type": "code",
      "execution_count": null,
      "metadata": {
        "colab": {
          "base_uri": "https://localhost:8080/"
        },
        "id": "npFtnyNCl4TE",
        "outputId": "bab49a6d-a365-4bc1-cb0d-015376b480a1"
      },
      "outputs": [
        {
          "output_type": "stream",
          "name": "stdout",
          "text": [
            "False\n"
          ]
        }
      ],
      "source": [
        "# Null값 제거\n",
        "df = df.dropna(how = 'any') # Null 값이 존재하는 행 제거\n",
        "print(df.isnull().values.any()) # Null 값이 존재하는지 확인"
      ]
    },
    {
      "cell_type": "code",
      "execution_count": null,
      "metadata": {
        "colab": {
          "base_uri": "https://localhost:8080/"
        },
        "id": "kEdvwn6OmTPO",
        "outputId": "e1c4ed2e-b9ad-40c7-d2c0-b918750f8bd9"
      },
      "outputs": [
        {
          "output_type": "stream",
          "name": "stdout",
          "text": [
            "4736\n"
          ]
        }
      ],
      "source": [
        "# Null값 제거 후 데이터 개수 확인\n",
        "print(len(df))"
      ]
    },
    {
      "cell_type": "code",
      "execution_count": null,
      "metadata": {
        "colab": {
          "base_uri": "https://localhost:8080/",
          "height": 684
        },
        "id": "iqRSShoz91fi",
        "outputId": "ac9dbd8b-9799-41aa-daf0-126fba21ccdd"
      },
      "outputs": [
        {
          "output_type": "stream",
          "name": "stdout",
          "text": [
            "1      1139\n",
            "0      1010\n",
            "8       505\n",
            "2       456\n",
            "3       429\n",
            "5       371\n",
            "7       286\n",
            "9       273\n",
            "4       121\n",
            "nan      73\n",
            "6        73\n",
            "Name: label, dtype: int64\n"
          ]
        },
        {
          "output_type": "execute_result",
          "data": {
            "text/plain": [
              "4736"
            ]
          },
          "metadata": {},
          "execution_count": 67
        },
        {
          "output_type": "display_data",
          "data": {
            "text/plain": [
              "<Figure size 640x480 with 1 Axes>"
            ],
            "image/png": "[encoded data removed]"
          },
          "metadata": {}
        }
      ],
      "source": [
        "# Null값 제거 후 각 label별 갯수 확인\n",
        "df['label'].value_counts().plot(kind = 'bar')\n",
        "print(df['label'].value_counts())\n",
        "len(df)"
      ]
    },
    {
      "cell_type": "code",
      "execution_count": null,
      "metadata": {
        "id": "yYolu3s8cN3b"
      },
      "outputs": [],
      "source": [
        "# label에서 nan 제거\n",
        "df = df[df.label != 'nan']"
      ]
    },
    {
      "cell_type": "code",
      "execution_count": null,
      "metadata": {
        "colab": {
          "base_uri": "https://localhost:8080/",
          "height": 648
        },
        "id": "riVb8oUWcNha",
        "outputId": "47122f60-78ef-4da3-f9fe-8f696f192797"
      },
      "outputs": [
        {
          "output_type": "stream",
          "name": "stdout",
          "text": [
            "1    1139\n",
            "0    1010\n",
            "8     505\n",
            "2     456\n",
            "3     429\n",
            "5     371\n",
            "7     286\n",
            "9     273\n",
            "4     121\n",
            "6      73\n",
            "Name: label, dtype: int64\n"
          ]
        },
        {
          "output_type": "execute_result",
          "data": {
            "text/plain": [
              "4663"
            ]
          },
          "metadata": {},
          "execution_count": 69
        },
        {
          "output_type": "display_data",
          "data": {
            "text/plain": [
              "<Figure size 640x480 with 1 Axes>"
            ],
            "image/png": "[encoded data removed]"
          },
          "metadata": {}
        }
      ],
      "source": [
        "# 각 label별 갯수 확인\n",
        "df['label'].value_counts().plot(kind = 'bar')\n",
        "print(df['label'].value_counts())\n",
        "len(df)"
      ]
    },
    {
      "cell_type": "code",
      "execution_count": null,
      "metadata": {
        "colab": {
          "base_uri": "https://localhost:8080/"
        },
        "id": "PCLDUAcNxvGT",
        "outputId": "022ceab5-8b2f-4cf1-b0d7-2dcf4c6f2737"
      },
      "outputs": [
        {
          "output_type": "stream",
          "name": "stdout",
          "text": [
            "   \n"
          ]
        }
      ],
      "source": [
        "# data_list에 본문과 라벨링된 값 저장\n",
        "data_list = []\n",
        "for q, label in zip(df['tags'], df['label'])  :\n",
        "    if q.strip() == '' or q.strip() == '.':\n",
        "        print(q)\n",
        "        continue\n",
        "    data = []\n",
        "    data.append(q)\n",
        "    data.append(str(label))\n",
        "\n",
        "    data_list.append(data)"
      ]
    },
    {
      "cell_type": "code",
      "execution_count": null,
      "metadata": {
        "colab": {
          "base_uri": "https://localhost:8080/"
        },
        "id": "M3ERVX4MyFe5",
        "outputId": "ee53b314-f7a9-4511-e3d3-08abe0a3d687"
      },
      "outputs": [
        {
          "output_type": "stream",
          "name": "stdout",
          "text": [
            "[' 선릉   평상술집   술   술집   술안주   꿀주   꿀막걸리   막걸리   선릉맛집   선릉술집   강남술집', '8']\n",
            "[' 강원도고성여행   고성DMZ역사여행   DMZTHE   강원도철원여행   철원레저스포츠여행   DMZTHE   DMZTHEGANGWON   강원DMZ   생태평화벨트   한반도생태평화벨트   고성여행   고성DMZ   고성역사여행   고성데이트코스   고성커플여행   고성가볼만한곳   서울근처드라이브코스   고성추천관광지   고성통일전망대   주말여행', '3']\n"
          ]
        }
      ],
      "source": [
        "print(data_list[0])\n",
        "print(data_list[500])\n",
        "#print(data_list[1200])\n",
        "# print(data_list[1800])\n",
        "# print(data_list[2400])\n",
        "# print(data_list[2800])\n",
        "# print(data_list[-1])"
      ]
    },
    {
      "cell_type": "code",
      "execution_count": null,
      "metadata": {
        "id": "Wce4ICOPyHqV"
      },
      "outputs": [],
      "source": [
        "#train & test 데이터로 나누기 train 80 test 20\n",
        "from sklearn.model_selection import train_test_split\n",
        "                                                         \n",
        "train, test = train_test_split(df, test_size=0.2, random_state=0)"
      ]
    },
    {
      "cell_type": "code",
      "execution_count": null,
      "metadata": {
        "colab": {
          "base_uri": "https://localhost:8080/"
        },
        "id": "JNBGMYZR02eV",
        "outputId": "a8c2110d-e700-4ae3-94d9-0da3adf43bd4"
      },
      "outputs": [
        {
          "output_type": "stream",
          "name": "stdout",
          "text": [
            "3730\n",
            "933\n"
          ]
        }
      ],
      "source": [
        "# train data, test data 개수 확인\n",
        "print(len(train))\n",
        "print(len(test))"
      ]
    },
    {
      "cell_type": "code",
      "execution_count": null,
      "metadata": {
        "colab": {
          "base_uri": "https://localhost:8080/"
        },
        "id": "txTvwRFCYkaz",
        "outputId": "8a690254-8a1b-417c-daf5-179a18d53ac1"
      },
      "outputs": [
        {
          "output_type": "stream",
          "name": "stdout",
          "text": [
            "      Unnamed: 0                                          sentences  \\\n",
            "4391        4391                 짜릿함 느낄 수 있는 이색 해외 액티비티 BEST 7입니다     \n",
            "2676        2676  족발신선생 영등포점에서만맛 볼 수 있는 화덕족발   600 의 화산석 화덕으로매장에...   \n",
            "2205        2205                                  나종이 푹 쉬고 올게 안뇽      \n",
            "2533        2533              _____소문듣고 왔는데 정말 맛있다  진심 단골이 될 것 같다     \n",
            "4282        4282                                       U0001f90d      \n",
            "...          ...                                                ...   \n",
            "1050        1050   해파랑길 32코스를 걷다   맹방해변에서 추암해변까지 긴 거리지만 아름다운 오십천...   \n",
            "3320        3320  오늘 소개시켜드릴 곳은 바로 청와옥 을지로3가직영점 든든한 국밥 한그릇이 최고죠  ...   \n",
            "1683        1683          보더콜리 댕댕이처럼 기분좋은 주말입니다카페공간비 놀러온 보더콜리댕댕이      \n",
            "2660        2660   영등포 타임스퀘어 데이트 핫플 모음집  맛집부터 카페  실내동물원  공방까지 다 ...   \n",
            "2785        2785  부산근교 마운틴뷰 카페 리스트  오션뷰도 예쁘지만 마운틴뷰도 넘 예쁘다구   초록초...   \n",
            "\n",
            "                                                   tags label  \n",
            "4391   해외 여행   미안하다여행가자   미안행_해외   해외여행   해외액티비티   액...     0  \n",
            "2676   족발신선생영등포점   족신영등포   영등포맛집   영등포역맛집   영등포족발   ...     8  \n",
            "2205                             공주휴가   daily   l4likes     0  \n",
            "2533   미도인   부평미도인   부평400등심스테이크덮밥   인천라이프   인천파스타  ...     3  \n",
            "4282   친구   지하철드라이브    여행   데일리   daily   사진   일반카메라...     7  \n",
            "...                                                 ...   ...  \n",
            "1050   해파랑길32코스완주   맹방해변길걷기   삼척해변걷기   후진항    죽서루   ...     7  \n",
            "3320   청와옥을지로3가직영점   을지로맛집   힙지로맛집   종로맛집   을지로입구맛집 ...     8  \n",
            "1683   카페공간비   남해놀러갈만한곳   남해커피   카페여행   남해맛집베스트   카야...     9  \n",
            "2660           영등포가볼만한곳   영등포핫플   타임스퀘어   영등포역   영등포데이트     3  \n",
            "2785   부산근교   부산근교여행   부산카페   부산맛집   양산카페   양산핫플   양...     9  \n",
            "\n",
            "[3730 rows x 4 columns]\n"
          ]
        }
      ],
      "source": [
        "print(train)"
      ]
    },
    {
      "cell_type": "markdown",
      "metadata": {
        "id": "OBdwQxrkX3j6"
      },
      "source": [
        "------"
      ]
    },
    {
      "cell_type": "markdown",
      "source": [
        "문장별 전처리"
      ],
      "metadata": {
        "id": "DCOFyy1zbroq"
      }
    },
    {
      "cell_type": "code",
      "execution_count": null,
      "metadata": {
        "id": "Xachxm2KX2yz"
      },
      "outputs": [],
      "source": [
        "# CLS, SEP 붙이기 (문장의 시작, 끝)\n",
        "document_bert = [\"[CLS] \" + str(s) + \" [SEP]\" for s in train.tags]"
      ]
    },
    {
      "cell_type": "code",
      "execution_count": null,
      "metadata": {
        "colab": {
          "base_uri": "https://localhost:8080/"
        },
        "id": "4-4_U1PIX6hS",
        "outputId": "c59da2e0-14c7-4caf-da94-3085d931a225"
      },
      "outputs": [
        {
          "output_type": "execute_result",
          "data": {
            "text/plain": [
              "['[CLS]  해외 여행   미안하다여행가자   미안행_해외   해외여행   해외액티비티   액티비티추천   겨울액티비티   해외가볼만한곳   벌룬투어   스카이다이빙   두바이여행   두바이가볼만한곳   센토사섬   루지체험   번지점프   이색액티비티   이색여행   이색해외여행   해외여행지   해외여행지추천   해외여행준비   해외핫플   두바이사파리   시드니여행   좋아요반사   좋반   소통   여행에미치다   여행스타그램   여행 [SEP]',\n",
              " '[CLS]  족발신선생영등포점   족신영등포   영등포맛집   영등포역맛집   영등포족발   영등포역족발   맛집   맛집인정   영등포가볼만한곳   영등포역모임   영등포맛집추천   먹스타맞팔   영등포술집   먹방로드   영등포역족발맛집   맞팔해요   프로먹방러 [SEP]',\n",
              " '[CLS]  공주휴가   daily   l4likes [SEP]',\n",
              " '[CLS]  미도인   부평미도인   부평400등심스테이크덮밥   인천라이프   인천파스타   부평맛집미도인   양식집   부평맛집   경양식   인천숨은맛집   인생식탁   인천맛집   부평가볼만한곳   부평파스타 [SEP]',\n",
              " '[CLS]  친구   지하철드라이브    여행   데일리   daily   사진   일반카메라   아이폰12미니   라이브   즐거움   추억   사진겁나많아   91년생   ootd   instadaily   insta   selfie   일상   전시회   무쌍   짝눈   서울   나들이   노을   망원한강   플라워바이네이키드홍대   홍대코코넛박스 [SEP]']"
            ]
          },
          "metadata": {},
          "execution_count": 76
        }
      ],
      "source": [
        "document_bert[:5]"
      ]
    },
    {
      "cell_type": "code",
      "execution_count": null,
      "metadata": {
        "colab": {
          "base_uri": "https://localhost:8080/"
        },
        "id": "Ok4ysOjV7Epj",
        "outputId": "a0292b48-566a-4373-9f54-548198fcdbdb"
      },
      "outputs": [
        {
          "output_type": "stream",
          "name": "stdout",
          "text": [
            "tokenizeing..\n",
            "tokenized_texts[0]: ['[CLS]', '해', '##외', '여', '##행', '미', '##안', '##하다', '##여', '##행', '##가', '##자', '미', '##안', '##행', '_', '해', '##외', '해', '##외', '##여', '##행', '해', '##외', '##액', '##티', '##비', '##티', '액', '##티', '##비', '##티', '##추', '##천', '겨', '##울', '##액', '##티', '##비', '##티', '해', '##외', '##가', '##볼', '##만', '##한', '##곳', '벌', '##룬', '##투', '##어', '스', '##카', '##이다', '##이', '##빙', '두', '##바', '##이', '##여', '##행', '두', '##바', '##이가', '##볼', '##만', '##한', '##곳', '센', '##토', '##사', '##섬', '루', '##지', '##체', '##험', '번', '##지', '##점', '##프', '이', '##색', '##액', '##티', '##비', '##티', '이', '##색', '##여', '##행', '이', '##색', '##해', '##외', '##여', '##행', '해', '##외', '##여', '##행', '##지', '해', '##외', '##여', '##행', '##지', '##추', '##천', '해', '##외', '##여', '##행', '##준', '##비', '해', '##외', '##핫', '##플', '두', '##바', '##이', '##사', '##파', '##리', '시', '##드', '##니', '##여', '##행', '좋', '##아', '##요', '##반', '##사', '좋', '##반', '소', '##통', '여', '##행', '##에', '##미', '##치', '##다', '여', '##행', '##스', '##타', '##그램', '여', '##행', '[SEP]']\n"
          ]
        }
      ],
      "source": [
        "#사전 학습된 BERT multilingual 모델 내 포함되어있는 토크나이저 활용\n",
        "print('tokenizeing..')\n",
        "tokenizer = BertTokenizer.from_pretrained('bert-base-multilingual-cased',do_lower_case=False)\n",
        "tokenized_texts = [ tokenizer.tokenize(s) for s in document_bert]\n",
        "print('tokenized_texts[0]:',tokenized_texts[0])"
      ]
    },
    {
      "cell_type": "code",
      "execution_count": null,
      "metadata": {
        "colab": {
          "base_uri": "https://localhost:8080/"
        },
        "id": "JNVGpQV17QwM",
        "outputId": "ed3e1e54-544d-47e5-e65a-4992123581db"
      },
      "outputs": [
        {
          "output_type": "stream",
          "name": "stdout",
          "text": [
            "padding\n",
            "input_ids[0]: [   101   9960  78705   9565  25549   9309  34951  32679  29935  25549\n",
            "  11287  13764   9309  34951  25549    168   9960  78705   9960  78705\n",
            "  29935  25549   9960  78705 119122  45725  29455  45725   9533  45725\n",
            "  29455  45725 119274  38631   8877  78123 119122  45725  29455  45725\n",
            "   9960  78705  11287 101450  19105  11102 118644   9339 118890  75855\n",
            "  12965   9477  24206  11925  10739 119005   9102  42144  10739  29935\n",
            "  25549   9102  42144  57362 101450  19105  11102 118644   9437  26444\n",
            "  12945 119040   9213  12508  29683  86834   9338  12508  34907  28396\n",
            "   9638  41442 119122  45725  29455  45725   9638  41442  29935  25549\n",
            "   9638  41442  14523  78705  29935  25549   9960  78705  29935  25549\n",
            "  12508   9960  78705  29935  25549  12508 119274  38631   9960  78705\n",
            "  29935  25549  54867  29455   9960  78705 119419 119412   9102  42144\n",
            "  10739  12945  46150  12692   9485  15001  25503  29935]\n"
          ]
        }
      ],
      "source": [
        "#token들의 max length보다 크게 MAX_LEN을 설정한다. 설정한 MAX_LEN만큼 빈 공간을 0 이 채운다\n",
        "print('padding')\n",
        "MAX_LEN = 128\n",
        "input_ids = [tokenizer.convert_tokens_to_ids(x) for x in tokenized_texts]\n",
        "input_ids = pad_sequences(input_ids, maxlen = MAX_LEN, dtype='long', truncating='post', padding='post')\n",
        "input_ids[0]\n",
        "print('input_ids[0]:',input_ids[0])"
      ]
    },
    {
      "cell_type": "code",
      "execution_count": null,
      "metadata": {
        "colab": {
          "base_uri": "https://localhost:8080/"
        },
        "id": "s0EJLbhT7Vbx",
        "outputId": "834364e3-7bd9-461c-82b6-8b8d25715b73"
      },
      "outputs": [
        {
          "output_type": "stream",
          "name": "stdout",
          "text": [
            "attention_masks[0]: [1.0, 1.0, 1.0, 1.0, 1.0, 1.0, 1.0, 1.0, 1.0, 1.0, 1.0, 1.0, 1.0, 1.0, 1.0, 1.0, 1.0, 1.0, 1.0, 1.0, 1.0, 1.0, 1.0, 1.0, 1.0, 1.0, 1.0, 1.0, 1.0, 1.0, 1.0, 1.0, 1.0, 1.0, 1.0, 1.0, 1.0, 1.0, 1.0, 1.0, 1.0, 1.0, 1.0, 1.0, 1.0, 1.0, 1.0, 1.0, 1.0, 1.0, 1.0, 1.0, 1.0, 1.0, 1.0, 1.0, 1.0, 1.0, 1.0, 1.0, 1.0, 1.0, 1.0, 1.0, 1.0, 1.0, 1.0, 1.0, 1.0, 1.0, 1.0, 1.0, 1.0, 1.0, 1.0, 1.0, 1.0, 1.0, 1.0, 1.0, 1.0, 1.0, 1.0, 1.0, 1.0, 1.0, 1.0, 1.0, 1.0, 1.0, 1.0, 1.0, 1.0, 1.0, 1.0, 1.0, 1.0, 1.0, 1.0, 1.0, 1.0, 1.0, 1.0, 1.0, 1.0, 1.0, 1.0, 1.0, 1.0, 1.0, 1.0, 1.0, 1.0, 1.0, 1.0, 1.0, 1.0, 1.0, 1.0, 1.0, 1.0, 1.0, 1.0, 1.0, 1.0, 1.0, 1.0, 1.0]\n"
          ]
        }
      ],
      "source": [
        "#학습 속도를 높이기 위해 실 데이터가 있는 곳과 padding이 있는곳을 attention에게 알려줌\n",
        "\n",
        "attention_masks = []\n",
        "\n",
        "for seq in input_ids:\n",
        "    seq_mask = [float(i>0) for i in seq]\n",
        "    attention_masks.append(seq_mask)\n",
        "\n",
        "print('attention_masks[0]:',attention_masks[0])"
      ]
    },
    {
      "cell_type": "code",
      "execution_count": null,
      "metadata": {
        "colab": {
          "base_uri": "https://localhost:8080/"
        },
        "id": "SkkcFlTk7aMW",
        "outputId": "d6593595-3455-4287-bc66-9499f2163cde"
      },
      "outputs": [
        {
          "output_type": "stream",
          "name": "stdout",
          "text": [
            "split train - val\n"
          ]
        }
      ],
      "source": [
        "# input 과 mask가 뒤섞이지 않도록 random_state를 일정하게 고정.\n",
        "# test set은 위에서 분리되었기에 , train 과 validation set만 분리\n",
        "print('split train - val')\n",
        "train_inputs, validation_inputs, train_labels, validation_labels = \\\n",
        "train_test_split(input_ids, train['label'].values, random_state=42, test_size=0.1)\n",
        "\n",
        "train_masks, validation_masks, _, _ = train_test_split(attention_masks, input_ids, random_state=42,test_size=0.1)"
      ]
    },
    {
      "cell_type": "code",
      "execution_count": null,
      "metadata": {
        "id": "F4IOu9UuBUfk"
      },
      "outputs": [],
      "source": [
        "train_labels = train_labels.astype(int)"
      ]
    },
    {
      "cell_type": "code",
      "execution_count": null,
      "metadata": {
        "id": "xIVYlNi6BfU8"
      },
      "outputs": [],
      "source": [
        "validation_labels = validation_labels.astype(int)"
      ]
    },
    {
      "cell_type": "code",
      "execution_count": null,
      "metadata": {
        "colab": {
          "base_uri": "https://localhost:8080/"
        },
        "id": "65DQoIoi8RDt",
        "outputId": "b84657fc-5bcf-445f-a14e-4f1c0755c447"
      },
      "outputs": [
        {
          "output_type": "stream",
          "name": "stdout",
          "text": [
            "convert data to tenser..\n"
          ]
        }
      ],
      "source": [
        "# numpy ndarray로 되어있는 input,lable,mask들을 torch tensor로 변환\n",
        "print('convert data to tenser..')\n",
        "train_inputs = torch.tensor(train_inputs)\n",
        "train_labels = torch.tensor(train_labels)\n",
        "train_masks = torch.tensor(train_masks)\n",
        "validation_inputs = torch.tensor(validation_inputs)\n",
        "validation_labels = torch.tensor(validation_labels)\n",
        "validation_masks = torch.tensor(validation_masks)"
      ]
    },
    {
      "cell_type": "code",
      "execution_count": null,
      "metadata": {
        "colab": {
          "base_uri": "https://localhost:8080/"
        },
        "id": "eWo3Vp1p80ZI",
        "outputId": "487bf5f9-6ad5-40cc-ce7b-54fb907ac2da"
      },
      "outputs": [
        {
          "output_type": "stream",
          "name": "stdout",
          "text": [
            "set batch and data loader\n"
          ]
        }
      ],
      "source": [
        "#현재 쓰고있는 GPU의 VRAM에 맞게 배치사이즈 설정(크게 설정후 부족메시지가 뜨면 8의 배수중 작은것으로 줄여나가기)\n",
        "print('set batch and data loader')\n",
        "BATCH_SIZE = 80\n",
        "\n",
        "train_data = TensorDataset(train_inputs, train_masks, train_labels)\n",
        "train_sampler = RandomSampler(train_data)\n",
        "train_dataloader = DataLoader(train_data, sampler = train_sampler, batch_size = BATCH_SIZE)\n",
        "\n",
        "validation_data = TensorDataset(validation_inputs, validation_masks, validation_labels)\n",
        "validation_sampler = SequentialSampler(validation_data)\n",
        "validation_dataloader = DataLoader(validation_data, sampler=validation_sampler, batch_size=BATCH_SIZE)"
      ]
    },
    {
      "cell_type": "code",
      "execution_count": null,
      "metadata": {
        "colab": {
          "base_uri": "https://localhost:8080/"
        },
        "id": "Zd0evJj5Bmmm",
        "outputId": "a51966dd-bdcb-4533-8f70-5b0b5ac6451b"
      },
      "outputs": [
        {
          "output_type": "stream",
          "name": "stdout",
          "text": [
            "data split\n"
          ]
        }
      ],
      "source": [
        "#위의 train-val 셋 전처리와 동일\n",
        "print('data split')\n",
        "sentences = test['tags']\n",
        "sentences = [\"[CLS]\"+str(sentence)+\"[SEP]\" for sentence in sentences]\n",
        "labels = test['label'].values\n",
        "\n",
        "tokenized_texts = [tokenizer.tokenize(sent) for sent in sentences]\n",
        "\n",
        "input_ids = [tokenizer.convert_tokens_to_ids(x) for x in tokenized_texts]\n",
        "input_ids = pad_sequences(input_ids, maxlen=MAX_LEN, dtype=\"long\", truncating=\"post\", padding=\"post\")\n",
        "\n",
        "attention_masks = []\n",
        "for seq in input_ids:\n",
        "        seq_mask = [float(i>0) for i in seq]\n",
        "        attention_masks.append(seq_mask)\n",
        "\n",
        "labels = labels.astype(int)\n",
        "\n",
        "test_inputs = torch.tensor(input_ids)\n",
        "test_labels = torch.tensor(labels)\n",
        "test_masks = torch.tensor(attention_masks)\n",
        "\n",
        "test_data = TensorDataset(test_inputs, test_masks, test_labels)\n",
        "test_sampler = RandomSampler(test_data)\n",
        "test_dataloader = DataLoader(test_data, sampler=test_sampler, batch_size=BATCH_SIZE)"
      ]
    },
    {
      "cell_type": "code",
      "execution_count": null,
      "metadata": {
        "colab": {
          "base_uri": "https://localhost:8080/"
        },
        "id": "b0r39B7kEDYl",
        "outputId": "65f004c0-1de7-44fe-897e-e232adcae00c"
      },
      "outputs": [
        {
          "output_type": "stream",
          "name": "stdout",
          "text": [
            "True\n",
            "1\n",
            "Tesla T4\n"
          ]
        }
      ],
      "source": [
        "import torch\n",
        "\n",
        "print(torch.cuda.is_available())  # CUDA를 사용할 수 있는지 확인\n",
        "print(torch.cuda.device_count())  # 사용 가능한 CUDA 디바이스 개수 확인\n",
        "\n",
        "for i in range(torch.cuda.device_count()):\n",
        "    print(torch.cuda.get_device_name(i))  # CUDA 디바이스 이름 출력\n"
      ]
    },
    {
      "cell_type": "code",
      "execution_count": null,
      "metadata": {
        "colab": {
          "base_uri": "https://localhost:8080/"
        },
        "id": "h_VO3d-OBrtr",
        "outputId": "f1da06c5-ee5d-48f2-dfa1-8362bcb91395"
      },
      "outputs": [
        {
          "output_type": "stream",
          "name": "stdout",
          "text": [
            "There are 1 GPU(s) available.\n",
            "We will use the GPU: Tesla T4\n",
            "making BERT model for classification\n"
          ]
        },
        {
          "output_type": "stream",
          "name": "stderr",
          "text": [
            "Some weights of the model checkpoint at bert-base-multilingual-cased were not used when initializing BertForSequenceClassification: ['cls.seq_relationship.weight', 'cls.predictions.bias', 'cls.predictions.transform.dense.bias', 'cls.seq_relationship.bias', 'cls.predictions.transform.LayerNorm.weight', 'cls.predictions.transform.dense.weight', 'cls.predictions.transform.LayerNorm.bias', 'cls.predictions.decoder.weight']\n",
            "- This IS expected if you are initializing BertForSequenceClassification from the checkpoint of a model trained on another task or with another architecture (e.g. initializing a BertForSequenceClassification model from a BertForPreTraining model).\n",
            "- This IS NOT expected if you are initializing BertForSequenceClassification from the checkpoint of a model that you expect to be exactly identical (initializing a BertForSequenceClassification model from a BertForSequenceClassification model).\n",
            "Some weights of BertForSequenceClassification were not initialized from the model checkpoint at bert-base-multilingual-cased and are newly initialized: ['classifier.weight', 'classifier.bias']\n",
            "You should probably TRAIN this model on a down-stream task to be able to use it for predictions and inference.\n"
          ]
        },
        {
          "output_type": "execute_result",
          "data": {
            "text/plain": [
              "BertForSequenceClassification(\n",
              "  (bert): BertModel(\n",
              "    (embeddings): BertEmbeddings(\n",
              "      (word_embeddings): Embedding(119547, 768, padding_idx=0)\n",
              "      (position_embeddings): Embedding(512, 768)\n",
              "      (token_type_embeddings): Embedding(2, 768)\n",
              "      (LayerNorm): LayerNorm((768,), eps=1e-12, elementwise_affine=True)\n",
              "      (dropout): Dropout(p=0.1, inplace=False)\n",
              "    )\n",
              "    (encoder): BertEncoder(\n",
              "      (layer): ModuleList(\n",
              "        (0-11): 12 x BertLayer(\n",
              "          (attention): BertAttention(\n",
              "            (self): BertSelfAttention(\n",
              "              (query): Linear(in_features=768, out_features=768, bias=True)\n",
              "              (key): Linear(in_features=768, out_features=768, bias=True)\n",
              "              (value): Linear(in_features=768, out_features=768, bias=True)\n",
              "              (dropout): Dropout(p=0.1, inplace=False)\n",
              "            )\n",
              "            (output): BertSelfOutput(\n",
              "              (dense): Linear(in_features=768, out_features=768, bias=True)\n",
              "              (LayerNorm): LayerNorm((768,), eps=1e-12, elementwise_affine=True)\n",
              "              (dropout): Dropout(p=0.1, inplace=False)\n",
              "            )\n",
              "          )\n",
              "          (intermediate): BertIntermediate(\n",
              "            (dense): Linear(in_features=768, out_features=3072, bias=True)\n",
              "            (intermediate_act_fn): GELUActivation()\n",
              "          )\n",
              "          (output): BertOutput(\n",
              "            (dense): Linear(in_features=3072, out_features=768, bias=True)\n",
              "            (LayerNorm): LayerNorm((768,), eps=1e-12, elementwise_affine=True)\n",
              "            (dropout): Dropout(p=0.1, inplace=False)\n",
              "          )\n",
              "        )\n",
              "      )\n",
              "    )\n",
              "    (pooler): BertPooler(\n",
              "      (dense): Linear(in_features=768, out_features=768, bias=True)\n",
              "      (activation): Tanh()\n",
              "    )\n",
              "  )\n",
              "  (dropout): Dropout(p=0.1, inplace=False)\n",
              "  (classifier): Linear(in_features=768, out_features=10, bias=True)\n",
              ")"
            ]
          },
          "metadata": {},
          "execution_count": 87
        }
      ],
      "source": [
        "#GPU 체크 및 할당\n",
        "if torch.cuda.is_available():    \n",
        "    device = torch.device(\"cuda:0\")\n",
        "    print('There are %d GPU(s) available.' % torch.cuda.device_count())\n",
        "    print('We will use the GPU:', torch.cuda.get_device_name(0))\n",
        "else:\n",
        "    device = torch.device(\"cpu\")\n",
        "    print('No GPU available, using the CPU instead.')\n",
        "\n",
        "\n",
        "## 분류를 위한 BERT 모델 생성\n",
        "# transformers 의 BertForSequenceClassification 모듈 이용\n",
        "print('making BERT model for classification')\n",
        "model = BertForSequenceClassification.from_pretrained(\"bert-base-multilingual-cased\", num_labels=10)\n",
        "#model.cuda()\n",
        "model.to(device)"
      ]
    },
    {
      "cell_type": "code",
      "execution_count": null,
      "metadata": {
        "colab": {
          "base_uri": "https://localhost:8080/"
        },
        "id": "6F_V5hPQCRBV",
        "outputId": "22debe87-742b-4107-8756-7e51be0a01c2"
      },
      "outputs": [
        {
          "output_type": "stream",
          "name": "stdout",
          "text": [
            "train start\n"
          ]
        },
        {
          "output_type": "stream",
          "name": "stderr",
          "text": [
            "/usr/local/lib/python3.10/dist-packages/transformers/optimization.py:407: FutureWarning: This implementation of AdamW is deprecated and will be removed in a future version. Use the PyTorch implementation torch.optim.AdamW instead, or set `no_deprecation_warning=True` to disable this warning\n",
            "  warnings.warn(\n"
          ]
        }
      ],
      "source": [
        "# transformers에서 제공하는 옵티마이저 중 AdamW를 사용\n",
        "# 총 훈련 스텝은 이터레이션 * 에폭 수로 설정\n",
        "# 러닝 레잇 스케쥴러도 transformers에서 제공하는것을 사용\n",
        "\n",
        "#옵티마이저 설정\n",
        "optimizer = AdamW(model.parameters(),\n",
        "                  lr = 2e-5, # 학습률\n",
        "                  eps = 1e-8 # 0으로 나누는 것을 방지하기 위한 epsilon 값\n",
        "                )\n",
        "\n",
        "# 에폭수\n",
        "epochs = 50\n",
        "\n",
        "# 총 훈련 스텝\n",
        "total_steps = len(train_dataloader) * epochs\n",
        "\n",
        "# lr 조금씩 감소시키는 스케줄러\n",
        "scheduler = get_linear_schedule_with_warmup(optimizer, \n",
        "                                            num_warmup_steps = 0,\n",
        "                                            num_training_steps = total_steps)\n",
        "\n",
        "##학습\n",
        "# accuracy 와 시간 표시함수 정의\n",
        "# 정확도 계산 함수\n",
        "print('train start')\n",
        "def flat_accuracy(preds, labels):\n",
        "    pred_flat = np.argmax(preds, axis=1).flatten()\n",
        "    labels_flat = labels.flatten()\n",
        "    return np.sum(pred_flat == labels_flat) / len(labels_flat)\n",
        "\n",
        "# 시간 표시 함수\n",
        "def format_time(elapsed):\n",
        "    # 반올림\n",
        "    elapsed_rounded = int(round((elapsed)))\n",
        "    # hh:mm:ss으로 형태 변경\n",
        "    return str(datetime.timedelta(seconds=elapsed_rounded))"
      ]
    },
    {
      "cell_type": "code",
      "execution_count": null,
      "metadata": {
        "colab": {
          "base_uri": "https://localhost:8080/"
        },
        "id": "4R_yL0HsEoum",
        "outputId": "2e838d14-aeca-41d2-e45a-92c81f5201d1"
      },
      "outputs": [
        {
          "output_type": "stream",
          "name": "stdout",
          "text": [
            "\n",
            "======== Epoch 1 / 50 ========\n",
            "Training...\n",
            "\n",
            "  Average training loss: 1.98\n",
            "  Training epcoh took: 0:01:12\n",
            "\n",
            "Running Validation...\n",
            "  Accuracy: 0.44\n",
            "  Validation took: 0:00:03\n",
            "\n",
            "======== Epoch 2 / 50 ========\n",
            "Training...\n",
            "\n",
            "  Average training loss: 1.68\n",
            "  Training epcoh took: 0:01:11\n",
            "\n",
            "Running Validation...\n",
            "  Accuracy: 0.44\n",
            "  Validation took: 0:00:03\n",
            "\n",
            "======== Epoch 3 / 50 ========\n",
            "Training...\n",
            "\n",
            "  Average training loss: 1.53\n",
            "  Training epcoh took: 0:01:11\n",
            "\n",
            "Running Validation...\n",
            "  Accuracy: 0.43\n",
            "  Validation took: 0:00:03\n",
            "\n",
            "======== Epoch 4 / 50 ========\n",
            "Training...\n",
            "\n",
            "  Average training loss: 1.39\n",
            "  Training epcoh took: 0:01:11\n",
            "\n",
            "Running Validation...\n",
            "  Accuracy: 0.41\n",
            "  Validation took: 0:00:03\n",
            "\n",
            "======== Epoch 5 / 50 ========\n",
            "Training...\n",
            "\n",
            "  Average training loss: 1.26\n",
            "  Training epcoh took: 0:01:11\n",
            "\n",
            "Running Validation...\n",
            "  Accuracy: 0.46\n",
            "  Validation took: 0:00:03\n",
            "\n",
            "======== Epoch 6 / 50 ========\n",
            "Training...\n",
            "\n",
            "  Average training loss: 1.14\n",
            "  Training epcoh took: 0:01:11\n",
            "\n",
            "Running Validation...\n",
            "  Accuracy: 0.45\n",
            "  Validation took: 0:00:03\n",
            "\n",
            "======== Epoch 7 / 50 ========\n",
            "Training...\n",
            "\n",
            "  Average training loss: 1.05\n",
            "  Training epcoh took: 0:01:11\n",
            "\n",
            "Running Validation...\n",
            "  Accuracy: 0.43\n",
            "  Validation took: 0:00:03\n",
            "\n",
            "======== Epoch 8 / 50 ========\n",
            "Training...\n",
            "\n",
            "  Average training loss: 0.96\n",
            "  Training epcoh took: 0:01:11\n",
            "\n",
            "Running Validation...\n",
            "  Accuracy: 0.43\n",
            "  Validation took: 0:00:03\n",
            "\n",
            "======== Epoch 9 / 50 ========\n",
            "Training...\n",
            "\n",
            "  Average training loss: 0.84\n",
            "  Training epcoh took: 0:01:11\n",
            "\n",
            "Running Validation...\n",
            "  Accuracy: 0.45\n",
            "  Validation took: 0:00:03\n",
            "\n",
            "======== Epoch 10 / 50 ========\n",
            "Training...\n",
            "\n",
            "  Average training loss: 0.75\n",
            "  Training epcoh took: 0:01:11\n",
            "\n",
            "Running Validation...\n",
            "  Accuracy: 0.43\n",
            "  Validation took: 0:00:03\n",
            "\n",
            "======== Epoch 11 / 50 ========\n",
            "Training...\n",
            "\n",
            "  Average training loss: 0.65\n",
            "  Training epcoh took: 0:01:11\n",
            "\n",
            "Running Validation...\n",
            "  Accuracy: 0.40\n",
            "  Validation took: 0:00:03\n",
            "\n",
            "======== Epoch 12 / 50 ========\n",
            "Training...\n",
            "\n",
            "  Average training loss: 0.58\n",
            "  Training epcoh took: 0:01:11\n",
            "\n",
            "Running Validation...\n",
            "  Accuracy: 0.43\n",
            "  Validation took: 0:00:03\n",
            "\n",
            "======== Epoch 13 / 50 ========\n",
            "Training...\n",
            "\n",
            "  Average training loss: 0.51\n",
            "  Training epcoh took: 0:01:11\n",
            "\n",
            "Running Validation...\n",
            "  Accuracy: 0.41\n",
            "  Validation took: 0:00:03\n",
            "\n",
            "======== Epoch 14 / 50 ========\n",
            "Training...\n",
            "\n",
            "  Average training loss: 0.44\n",
            "  Training epcoh took: 0:01:11\n",
            "\n",
            "Running Validation...\n",
            "  Accuracy: 0.40\n",
            "  Validation took: 0:00:03\n",
            "\n",
            "======== Epoch 15 / 50 ========\n",
            "Training...\n",
            "\n",
            "  Average training loss: 0.38\n",
            "  Training epcoh took: 0:01:11\n",
            "\n",
            "Running Validation...\n",
            "  Accuracy: 0.40\n",
            "  Validation took: 0:00:03\n",
            "\n",
            "======== Epoch 16 / 50 ========\n",
            "Training...\n",
            "\n",
            "  Average training loss: 0.34\n",
            "  Training epcoh took: 0:01:11\n",
            "\n",
            "Running Validation...\n",
            "  Accuracy: 0.40\n",
            "  Validation took: 0:00:03\n",
            "\n",
            "======== Epoch 17 / 50 ========\n",
            "Training...\n",
            "\n",
            "  Average training loss: 0.30\n",
            "  Training epcoh took: 0:01:11\n",
            "\n",
            "Running Validation...\n",
            "  Accuracy: 0.40\n",
            "  Validation took: 0:00:03\n",
            "\n",
            "======== Epoch 18 / 50 ========\n",
            "Training...\n",
            "\n",
            "  Average training loss: 0.28\n",
            "  Training epcoh took: 0:01:11\n",
            "\n",
            "Running Validation...\n",
            "  Accuracy: 0.40\n",
            "  Validation took: 0:00:03\n",
            "\n",
            "======== Epoch 19 / 50 ========\n",
            "Training...\n",
            "\n",
            "  Average training loss: 0.25\n",
            "  Training epcoh took: 0:01:11\n",
            "\n",
            "Running Validation...\n",
            "  Accuracy: 0.40\n",
            "  Validation took: 0:00:03\n",
            "\n",
            "======== Epoch 20 / 50 ========\n",
            "Training...\n",
            "\n",
            "  Average training loss: 0.23\n",
            "  Training epcoh took: 0:01:11\n",
            "\n",
            "Running Validation...\n",
            "  Accuracy: 0.41\n",
            "  Validation took: 0:00:03\n",
            "\n",
            "======== Epoch 21 / 50 ========\n",
            "Training...\n",
            "\n",
            "  Average training loss: 0.20\n",
            "  Training epcoh took: 0:01:11\n",
            "\n",
            "Running Validation...\n",
            "  Accuracy: 0.43\n",
            "  Validation took: 0:00:03\n",
            "\n",
            "======== Epoch 22 / 50 ========\n",
            "Training...\n",
            "\n",
            "  Average training loss: 0.17\n",
            "  Training epcoh took: 0:01:11\n",
            "\n",
            "Running Validation...\n",
            "  Accuracy: 0.43\n",
            "  Validation took: 0:00:03\n",
            "\n",
            "======== Epoch 23 / 50 ========\n",
            "Training...\n",
            "\n",
            "  Average training loss: 0.17\n",
            "  Training epcoh took: 0:01:11\n",
            "\n",
            "Running Validation...\n",
            "  Accuracy: 0.43\n",
            "  Validation took: 0:00:03\n",
            "\n",
            "======== Epoch 24 / 50 ========\n",
            "Training...\n",
            "\n",
            "  Average training loss: 0.15\n",
            "  Training epcoh took: 0:01:11\n",
            "\n",
            "Running Validation...\n",
            "  Accuracy: 0.41\n",
            "  Validation took: 0:00:03\n",
            "\n",
            "======== Epoch 25 / 50 ========\n",
            "Training...\n",
            "\n",
            "  Average training loss: 0.13\n",
            "  Training epcoh took: 0:01:11\n",
            "\n",
            "Running Validation...\n",
            "  Accuracy: 0.42\n",
            "  Validation took: 0:00:03\n",
            "\n",
            "======== Epoch 26 / 50 ========\n",
            "Training...\n",
            "\n",
            "  Average training loss: 0.13\n",
            "  Training epcoh took: 0:01:11\n",
            "\n",
            "Running Validation...\n",
            "  Accuracy: 0.43\n",
            "  Validation took: 0:00:03\n",
            "\n",
            "======== Epoch 27 / 50 ========\n",
            "Training...\n",
            "\n",
            "  Average training loss: 0.12\n",
            "  Training epcoh took: 0:01:11\n",
            "\n",
            "Running Validation...\n",
            "  Accuracy: 0.41\n",
            "  Validation took: 0:00:03\n",
            "\n",
            "======== Epoch 28 / 50 ========\n",
            "Training...\n",
            "\n",
            "  Average training loss: 0.11\n",
            "  Training epcoh took: 0:01:11\n",
            "\n",
            "Running Validation...\n",
            "  Accuracy: 0.43\n",
            "  Validation took: 0:00:03\n",
            "\n",
            "======== Epoch 29 / 50 ========\n",
            "Training...\n",
            "\n",
            "  Average training loss: 0.10\n",
            "  Training epcoh took: 0:01:11\n",
            "\n",
            "Running Validation...\n",
            "  Accuracy: 0.43\n",
            "  Validation took: 0:00:03\n",
            "\n",
            "======== Epoch 30 / 50 ========\n",
            "Training...\n",
            "\n",
            "  Average training loss: 0.09\n",
            "  Training epcoh took: 0:01:11\n",
            "\n",
            "Running Validation...\n",
            "  Accuracy: 0.43\n",
            "  Validation took: 0:00:03\n",
            "\n",
            "======== Epoch 31 / 50 ========\n",
            "Training...\n",
            "\n",
            "  Average training loss: 0.08\n",
            "  Training epcoh took: 0:01:11\n",
            "\n",
            "Running Validation...\n",
            "  Accuracy: 0.39\n",
            "  Validation took: 0:00:03\n",
            "\n",
            "======== Epoch 32 / 50 ========\n",
            "Training...\n",
            "\n",
            "  Average training loss: 0.08\n",
            "  Training epcoh took: 0:01:11\n",
            "\n",
            "Running Validation...\n",
            "  Accuracy: 0.44\n",
            "  Validation took: 0:00:03\n",
            "\n",
            "======== Epoch 33 / 50 ========\n",
            "Training...\n",
            "\n",
            "  Average training loss: 0.07\n",
            "  Training epcoh took: 0:01:11\n",
            "\n",
            "Running Validation...\n",
            "  Accuracy: 0.42\n",
            "  Validation took: 0:00:03\n",
            "\n",
            "======== Epoch 34 / 50 ========\n",
            "Training...\n",
            "\n",
            "  Average training loss: 0.08\n",
            "  Training epcoh took: 0:01:11\n",
            "\n",
            "Running Validation...\n",
            "  Accuracy: 0.42\n",
            "  Validation took: 0:00:03\n",
            "\n",
            "======== Epoch 35 / 50 ========\n",
            "Training...\n",
            "\n",
            "  Average training loss: 0.06\n",
            "  Training epcoh took: 0:01:11\n",
            "\n",
            "Running Validation...\n",
            "  Accuracy: 0.42\n",
            "  Validation took: 0:00:03\n",
            "\n",
            "======== Epoch 36 / 50 ========\n",
            "Training...\n",
            "\n",
            "  Average training loss: 0.06\n",
            "  Training epcoh took: 0:01:11\n",
            "\n",
            "Running Validation...\n",
            "  Accuracy: 0.42\n",
            "  Validation took: 0:00:03\n",
            "\n",
            "======== Epoch 37 / 50 ========\n",
            "Training...\n",
            "\n",
            "  Average training loss: 0.06\n",
            "  Training epcoh took: 0:01:11\n",
            "\n",
            "Running Validation...\n",
            "  Accuracy: 0.42\n",
            "  Validation took: 0:00:03\n",
            "\n",
            "======== Epoch 38 / 50 ========\n",
            "Training...\n",
            "\n",
            "  Average training loss: 0.05\n",
            "  Training epcoh took: 0:01:11\n",
            "\n",
            "Running Validation...\n",
            "  Accuracy: 0.41\n",
            "  Validation took: 0:00:03\n",
            "\n",
            "======== Epoch 39 / 50 ========\n",
            "Training...\n",
            "\n",
            "  Average training loss: 0.05\n",
            "  Training epcoh took: 0:01:11\n",
            "\n",
            "Running Validation...\n",
            "  Accuracy: 0.42\n",
            "  Validation took: 0:00:03\n",
            "\n",
            "======== Epoch 40 / 50 ========\n",
            "Training...\n",
            "\n",
            "  Average training loss: 0.05\n",
            "  Training epcoh took: 0:01:11\n",
            "\n",
            "Running Validation...\n",
            "  Accuracy: 0.44\n",
            "  Validation took: 0:00:03\n",
            "\n",
            "======== Epoch 41 / 50 ========\n",
            "Training...\n",
            "\n",
            "  Average training loss: 0.05\n",
            "  Training epcoh took: 0:01:11\n",
            "\n",
            "Running Validation...\n",
            "  Accuracy: 0.43\n",
            "  Validation took: 0:00:03\n",
            "\n",
            "======== Epoch 42 / 50 ========\n",
            "Training...\n",
            "\n",
            "  Average training loss: 0.04\n",
            "  Training epcoh took: 0:01:11\n",
            "\n",
            "Running Validation...\n",
            "  Accuracy: 0.42\n",
            "  Validation took: 0:00:03\n",
            "\n",
            "======== Epoch 43 / 50 ========\n",
            "Training...\n",
            "\n",
            "  Average training loss: 0.04\n",
            "  Training epcoh took: 0:01:11\n",
            "\n",
            "Running Validation...\n",
            "  Accuracy: 0.43\n",
            "  Validation took: 0:00:03\n",
            "\n",
            "======== Epoch 44 / 50 ========\n",
            "Training...\n",
            "\n",
            "  Average training loss: 0.04\n",
            "  Training epcoh took: 0:01:11\n",
            "\n",
            "Running Validation...\n",
            "  Accuracy: 0.44\n",
            "  Validation took: 0:00:03\n",
            "\n",
            "======== Epoch 45 / 50 ========\n",
            "Training...\n",
            "\n",
            "  Average training loss: 0.04\n",
            "  Training epcoh took: 0:01:11\n",
            "\n",
            "Running Validation...\n",
            "  Accuracy: 0.42\n",
            "  Validation took: 0:00:03\n",
            "\n",
            "======== Epoch 46 / 50 ========\n",
            "Training...\n",
            "\n",
            "  Average training loss: 0.04\n",
            "  Training epcoh took: 0:01:11\n",
            "\n",
            "Running Validation...\n",
            "  Accuracy: 0.42\n",
            "  Validation took: 0:00:03\n",
            "\n",
            "======== Epoch 47 / 50 ========\n",
            "Training...\n",
            "\n",
            "  Average training loss: 0.03\n",
            "  Training epcoh took: 0:01:11\n",
            "\n",
            "Running Validation...\n",
            "  Accuracy: 0.41\n",
            "  Validation took: 0:00:03\n",
            "\n",
            "======== Epoch 48 / 50 ========\n",
            "Training...\n",
            "\n",
            "  Average training loss: 0.03\n",
            "  Training epcoh took: 0:01:11\n",
            "\n",
            "Running Validation...\n",
            "  Accuracy: 0.43\n",
            "  Validation took: 0:00:03\n",
            "\n",
            "======== Epoch 49 / 50 ========\n",
            "Training...\n",
            "\n",
            "  Average training loss: 0.03\n",
            "  Training epcoh took: 0:01:11\n",
            "\n",
            "Running Validation...\n",
            "  Accuracy: 0.43\n",
            "  Validation took: 0:00:03\n",
            "\n",
            "======== Epoch 50 / 50 ========\n",
            "Training...\n",
            "\n",
            "  Average training loss: 0.03\n",
            "  Training epcoh took: 0:01:11\n",
            "\n",
            "Running Validation...\n",
            "  Accuracy: 0.44\n",
            "  Validation took: 0:00:03\n",
            "\n",
            "Training complete!\n",
            "\n"
          ]
        }
      ],
      "source": [
        "# 데이터로더에서 배치만큼 가져온 후 forward, backward pass를 수행\n",
        "# gradient update는 명시적으로 하지 않고 위에서 로드한 optimizer를 활용\n",
        "# 재현을 위해 랜덤시드 고정\n",
        "# 모든 Epoch를 학습하면 학습이 종료\n",
        "\n",
        "seed_val = 42\n",
        "random.seed(seed_val)\n",
        "np.random.seed(seed_val)\n",
        "torch.manual_seed(seed_val)\n",
        "torch.cuda.manual_seed_all(seed_val)\n",
        "\n",
        "# 그래디언트 초기화\n",
        "model.zero_grad()\n",
        "\n",
        "# 에폭만큼 반복\n",
        "for epoch_i in range(0, epochs):\n",
        "    \n",
        "    # ========================================\n",
        "    #               Training\n",
        "    # ========================================\n",
        "    \n",
        "    print(\"\")\n",
        "    print('======== Epoch {:} / {:} ========'.format(epoch_i + 1, epochs))\n",
        "    print('Training...')\n",
        "\n",
        "    # 시작 시간 설정\n",
        "    t0 = time.time()\n",
        "\n",
        "    # 로스 초기화\n",
        "    total_loss = 0\n",
        "\n",
        "    # 훈련모드로 변경\n",
        "    model.train()\n",
        "        \n",
        "    # 데이터로더에서 배치만큼 반복하여 가져옴\n",
        "    for step, batch in enumerate(train_dataloader):\n",
        "        # 경과 정보 표시\n",
        "        if step % 500 == 0 and not step == 0:\n",
        "            elapsed = format_time(time.time() - t0)\n",
        "            print('  Batch {:>5,}  of  {:>5,}.    Elapsed: {:}.'.format(step, len(train_dataloader), elapsed))\n",
        "\n",
        "        # 배치를 GPU에 넣음\n",
        "        batch = tuple(t.to(device) for t in batch)\n",
        "        \n",
        "        # 배치에서 데이터 추출\n",
        "        b_input_ids, b_input_mask, b_labels = batch\n",
        "\n",
        "        # Forward 수행                \n",
        "        outputs = model(b_input_ids, \n",
        "                        token_type_ids=None, \n",
        "                        attention_mask=b_input_mask, \n",
        "                        labels=b_labels)\n",
        "        \n",
        "        # 로스 구함\n",
        "        loss = outputs[0]\n",
        "\n",
        "        # 총 로스 계산\n",
        "        total_loss += loss.item()\n",
        "\n",
        "        # Backward 수행으로 그래디언트 계산\n",
        "        loss.backward()\n",
        "\n",
        "        # 그래디언트 클리핑\n",
        "        torch.nn.utils.clip_grad_norm_(model.parameters(), 1.0)\n",
        "\n",
        "        # 그래디언트를 통해 가중치 파라미터 업데이트\n",
        "        optimizer.step()\n",
        "\n",
        "        # 스케줄러로 학습률 감소\n",
        "        scheduler.step()\n",
        "\n",
        "        # 그래디언트 초기화\n",
        "        model.zero_grad()\n",
        "\n",
        "    # 평균 로스 계산\n",
        "    avg_train_loss = total_loss / len(train_dataloader)            \n",
        "\n",
        "    print(\"\")\n",
        "    print(\"  Average training loss: {0:.2f}\".format(avg_train_loss))\n",
        "    print(\"  Training epcoh took: {:}\".format(format_time(time.time() - t0)))\n",
        "        \n",
        "    # ========================================\n",
        "    #               Validation\n",
        "    # ========================================\n",
        "\n",
        "    print(\"\")\n",
        "    print(\"Running Validation...\")\n",
        "\n",
        "    #시작 시간 설정\n",
        "    t0 = time.time()\n",
        "\n",
        "    # 평가모드로 변경\n",
        "    model.eval()\n",
        "\n",
        "    # 변수 초기화\n",
        "    eval_loss, eval_accuracy = 0, 0\n",
        "    nb_eval_steps, nb_eval_examples = 0, 0\n",
        "\n",
        "    # 데이터로더에서 배치만큼 반복하여 가져옴\n",
        "    for batch in validation_dataloader:\n",
        "        # 배치를 GPU에 넣음\n",
        "        batch = tuple(t.to(device) for t in batch)\n",
        "        \n",
        "        # 배치에서 데이터 추출\n",
        "        b_input_ids, b_input_mask, b_labels = batch\n",
        "        \n",
        "        # 그래디언트 계산 안함\n",
        "        with torch.no_grad():     \n",
        "            # Forward 수행\n",
        "            outputs = model(b_input_ids, \n",
        "                            token_type_ids=None, \n",
        "                            attention_mask=b_input_mask)\n",
        "        \n",
        "        # 로스 구함\n",
        "        logits = outputs[0]\n",
        "\n",
        "        # CPU로 데이터 이동\n",
        "        logits = logits.detach().cpu().numpy()\n",
        "        label_ids = b_labels.to('cpu').numpy()\n",
        "        \n",
        "        # 출력 로짓과 라벨을 비교하여 정확도 계산\n",
        "        tmp_eval_accuracy = flat_accuracy(logits, label_ids)\n",
        "        eval_accuracy += tmp_eval_accuracy\n",
        "        nb_eval_steps += 1\n",
        "\n",
        "    print(\"  Accuracy: {0:.2f}\".format(eval_accuracy/nb_eval_steps))\n",
        "    print(\"  Validation took: {:}\".format(format_time(time.time() - t0)))\n",
        "\n",
        "print(\"\")\n",
        "print(\"Training complete!\")\n",
        "print(\"\")"
      ]
    },
    {
      "cell_type": "code",
      "execution_count": null,
      "metadata": {
        "colab": {
          "base_uri": "https://localhost:8080/"
        },
        "id": "KpRlCwcXEtU2",
        "outputId": "917e116e-c0b1-4de6-8103-d7706cf5278a"
      },
      "outputs": [
        {
          "output_type": "stream",
          "name": "stdout",
          "text": [
            "test start\n",
            "\n",
            "Accuracy: 0.44\n",
            "Test took: 0:00:07\n",
            "test finished!\n"
          ]
        }
      ],
      "source": [
        "print('test start')\n",
        "#시작 시간 설정\n",
        "t0 = time.time()\n",
        "\n",
        "# 평가모드로 변경\n",
        "model.eval()\n",
        "\n",
        "# 변수 초기화\n",
        "eval_loss, eval_accuracy = 0, 0\n",
        "nb_eval_steps, nb_eval_examples = 0, 0\n",
        "\n",
        "# 데이터로더에서 배치만큼 반복하여 가져옴\n",
        "for step, batch in enumerate(test_dataloader):\n",
        "    # 경과 정보 표시\n",
        "    if step % 100 == 0 and not step == 0:\n",
        "        elapsed = format_time(time.time() - t0)\n",
        "        print('  Batch {:>5,}  of  {:>5,}.    Elapsed: {:}.'.format(step, len(test_dataloader), elapsed))\n",
        "\n",
        "    # 배치를 GPU에 넣음\n",
        "    batch = tuple(t.to(device) for t in batch)\n",
        "    \n",
        "    # 배치에서 데이터 추출\n",
        "    b_input_ids, b_input_mask, b_labels = batch\n",
        "    \n",
        "    # 그래디언트 계산 안함\n",
        "    with torch.no_grad():     \n",
        "        # Forward 수행\n",
        "        outputs = model(b_input_ids, \n",
        "                        token_type_ids=None, \n",
        "                        attention_mask=b_input_mask)\n",
        "    \n",
        "    # 로스 구함\n",
        "    logits = outputs[0]\n",
        "\n",
        "    # CPU로 데이터 이동\n",
        "    logits = logits.detach().cpu().numpy()\n",
        "    label_ids = b_labels.to('cpu').numpy()\n",
        "    \n",
        "    # 출력 로짓과 라벨을 비교하여 정확도 계산\n",
        "    tmp_eval_accuracy = flat_accuracy(logits, label_ids)\n",
        "    eval_accuracy += tmp_eval_accuracy\n",
        "    nb_eval_steps += 1\n",
        "\n",
        "print(\"\")\n",
        "print(\"Accuracy: {0:.2f}\".format(eval_accuracy/nb_eval_steps))\n",
        "print(\"Test took: {:}\".format(format_time(time.time() - t0)))\n",
        "print(\"test finished!\")"
      ]
    },
    {
      "cell_type": "code",
      "execution_count": null,
      "metadata": {
        "id": "y7wS1MLoE8Vd"
      },
      "outputs": [],
      "source": []
    }
  ],
  "metadata": {
    "accelerator": "GPU",
    "colab": {
      "machine_shape": "hm",
      "provenance": [],
      "authorship_tag": "ABX9TyN5kI9xoqnhvJ5ezx4tAjoA",
      "include_colab_link": true
    },
    "gpuClass": "standard",
    "kernelspec": {
      "display_name": "Python 3",
      "name": "python3"
    },
    "language_info": {
      "name": "python"
    }
  },
  "nbformat": 4,
  "nbformat_minor": 0
}