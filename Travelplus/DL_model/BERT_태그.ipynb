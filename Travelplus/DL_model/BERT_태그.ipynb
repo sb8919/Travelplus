{
  "cells": [
    {
      "cell_type": "markdown",
      "metadata": {
        "id": "view-in-github",
        "colab_type": "text"
      },
      "source": [
        "<a href=\"https://colab.research.google.com/github/sb8919/Travelplus/blob/main/Travelplus/DL_model/BERT_%ED%83%9C%EA%B7%B8.ipynb\" target=\"_parent\"><img src=\"https://colab.research.google.com/assets/colab-badge.svg\" alt=\"Open In Colab\"/></a>"
      ]
    },
    {
      "cell_type": "code",
      "execution_count": 1,
      "metadata": {
        "colab": {
          "base_uri": "https://localhost:8080/"
        },
        "id": "tLhI8PakUuAv",
        "outputId": "abe11cc7-b5ee-4aee-be25-4cb72bff7c56"
      },
      "outputs": [
        {
          "output_type": "stream",
          "name": "stdout",
          "text": [
            "Looking in indexes: https://pypi.org/simple, https://us-python.pkg.dev/colab-wheels/public/simple/\n",
            "Collecting transformers\n",
            "  Downloading transformers-4.29.2-py3-none-any.whl (7.1 MB)\n",
            "\u001b[2K     \u001b[90m━━━━━━━━━━━━━━━━━━━━━━━━━━━━━━━━━━━━━━━━\u001b[0m \u001b[32m7.1/7.1 MB\u001b[0m \u001b[31m98.3 MB/s\u001b[0m eta \u001b[36m0:00:00\u001b[0m\n",
            "\u001b[?25hRequirement already satisfied: filelock in /usr/local/lib/python3.10/dist-packages (from transformers) (3.12.0)\n",
            "Collecting huggingface-hub<1.0,>=0.14.1 (from transformers)\n",
            "  Downloading huggingface_hub-0.14.1-py3-none-any.whl (224 kB)\n",
            "\u001b[2K     \u001b[90m━━━━━━━━━━━━━━━━━━━━━━━━━━━━━━━━━━━━━━\u001b[0m \u001b[32m224.5/224.5 kB\u001b[0m \u001b[31m29.7 MB/s\u001b[0m eta \u001b[36m0:00:00\u001b[0m\n",
            "\u001b[?25hRequirement already satisfied: numpy>=1.17 in /usr/local/lib/python3.10/dist-packages (from transformers) (1.22.4)\n",
            "Requirement already satisfied: packaging>=20.0 in /usr/local/lib/python3.10/dist-packages (from transformers) (23.1)\n",
            "Requirement already satisfied: pyyaml>=5.1 in /usr/local/lib/python3.10/dist-packages (from transformers) (6.0)\n",
            "Requirement already satisfied: regex!=2019.12.17 in /usr/local/lib/python3.10/dist-packages (from transformers) (2022.10.31)\n",
            "Requirement already satisfied: requests in /usr/local/lib/python3.10/dist-packages (from transformers) (2.27.1)\n",
            "Collecting tokenizers!=0.11.3,<0.14,>=0.11.1 (from transformers)\n",
            "  Downloading tokenizers-0.13.3-cp310-cp310-manylinux_2_17_x86_64.manylinux2014_x86_64.whl (7.8 MB)\n",
            "\u001b[2K     \u001b[90m━━━━━━━━━━━━━━━━━━━━━━━━━━━━━━━━━━━━━━━━\u001b[0m \u001b[32m7.8/7.8 MB\u001b[0m \u001b[31m119.3 MB/s\u001b[0m eta \u001b[36m0:00:00\u001b[0m\n",
            "\u001b[?25hRequirement already satisfied: tqdm>=4.27 in /usr/local/lib/python3.10/dist-packages (from transformers) (4.65.0)\n",
            "Requirement already satisfied: fsspec in /usr/local/lib/python3.10/dist-packages (from huggingface-hub<1.0,>=0.14.1->transformers) (2023.4.0)\n",
            "Requirement already satisfied: typing-extensions>=3.7.4.3 in /usr/local/lib/python3.10/dist-packages (from huggingface-hub<1.0,>=0.14.1->transformers) (4.5.0)\n",
            "Requirement already satisfied: urllib3<1.27,>=1.21.1 in /usr/local/lib/python3.10/dist-packages (from requests->transformers) (1.26.15)\n",
            "Requirement already satisfied: certifi>=2017.4.17 in /usr/local/lib/python3.10/dist-packages (from requests->transformers) (2022.12.7)\n",
            "Requirement already satisfied: charset-normalizer~=2.0.0 in /usr/local/lib/python3.10/dist-packages (from requests->transformers) (2.0.12)\n",
            "Requirement already satisfied: idna<4,>=2.5 in /usr/local/lib/python3.10/dist-packages (from requests->transformers) (3.4)\n",
            "Installing collected packages: tokenizers, huggingface-hub, transformers\n",
            "Successfully installed huggingface-hub-0.14.1 tokenizers-0.13.3 transformers-4.29.2\n"
          ]
        }
      ],
      "source": [
        "# 패키지 다운로드\n",
        "!pip install transformers"
      ]
    },
    {
      "cell_type": "code",
      "execution_count": 7,
      "metadata": {
        "id": "0oEPeeskUxYM"
      },
      "outputs": [],
      "source": [
        "# 주요 패키지 불러오기\n",
        "import tensorflow as tf\n",
        "import torch\n",
        "\n",
        "from transformers import BertTokenizer\n",
        "from transformers import BertForSequenceClassification, AdamW, BertConfig\n",
        "from transformers import get_linear_schedule_with_warmup\n",
        "from torch.utils.data import TensorDataset, DataLoader, RandomSampler, SequentialSampler\n",
        "from keras.utils import pad_sequences\n",
        "from sklearn.model_selection import train_test_split\n",
        "\n",
        "import pandas as pd\n",
        "import folium\n",
        "import numpy as np\n",
        "import random\n",
        "import time\n",
        "import datetime"
      ]
    },
    {
      "cell_type": "code",
      "execution_count": 8,
      "metadata": {
        "colab": {
          "base_uri": "https://localhost:8080/"
        },
        "id": "8WseIlKaU59C",
        "outputId": "fc3a3003-33a8-40d6-aa2a-ea36b81b2773"
      },
      "outputs": [
        {
          "output_type": "stream",
          "name": "stdout",
          "text": [
            "1\n",
            "Tesla T4\n"
          ]
        }
      ],
      "source": [
        "# GPU 확인\n",
        "n_devices = torch.cuda.device_count()\n",
        "print(n_devices)\n",
        "\n",
        "for i in range(n_devices):\n",
        "    print(torch.cuda.get_device_name(i))"
      ]
    },
    {
      "cell_type": "markdown",
      "metadata": {
        "id": "cY6P4PVIWXv9"
      },
      "source": [
        "-------------"
      ]
    },
    {
      "cell_type": "code",
      "execution_count": 12,
      "metadata": {
        "colab": {
          "base_uri": "https://localhost:8080/"
        },
        "id": "dEGi2pIBCKGW",
        "outputId": "10a84e97-2a7d-4685-f4c5-8b32c3b8b0e4"
      },
      "outputs": [
        {
          "output_type": "stream",
          "name": "stdout",
          "text": [
            "Mounted at /content/drive\n"
          ]
        }
      ],
      "source": [
        "#구글드라이브 연동\n",
        "from google.colab import drive\n",
        "drive.mount('/content/drive')"
      ]
    },
    {
      "cell_type": "code",
      "execution_count": 64,
      "metadata": {
        "id": "-thyDni2aH9O"
      },
      "outputs": [],
      "source": [
        "# 라벨링 파일 데이터 프레임 형태로 가져오기\n",
        "import pandas as pd\n",
        "df = pd.read_excel('/content/drive/MyDrive/labeling_data_0521.xlsx')"
      ]
    },
    {
      "cell_type": "code",
      "execution_count": 16,
      "metadata": {
        "id": "r5HpT9toRv8k"
      },
      "outputs": [],
      "source": [
        "# 인스타그램 본문 내용에서 특수문자 공백으로 교환\n",
        "df[\"sentences\"] = df[\"sentences\"].str.replace(pat=r'[^\\w]', repl=r' ', regex=True)"
      ]
    },
    {
      "cell_type": "code",
      "execution_count": 17,
      "metadata": {
        "id": "7JsR0sdeRv1E"
      },
      "outputs": [],
      "source": [
        "# 인스타그램 태그 내용에서 특수문자 공백으로 교환\n",
        "df[\"tags\"] = df[\"tags\"].str.replace(pat=r'[^\\w]', repl=r' ', regex=True)"
      ]
    },
    {
      "cell_type": "code",
      "execution_count": 18,
      "metadata": {
        "colab": {
          "base_uri": "https://localhost:8080/",
          "height": 510
        },
        "id": "hbJtrEgeacmJ",
        "outputId": "3a05a137-ab5a-4577-c139-bb9282c0f655"
      },
      "outputs": [
        {
          "output_type": "execute_result",
          "data": {
            "text/plain": [
              "      Unnamed: 0                                          sentences  \\\n",
              "8247        8247                             아이와제주   야외에서 놀기 좋은 곳     \n",
              "5677        5677   행주산성 이영자 철판 삼겹살 맛집  철판에 흑돼지 김치 볶볶정말 말모말모  먹는 ...   \n",
              "5589        5589   수원에서 처음 본 풍경 특정계절  각 도시마다 계절별로 꼭 나오는 사진들이 있습니...   \n",
              "4966        4966  스지와 아롱사태가 한판에   완전 쫄깃쫀득함 비염으로 고생한다  그러면 냉채수육으로...   \n",
              "1119        1119                                          언니가 가져다준    \n",
              "4743        4743                       _날 좋은 날 할배랑 할매랑 토끼 풀 주러 또 감    \n",
              "5836        5836   리그램   100y_gyeongju_ 황리단길 찐 로컬맛집    백년손님  황리단...   \n",
              "6757        6757  전혁림미술관 개관20주년  듣기만 해도 웅장하다  2003년 개관을 기념하는 세미나...   \n",
              "4305        4305   리그램   sticky_bp    놀러오세요𝑺 𝒕 𝒊 𝒄 𝒌 𝒚 평리단길 스티커사...   \n",
              "2150        2150  숲으로 둘러 싸인 절경 가득한 펜션펜션 이용 하신 후 참숯불가마찜찔방 무료로 이용하...   \n",
              "\n",
              "                                                   tags  \\\n",
              "8247   렛츠런파크   제주민속촌   제주해양동물박물관 지난   렛츠런파크제주   애월  ...   \n",
              "5677   아이맛이야장작철판구이   고양가볼만한곳   고양맛집   덕양맛집   덕양   행주...   \n",
              "5589   TheDramatic_Suwon             수원여행   수원핫플   수...   \n",
              "4966   사상구석부산   사상맛집   사상술집   사상안주맛집   사상가볼만한곳   부산스...   \n",
              "1119   조선옥수수   미니옥수수   찰옥수수를   핑크뮬리도   함평군에서   함평핑크뮬...   \n",
              "4743   창녕산토끼동산   창녕가볼만한곳   창녕이방   아기랑갈만한곳   키즈모델김채니 ...   \n",
              "5836   경주맛집   황리단길맛집   경주가볼만한곳   경주황리단길맛집   경주카페   경...   \n",
              "6757   전혁림미술관   전혁림   전혁림미술관개관20주년   듣기만해도웅장해져요   통영...   \n",
              "4305   평리단길카페   평리단길맛집   평리단길네일   평리단길미용실   부평역술집   ...   \n",
              "2150   숲을그리다   여주맛집   블루헤런맛집   양평TPC맛집   스카이밸리맛집   여...   \n",
              "\n",
              "                          place  label  \n",
              "8247          환상의 섬 Jeju Island    4.0  \n",
              "5677                아이맛이야장작철판구이    8.0  \n",
              "5589  동북각루(東北角樓) / 방화수류정(訪花隨柳亭)    3.0  \n",
              "4966                        NaN    8.0  \n",
              "1119                        NaN    1.0  \n",
              "4743                        NaN    1.0  \n",
              "5836                        NaN    1.0  \n",
              "6757                     전혁림미술관    7.0  \n",
              "4305                        NaN    3.0  \n",
              "2150                        NaN    8.0  "
            ],
            "text/html": [
              "\n",
              "  <div id=\"df-9d96cb77-22c5-4a50-b742-0d613b0c73ce\">\n",
              "    <div class=\"colab-df-container\">\n",
              "      <div>\n",
              "<style scoped>\n",
              "    .dataframe tbody tr th:only-of-type {\n",
              "        vertical-align: middle;\n",
              "    }\n",
              "\n",
              "    .dataframe tbody tr th {\n",
              "        vertical-align: top;\n",
              "    }\n",
              "\n",
              "    .dataframe thead th {\n",
              "        text-align: right;\n",
              "    }\n",
              "</style>\n",
              "<table border=\"1\" class=\"dataframe\">\n",
              "  <thead>\n",
              "    <tr style=\"text-align: right;\">\n",
              "      <th></th>\n",
              "      <th>Unnamed: 0</th>\n",
              "      <th>sentences</th>\n",
              "      <th>tags</th>\n",
              "      <th>place</th>\n",
              "      <th>label</th>\n",
              "    </tr>\n",
              "  </thead>\n",
              "  <tbody>\n",
              "    <tr>\n",
              "      <th>8247</th>\n",
              "      <td>8247</td>\n",
              "      <td>아이와제주   야외에서 놀기 좋은 곳</td>\n",
              "      <td>렛츠런파크   제주민속촌   제주해양동물박물관 지난   렛츠런파크제주   애월  ...</td>\n",
              "      <td>환상의 섬 Jeju Island</td>\n",
              "      <td>4.0</td>\n",
              "    </tr>\n",
              "    <tr>\n",
              "      <th>5677</th>\n",
              "      <td>5677</td>\n",
              "      <td>행주산성 이영자 철판 삼겹살 맛집  철판에 흑돼지 김치 볶볶정말 말모말모  먹는 ...</td>\n",
              "      <td>아이맛이야장작철판구이   고양가볼만한곳   고양맛집   덕양맛집   덕양   행주...</td>\n",
              "      <td>아이맛이야장작철판구이</td>\n",
              "      <td>8.0</td>\n",
              "    </tr>\n",
              "    <tr>\n",
              "      <th>5589</th>\n",
              "      <td>5589</td>\n",
              "      <td>수원에서 처음 본 풍경 특정계절  각 도시마다 계절별로 꼭 나오는 사진들이 있습니...</td>\n",
              "      <td>TheDramatic_Suwon             수원여행   수원핫플   수...</td>\n",
              "      <td>동북각루(東北角樓) / 방화수류정(訪花隨柳亭)</td>\n",
              "      <td>3.0</td>\n",
              "    </tr>\n",
              "    <tr>\n",
              "      <th>4966</th>\n",
              "      <td>4966</td>\n",
              "      <td>스지와 아롱사태가 한판에   완전 쫄깃쫀득함 비염으로 고생한다  그러면 냉채수육으로...</td>\n",
              "      <td>사상구석부산   사상맛집   사상술집   사상안주맛집   사상가볼만한곳   부산스...</td>\n",
              "      <td>NaN</td>\n",
              "      <td>8.0</td>\n",
              "    </tr>\n",
              "    <tr>\n",
              "      <th>1119</th>\n",
              "      <td>1119</td>\n",
              "      <td>언니가 가져다준</td>\n",
              "      <td>조선옥수수   미니옥수수   찰옥수수를   핑크뮬리도   함평군에서   함평핑크뮬...</td>\n",
              "      <td>NaN</td>\n",
              "      <td>1.0</td>\n",
              "    </tr>\n",
              "    <tr>\n",
              "      <th>4743</th>\n",
              "      <td>4743</td>\n",
              "      <td>_날 좋은 날 할배랑 할매랑 토끼 풀 주러 또 감</td>\n",
              "      <td>창녕산토끼동산   창녕가볼만한곳   창녕이방   아기랑갈만한곳   키즈모델김채니 ...</td>\n",
              "      <td>NaN</td>\n",
              "      <td>1.0</td>\n",
              "    </tr>\n",
              "    <tr>\n",
              "      <th>5836</th>\n",
              "      <td>5836</td>\n",
              "      <td>리그램   100y_gyeongju_ 황리단길 찐 로컬맛집    백년손님  황리단...</td>\n",
              "      <td>경주맛집   황리단길맛집   경주가볼만한곳   경주황리단길맛집   경주카페   경...</td>\n",
              "      <td>NaN</td>\n",
              "      <td>1.0</td>\n",
              "    </tr>\n",
              "    <tr>\n",
              "      <th>6757</th>\n",
              "      <td>6757</td>\n",
              "      <td>전혁림미술관 개관20주년  듣기만 해도 웅장하다  2003년 개관을 기념하는 세미나...</td>\n",
              "      <td>전혁림미술관   전혁림   전혁림미술관개관20주년   듣기만해도웅장해져요   통영...</td>\n",
              "      <td>전혁림미술관</td>\n",
              "      <td>7.0</td>\n",
              "    </tr>\n",
              "    <tr>\n",
              "      <th>4305</th>\n",
              "      <td>4305</td>\n",
              "      <td>리그램   sticky_bp    놀러오세요𝑺 𝒕 𝒊 𝒄 𝒌 𝒚 평리단길 스티커사...</td>\n",
              "      <td>평리단길카페   평리단길맛집   평리단길네일   평리단길미용실   부평역술집   ...</td>\n",
              "      <td>NaN</td>\n",
              "      <td>3.0</td>\n",
              "    </tr>\n",
              "    <tr>\n",
              "      <th>2150</th>\n",
              "      <td>2150</td>\n",
              "      <td>숲으로 둘러 싸인 절경 가득한 펜션펜션 이용 하신 후 참숯불가마찜찔방 무료로 이용하...</td>\n",
              "      <td>숲을그리다   여주맛집   블루헤런맛집   양평TPC맛집   스카이밸리맛집   여...</td>\n",
              "      <td>NaN</td>\n",
              "      <td>8.0</td>\n",
              "    </tr>\n",
              "  </tbody>\n",
              "</table>\n",
              "</div>\n",
              "      <button class=\"colab-df-convert\" onclick=\"convertToInteractive('df-9d96cb77-22c5-4a50-b742-0d613b0c73ce')\"\n",
              "              title=\"Convert this dataframe to an interactive table.\"\n",
              "              style=\"display:none;\">\n",
              "        \n",
              "  <svg xmlns=\"http://www.w3.org/2000/svg\" height=\"24px\"viewBox=\"0 0 24 24\"\n",
              "       width=\"24px\">\n",
              "    <path d=\"M0 0h24v24H0V0z\" fill=\"none\"/>\n",
              "    <path d=\"M18.56 5.44l.94 2.06.94-2.06 2.06-.94-2.06-.94-.94-2.06-.94 2.06-2.06.94zm-11 1L8.5 8.5l.94-2.06 2.06-.94-2.06-.94L8.5 2.5l-.94 2.06-2.06.94zm10 10l.94 2.06.94-2.06 2.06-.94-2.06-.94-.94-2.06-.94 2.06-2.06.94z\"/><path d=\"M17.41 7.96l-1.37-1.37c-.4-.4-.92-.59-1.43-.59-.52 0-1.04.2-1.43.59L10.3 9.45l-7.72 7.72c-.78.78-.78 2.05 0 2.83L4 21.41c.39.39.9.59 1.41.59.51 0 1.02-.2 1.41-.59l7.78-7.78 2.81-2.81c.8-.78.8-2.07 0-2.86zM5.41 20L4 18.59l7.72-7.72 1.47 1.35L5.41 20z\"/>\n",
              "  </svg>\n",
              "      </button>\n",
              "      \n",
              "  <style>\n",
              "    .colab-df-container {\n",
              "      display:flex;\n",
              "      flex-wrap:wrap;\n",
              "      gap: 12px;\n",
              "    }\n",
              "\n",
              "    .colab-df-convert {\n",
              "      background-color: #E8F0FE;\n",
              "      border: none;\n",
              "      border-radius: 50%;\n",
              "      cursor: pointer;\n",
              "      display: none;\n",
              "      fill: #1967D2;\n",
              "      height: 32px;\n",
              "      padding: 0 0 0 0;\n",
              "      width: 32px;\n",
              "    }\n",
              "\n",
              "    .colab-df-convert:hover {\n",
              "      background-color: #E2EBFA;\n",
              "      box-shadow: 0px 1px 2px rgba(60, 64, 67, 0.3), 0px 1px 3px 1px rgba(60, 64, 67, 0.15);\n",
              "      fill: #174EA6;\n",
              "    }\n",
              "\n",
              "    [theme=dark] .colab-df-convert {\n",
              "      background-color: #3B4455;\n",
              "      fill: #D2E3FC;\n",
              "    }\n",
              "\n",
              "    [theme=dark] .colab-df-convert:hover {\n",
              "      background-color: #434B5C;\n",
              "      box-shadow: 0px 1px 3px 1px rgba(0, 0, 0, 0.15);\n",
              "      filter: drop-shadow(0px 1px 2px rgba(0, 0, 0, 0.3));\n",
              "      fill: #FFFFFF;\n",
              "    }\n",
              "  </style>\n",
              "\n",
              "      <script>\n",
              "        const buttonEl =\n",
              "          document.querySelector('#df-9d96cb77-22c5-4a50-b742-0d613b0c73ce button.colab-df-convert');\n",
              "        buttonEl.style.display =\n",
              "          google.colab.kernel.accessAllowed ? 'block' : 'none';\n",
              "\n",
              "        async function convertToInteractive(key) {\n",
              "          const element = document.querySelector('#df-9d96cb77-22c5-4a50-b742-0d613b0c73ce');\n",
              "          const dataTable =\n",
              "            await google.colab.kernel.invokeFunction('convertToInteractive',\n",
              "                                                     [key], {});\n",
              "          if (!dataTable) return;\n",
              "\n",
              "          const docLinkHtml = 'Like what you see? Visit the ' +\n",
              "            '<a target=\"_blank\" href=https://colab.research.google.com/notebooks/data_table.ipynb>data table notebook</a>'\n",
              "            + ' to learn more about interactive tables.';\n",
              "          element.innerHTML = '';\n",
              "          dataTable['output_type'] = 'display_data';\n",
              "          await google.colab.output.renderOutput(dataTable, element);\n",
              "          const docLink = document.createElement('div');\n",
              "          docLink.innerHTML = docLinkHtml;\n",
              "          element.appendChild(docLink);\n",
              "        }\n",
              "      </script>\n",
              "    </div>\n",
              "  </div>\n",
              "  "
            ]
          },
          "metadata": {},
          "execution_count": 18
        }
      ],
      "source": [
        "# 10개의 데이터 랜덤으로 출력\n",
        "df.sample(n=10)"
      ]
    },
    {
      "cell_type": "code",
      "execution_count": 19,
      "metadata": {
        "id": "e_SKQKspah67"
      },
      "outputs": [],
      "source": [
        "# label 열의 값 float-> str\n",
        "df['label'] = df['label'].astype(str)"
      ]
    },
    {
      "cell_type": "code",
      "execution_count": 20,
      "metadata": {
        "id": "53utk_-3wYeF"
      },
      "outputs": [],
      "source": [
        "# label 분류 숫자로 변경\n",
        "df.loc[(df['label'] == \"0.0\"), 'label'] = 0  #0.0 => 스팸 => 0\n",
        "df.loc[(df['label'] == \"1.0\"), 'label'] = 1  #1.0 => 가볼만한곳 => 1\n",
        "df.loc[(df['label'] == \"2.0\"), 'label'] = 2  #2.0 => 가족여행 => 2\n",
        "df.loc[(df['label'] == \"3.0\"), 'label'] = 3  #3.0 => 관람 => 3\n",
        "df.loc[(df['label'] == \"4.0\"), 'label'] = 4  #4.0 => 맛집 => 4\n",
        "df.loc[(df['label'] == \"5.0\"), 'label'] = 5  #5.0 => 우정여행 => 5\n",
        "df.loc[(df['label'] == \"6.0\"), 'label'] = 6  #6.0 => 전통 => 6\n",
        "df.loc[(df['label'] == \"7.0\"), 'label'] = 7  #7.0 => 체험 => 7\n",
        "df.loc[(df['label'] == \"8.0\"), 'label'] = 8  #8.0 => 카페 => 8\n",
        "df.loc[(df['label'] == \"9.0\"), 'label'] = 9  #9.0 => 캠핑 => 9"
      ]
    },
    {
      "cell_type": "code",
      "execution_count": 23,
      "metadata": {
        "colab": {
          "base_uri": "https://localhost:8080/",
          "height": 461
        },
        "id": "_9izbFRskVdO",
        "outputId": "1127376a-3edf-49f4-d41c-460edd90528a"
      },
      "outputs": [
        {
          "output_type": "execute_result",
          "data": {
            "text/plain": [
              "<Axes: >"
            ]
          },
          "metadata": {},
          "execution_count": 23
        },
        {
          "output_type": "display_data",
          "data": {
            "text/plain": [
              "<Figure size 640x480 with 1 Axes>"
            ],
            "image/png": "[encoded data removed]"
          },
          "metadata": {}
        }
      ],
      "source": [
        "# 데이터 정제하기\n",
        "# label 값 분포 확인\n",
        "df['label'].value_counts().plot(kind = 'bar')"
      ]
    },
    {
      "cell_type": "code",
      "execution_count": 24,
      "metadata": {
        "colab": {
          "base_uri": "https://localhost:8080/"
        },
        "id": "EqP2XXF8Ak4A",
        "outputId": "5d227569-6ed8-4828-9de1-b972db318dce"
      },
      "outputs": [
        {
          "output_type": "execute_result",
          "data": {
            "text/plain": [
              "1      2141\n",
              "3      1067\n",
              "2      1053\n",
              "0      1011\n",
              "8       915\n",
              "5       664\n",
              "9       531\n",
              "7       457\n",
              "4       253\n",
              "6       110\n",
              "nan      73\n",
              "Name: label, dtype: int64"
            ]
          },
          "metadata": {},
          "execution_count": 24
        }
      ],
      "source": [
        "# 각 label 별 갯수 확인\n",
        "df['label'].value_counts()"
      ]
    },
    {
      "cell_type": "code",
      "execution_count": 25,
      "metadata": {
        "colab": {
          "base_uri": "https://localhost:8080/"
        },
        "id": "Ro0aJouvku-u",
        "outputId": "6da671fe-2456-4656-94fc-50fcec2e2386"
      },
      "outputs": [
        {
          "output_type": "stream",
          "name": "stdout",
          "text": [
            "True\n"
          ]
        }
      ],
      "source": [
        "# Null 값 유무 확인 True <- Null 값 있음\n",
        "print(df.isnull().values.any())"
      ]
    },
    {
      "cell_type": "code",
      "execution_count": 26,
      "metadata": {
        "colab": {
          "base_uri": "https://localhost:8080/"
        },
        "id": "MkzdgXaPlpEJ",
        "outputId": "81df039a-bc7e-42c4-8347-760fe028b66c"
      },
      "outputs": [
        {
          "output_type": "stream",
          "name": "stdout",
          "text": [
            "Unnamed: 0       0\n",
            "sentences        1\n",
            "tags             0\n",
            "place         5246\n",
            "label            0\n",
            "dtype: int64\n"
          ]
        }
      ],
      "source": [
        "# 어떤 열에서 Null 값 존재하는지 확인\n",
        "print(df.isnull().sum())"
      ]
    },
    {
      "cell_type": "code",
      "execution_count": 27,
      "metadata": {
        "id": "gWpIYeGSmeBV"
      },
      "outputs": [],
      "source": [
        "# Null 값 많은 place 열 제거\n",
        "df = df.drop('place',axis=1)"
      ]
    },
    {
      "cell_type": "code",
      "execution_count": 29,
      "metadata": {
        "colab": {
          "base_uri": "https://localhost:8080/",
          "height": 423
        },
        "id": "kiaacXsuoRBu",
        "outputId": "8005d590-1aca-4b05-d35b-07ec2aaf76b2"
      },
      "outputs": [
        {
          "output_type": "execute_result",
          "data": {
            "text/plain": [
              "      Unnamed: 0                                          sentences  \\\n",
              "0              0  술이 달다   라고 하는걸 이걸보구 말하나봐요알쓰들도 무한대로 마실수 있는 연말을 ...   \n",
              "1              1                                                      \n",
              "2              2                                                      \n",
              "3              3  연타발 압구정 완전 대박인듯ㅜㅜ어느 하나 모자람없는 이 맛을 다양한 세계로 이끌어가...   \n",
              "4              4  연타발 압구정 완전 대박인듯ㅜㅜ어느 하나 모자람없는 이 맛을 다양한 세계로 이끌어가...   \n",
              "...          ...                                                ...   \n",
              "8270        8270                 올드카에 관심 있다면  규슈 자동차 박물관2023 03 08    \n",
              "8271        8271    조선의 외교관 역관  부산박물관 특별기획전 전시관람하고 왔어요  아직 어린 아들...   \n",
              "8272        8272        어벤져스 엔드게임의 감동을 다시 한 번  피규어뮤지엄제주 2023 03 15    \n",
              "8273        8273   사 한국박물관협회 회장 조한희 는 지난 5월 11일 목 부터 13일 토 까지 3일...   \n",
              "8274        8274   2023 박물관 미술관 주간  뮤궁뮤진 X 국립산악박물관뮤궁뮤진 X 국립산악박물관...   \n",
              "\n",
              "                                                   tags label  \n",
              "0      선릉   평상술집   술   술집   술안주   꿀주   꿀막걸리   막걸리   ...     8  \n",
              "1      강남카페   강남대형카페도심   카즐_서울   카즐_강남   카즐_가로수길   카...     1  \n",
              "2      강남카페   강남대형카페도심   카즐_서울   카즐_강남   카즐_가로수길   카...     2  \n",
              "3      도산공원맛집   연타발압구정본점   강남맛집   신사동맛집   압구정맛집   도산...     1  \n",
              "4      도산공원맛집   연타발압구정본점   강남맛집   신사동맛집   압구정맛집   도산...     8  \n",
              "...                                                 ...   ...  \n",
              "8270   사진   여행사진   일본   여행   유후인   일본여행   후쿠오카   규슈 ...     7  \n",
              "8271   부산박물관   특별기획전   전시관람   전시연출   박물관   포토스팟   역관...     7  \n",
              "8272   사진   여행사진   한국   제주   여행   풍경   한국여행   제주도   ...     7  \n",
              "8273   한국박물관협회   한박협   뮤지엄   박물관   미술관   제17회한국박물관국제...     0  \n",
              "8274   박미주_소리    국립산악박물관   박미주_소리   박미주_국립산악박물관   박미...     7  \n",
              "\n",
              "[8275 rows x 4 columns]"
            ],
            "text/html": [
              "\n",
              "  <div id=\"df-25195265-70c7-4597-9ae4-0bd742733497\">\n",
              "    <div class=\"colab-df-container\">\n",
              "      <div>\n",
              "<style scoped>\n",
              "    .dataframe tbody tr th:only-of-type {\n",
              "        vertical-align: middle;\n",
              "    }\n",
              "\n",
              "    .dataframe tbody tr th {\n",
              "        vertical-align: top;\n",
              "    }\n",
              "\n",
              "    .dataframe thead th {\n",
              "        text-align: right;\n",
              "    }\n",
              "</style>\n",
              "<table border=\"1\" class=\"dataframe\">\n",
              "  <thead>\n",
              "    <tr style=\"text-align: right;\">\n",
              "      <th></th>\n",
              "      <th>Unnamed: 0</th>\n",
              "      <th>sentences</th>\n",
              "      <th>tags</th>\n",
              "      <th>label</th>\n",
              "    </tr>\n",
              "  </thead>\n",
              "  <tbody>\n",
              "    <tr>\n",
              "      <th>0</th>\n",
              "      <td>0</td>\n",
              "      <td>술이 달다   라고 하는걸 이걸보구 말하나봐요알쓰들도 무한대로 마실수 있는 연말을 ...</td>\n",
              "      <td>선릉   평상술집   술   술집   술안주   꿀주   꿀막걸리   막걸리   ...</td>\n",
              "      <td>8</td>\n",
              "    </tr>\n",
              "    <tr>\n",
              "      <th>1</th>\n",
              "      <td>1</td>\n",
              "      <td></td>\n",
              "      <td>강남카페   강남대형카페도심   카즐_서울   카즐_강남   카즐_가로수길   카...</td>\n",
              "      <td>1</td>\n",
              "    </tr>\n",
              "    <tr>\n",
              "      <th>2</th>\n",
              "      <td>2</td>\n",
              "      <td></td>\n",
              "      <td>강남카페   강남대형카페도심   카즐_서울   카즐_강남   카즐_가로수길   카...</td>\n",
              "      <td>2</td>\n",
              "    </tr>\n",
              "    <tr>\n",
              "      <th>3</th>\n",
              "      <td>3</td>\n",
              "      <td>연타발 압구정 완전 대박인듯ㅜㅜ어느 하나 모자람없는 이 맛을 다양한 세계로 이끌어가...</td>\n",
              "      <td>도산공원맛집   연타발압구정본점   강남맛집   신사동맛집   압구정맛집   도산...</td>\n",
              "      <td>1</td>\n",
              "    </tr>\n",
              "    <tr>\n",
              "      <th>4</th>\n",
              "      <td>4</td>\n",
              "      <td>연타발 압구정 완전 대박인듯ㅜㅜ어느 하나 모자람없는 이 맛을 다양한 세계로 이끌어가...</td>\n",
              "      <td>도산공원맛집   연타발압구정본점   강남맛집   신사동맛집   압구정맛집   도산...</td>\n",
              "      <td>8</td>\n",
              "    </tr>\n",
              "    <tr>\n",
              "      <th>...</th>\n",
              "      <td>...</td>\n",
              "      <td>...</td>\n",
              "      <td>...</td>\n",
              "      <td>...</td>\n",
              "    </tr>\n",
              "    <tr>\n",
              "      <th>8270</th>\n",
              "      <td>8270</td>\n",
              "      <td>올드카에 관심 있다면  규슈 자동차 박물관2023 03 08</td>\n",
              "      <td>사진   여행사진   일본   여행   유후인   일본여행   후쿠오카   규슈 ...</td>\n",
              "      <td>7</td>\n",
              "    </tr>\n",
              "    <tr>\n",
              "      <th>8271</th>\n",
              "      <td>8271</td>\n",
              "      <td>조선의 외교관 역관  부산박물관 특별기획전 전시관람하고 왔어요  아직 어린 아들...</td>\n",
              "      <td>부산박물관   특별기획전   전시관람   전시연출   박물관   포토스팟   역관...</td>\n",
              "      <td>7</td>\n",
              "    </tr>\n",
              "    <tr>\n",
              "      <th>8272</th>\n",
              "      <td>8272</td>\n",
              "      <td>어벤져스 엔드게임의 감동을 다시 한 번  피규어뮤지엄제주 2023 03 15</td>\n",
              "      <td>사진   여행사진   한국   제주   여행   풍경   한국여행   제주도   ...</td>\n",
              "      <td>7</td>\n",
              "    </tr>\n",
              "    <tr>\n",
              "      <th>8273</th>\n",
              "      <td>8273</td>\n",
              "      <td>사 한국박물관협회 회장 조한희 는 지난 5월 11일 목 부터 13일 토 까지 3일...</td>\n",
              "      <td>한국박물관협회   한박협   뮤지엄   박물관   미술관   제17회한국박물관국제...</td>\n",
              "      <td>0</td>\n",
              "    </tr>\n",
              "    <tr>\n",
              "      <th>8274</th>\n",
              "      <td>8274</td>\n",
              "      <td>2023 박물관 미술관 주간  뮤궁뮤진 X 국립산악박물관뮤궁뮤진 X 국립산악박물관...</td>\n",
              "      <td>박미주_소리    국립산악박물관   박미주_소리   박미주_국립산악박물관   박미...</td>\n",
              "      <td>7</td>\n",
              "    </tr>\n",
              "  </tbody>\n",
              "</table>\n",
              "<p>8275 rows × 4 columns</p>\n",
              "</div>\n",
              "      <button class=\"colab-df-convert\" onclick=\"convertToInteractive('df-25195265-70c7-4597-9ae4-0bd742733497')\"\n",
              "              title=\"Convert this dataframe to an interactive table.\"\n",
              "              style=\"display:none;\">\n",
              "        \n",
              "  <svg xmlns=\"http://www.w3.org/2000/svg\" height=\"24px\"viewBox=\"0 0 24 24\"\n",
              "       width=\"24px\">\n",
              "    <path d=\"M0 0h24v24H0V0z\" fill=\"none\"/>\n",
              "    <path d=\"M18.56 5.44l.94 2.06.94-2.06 2.06-.94-2.06-.94-.94-2.06-.94 2.06-2.06.94zm-11 1L8.5 8.5l.94-2.06 2.06-.94-2.06-.94L8.5 2.5l-.94 2.06-2.06.94zm10 10l.94 2.06.94-2.06 2.06-.94-2.06-.94-.94-2.06-.94 2.06-2.06.94z\"/><path d=\"M17.41 7.96l-1.37-1.37c-.4-.4-.92-.59-1.43-.59-.52 0-1.04.2-1.43.59L10.3 9.45l-7.72 7.72c-.78.78-.78 2.05 0 2.83L4 21.41c.39.39.9.59 1.41.59.51 0 1.02-.2 1.41-.59l7.78-7.78 2.81-2.81c.8-.78.8-2.07 0-2.86zM5.41 20L4 18.59l7.72-7.72 1.47 1.35L5.41 20z\"/>\n",
              "  </svg>\n",
              "      </button>\n",
              "      \n",
              "  <style>\n",
              "    .colab-df-container {\n",
              "      display:flex;\n",
              "      flex-wrap:wrap;\n",
              "      gap: 12px;\n",
              "    }\n",
              "\n",
              "    .colab-df-convert {\n",
              "      background-color: #E8F0FE;\n",
              "      border: none;\n",
              "      border-radius: 50%;\n",
              "      cursor: pointer;\n",
              "      display: none;\n",
              "      fill: #1967D2;\n",
              "      height: 32px;\n",
              "      padding: 0 0 0 0;\n",
              "      width: 32px;\n",
              "    }\n",
              "\n",
              "    .colab-df-convert:hover {\n",
              "      background-color: #E2EBFA;\n",
              "      box-shadow: 0px 1px 2px rgba(60, 64, 67, 0.3), 0px 1px 3px 1px rgba(60, 64, 67, 0.15);\n",
              "      fill: #174EA6;\n",
              "    }\n",
              "\n",
              "    [theme=dark] .colab-df-convert {\n",
              "      background-color: #3B4455;\n",
              "      fill: #D2E3FC;\n",
              "    }\n",
              "\n",
              "    [theme=dark] .colab-df-convert:hover {\n",
              "      background-color: #434B5C;\n",
              "      box-shadow: 0px 1px 3px 1px rgba(0, 0, 0, 0.15);\n",
              "      filter: drop-shadow(0px 1px 2px rgba(0, 0, 0, 0.3));\n",
              "      fill: #FFFFFF;\n",
              "    }\n",
              "  </style>\n",
              "\n",
              "      <script>\n",
              "        const buttonEl =\n",
              "          document.querySelector('#df-25195265-70c7-4597-9ae4-0bd742733497 button.colab-df-convert');\n",
              "        buttonEl.style.display =\n",
              "          google.colab.kernel.accessAllowed ? 'block' : 'none';\n",
              "\n",
              "        async function convertToInteractive(key) {\n",
              "          const element = document.querySelector('#df-25195265-70c7-4597-9ae4-0bd742733497');\n",
              "          const dataTable =\n",
              "            await google.colab.kernel.invokeFunction('convertToInteractive',\n",
              "                                                     [key], {});\n",
              "          if (!dataTable) return;\n",
              "\n",
              "          const docLinkHtml = 'Like what you see? Visit the ' +\n",
              "            '<a target=\"_blank\" href=https://colab.research.google.com/notebooks/data_table.ipynb>data table notebook</a>'\n",
              "            + ' to learn more about interactive tables.';\n",
              "          element.innerHTML = '';\n",
              "          dataTable['output_type'] = 'display_data';\n",
              "          await google.colab.output.renderOutput(dataTable, element);\n",
              "          const docLink = document.createElement('div');\n",
              "          docLink.innerHTML = docLinkHtml;\n",
              "          element.appendChild(docLink);\n",
              "        }\n",
              "      </script>\n",
              "    </div>\n",
              "  </div>\n",
              "  "
            ]
          },
          "metadata": {},
          "execution_count": 29
        }
      ],
      "source": [
        "# 데이터 확인\n",
        "df"
      ]
    },
    {
      "cell_type": "code",
      "execution_count": 30,
      "metadata": {
        "colab": {
          "base_uri": "https://localhost:8080/"
        },
        "id": "mGOOD9lFoZsI",
        "outputId": "fc3697af-3934-4d31-9501-72cabe6617ec"
      },
      "outputs": [
        {
          "output_type": "stream",
          "name": "stdout",
          "text": [
            "Unnamed: 0    0\n",
            "sentences     1\n",
            "tags          0\n",
            "label         0\n",
            "dtype: int64\n"
          ]
        }
      ],
      "source": [
        "# 어떤 열에서 Null 값 존재하는지 확인\n",
        "print(df.isnull().sum())"
      ]
    },
    {
      "cell_type": "code",
      "execution_count": 31,
      "metadata": {
        "colab": {
          "base_uri": "https://localhost:8080/"
        },
        "id": "npFtnyNCl4TE",
        "outputId": "4ad477bf-a733-4914-f9fe-b4375ba5094e"
      },
      "outputs": [
        {
          "output_type": "stream",
          "name": "stdout",
          "text": [
            "False\n"
          ]
        }
      ],
      "source": [
        "# Null값 제거\n",
        "df = df.dropna(how = 'any') # Null 값이 존재하는 행 제거\n",
        "print(df.isnull().values.any()) # Null 값이 존재하는지 확인"
      ]
    },
    {
      "cell_type": "code",
      "execution_count": 32,
      "metadata": {
        "colab": {
          "base_uri": "https://localhost:8080/"
        },
        "id": "kEdvwn6OmTPO",
        "outputId": "8184e10c-0af6-41b7-f621-3f49d6c76063"
      },
      "outputs": [
        {
          "output_type": "stream",
          "name": "stdout",
          "text": [
            "8274\n"
          ]
        }
      ],
      "source": [
        "# Null값 제거 후 데이터 개수 확인\n",
        "print(len(df))"
      ]
    },
    {
      "cell_type": "code",
      "execution_count": 33,
      "metadata": {
        "colab": {
          "base_uri": "https://localhost:8080/",
          "height": 684
        },
        "id": "iqRSShoz91fi",
        "outputId": "80ed645a-e669-4786-a130-48931d002634"
      },
      "outputs": [
        {
          "output_type": "stream",
          "name": "stdout",
          "text": [
            "1      2141\n",
            "3      1067\n",
            "2      1053\n",
            "0      1011\n",
            "8       915\n",
            "5       663\n",
            "9       531\n",
            "7       457\n",
            "4       253\n",
            "6       110\n",
            "nan      73\n",
            "Name: label, dtype: int64\n"
          ]
        },
        {
          "output_type": "execute_result",
          "data": {
            "text/plain": [
              "8274"
            ]
          },
          "metadata": {},
          "execution_count": 33
        },
        {
          "output_type": "display_data",
          "data": {
            "text/plain": [
              "<Figure size 640x480 with 1 Axes>"
            ],
            "image/png": "[encoded data removed]"
          },
          "metadata": {}
        }
      ],
      "source": [
        "# Null값 제거 후 각 label별 갯수 확인\n",
        "df['label'].value_counts().plot(kind = 'bar')\n",
        "print(df['label'].value_counts())\n",
        "len(df)"
      ]
    },
    {
      "cell_type": "code",
      "execution_count": 34,
      "metadata": {
        "id": "yYolu3s8cN3b"
      },
      "outputs": [],
      "source": [
        "# label에서 nan 제거\n",
        "df = df[df.label != 'nan']"
      ]
    },
    {
      "cell_type": "code",
      "execution_count": 35,
      "metadata": {
        "colab": {
          "base_uri": "https://localhost:8080/",
          "height": 648
        },
        "id": "riVb8oUWcNha",
        "outputId": "af954b8b-3803-440d-9866-1eea0bbe7708"
      },
      "outputs": [
        {
          "output_type": "stream",
          "name": "stdout",
          "text": [
            "1    2141\n",
            "3    1067\n",
            "2    1053\n",
            "0    1011\n",
            "8     915\n",
            "5     663\n",
            "9     531\n",
            "7     457\n",
            "4     253\n",
            "6     110\n",
            "Name: label, dtype: int64\n"
          ]
        },
        {
          "output_type": "execute_result",
          "data": {
            "text/plain": [
              "8201"
            ]
          },
          "metadata": {},
          "execution_count": 35
        },
        {
          "output_type": "display_data",
          "data": {
            "text/plain": [
              "<Figure size 640x480 with 1 Axes>"
            ],
            "image/png": "[encoded data removed]"
          },
          "metadata": {}
        }
      ],
      "source": [
        "# 각 label별 갯수 확인\n",
        "df['label'].value_counts().plot(kind = 'bar')\n",
        "print(df['label'].value_counts())\n",
        "len(df)"
      ]
    },
    {
      "cell_type": "code",
      "execution_count": 36,
      "metadata": {
        "colab": {
          "base_uri": "https://localhost:8080/"
        },
        "id": "PCLDUAcNxvGT",
        "outputId": "9094ddd5-ac1a-41fc-ac92-b081560b3fa8"
      },
      "outputs": [
        {
          "output_type": "stream",
          "name": "stdout",
          "text": [
            "   \n"
          ]
        }
      ],
      "source": [
        "# data_list에 본문과 라벨링된 값 저장\n",
        "data_list = []\n",
        "for q, label in zip(df['tags'], df['label'])  :\n",
        "    if q.strip() == '' or q.strip() == '.':\n",
        "        print(q)\n",
        "        continue\n",
        "    data = []\n",
        "    data.append(q)\n",
        "    data.append(str(label))\n",
        "\n",
        "    data_list.append(data)"
      ]
    },
    {
      "cell_type": "code",
      "execution_count": 37,
      "metadata": {
        "colab": {
          "base_uri": "https://localhost:8080/"
        },
        "id": "M3ERVX4MyFe5",
        "outputId": "2d468f56-f660-4ff7-c661-a10a809f331f"
      },
      "outputs": [
        {
          "output_type": "stream",
          "name": "stdout",
          "text": [
            "[' 선릉   평상술집   술   술집   술안주   꿀주   꿀막걸리   막걸리   선릉맛집   선릉술집   강남술집', '8']\n",
            "[' 아야진   아야진펜션   아야진해수욕장   속초여행   고성여행   속초펜션   속초숙소   속초펜션추천   속초가볼만한곳   고성가볼만한곳   감성숙소   감성스테이   고성숙소   노천탕펜션   아야진해변   신축펜션   설악산   고성스테이   속초스테이   오션뷰펜션   고성오션뷰펜션   강원도고성펜션   강원도속초펜션   양양가볼만한곳   강원도풀빌라   속초풀빌라   노천탕   속초커플펜션   오션뷰카페   속초펜션추천   고성펜션추천', '2']\n"
          ]
        }
      ],
      "source": [
        "print(data_list[0])\n",
        "print(data_list[500])\n",
        "#print(data_list[1200])\n",
        "# print(data_list[1800])\n",
        "# print(data_list[2400])\n",
        "# print(data_list[2800])\n",
        "# print(data_list[-1])"
      ]
    },
    {
      "cell_type": "code",
      "execution_count": 38,
      "metadata": {
        "id": "Wce4ICOPyHqV"
      },
      "outputs": [],
      "source": [
        "#train & test 데이터로 나누기 train 80 test 20\n",
        "from sklearn.model_selection import train_test_split\n",
        "                                                         \n",
        "train, test = train_test_split(df, test_size=0.2, random_state=0)"
      ]
    },
    {
      "cell_type": "code",
      "execution_count": 39,
      "metadata": {
        "colab": {
          "base_uri": "https://localhost:8080/"
        },
        "id": "JNBGMYZR02eV",
        "outputId": "4b903260-9885-4826-c343-43159ae5b854"
      },
      "outputs": [
        {
          "output_type": "stream",
          "name": "stdout",
          "text": [
            "6560\n",
            "1641\n"
          ]
        }
      ],
      "source": [
        "# train data, test data 개수 확인\n",
        "print(len(train))\n",
        "print(len(test))"
      ]
    },
    {
      "cell_type": "code",
      "execution_count": 40,
      "metadata": {
        "colab": {
          "base_uri": "https://localhost:8080/"
        },
        "id": "txTvwRFCYkaz",
        "outputId": "87b40781-8468-42c0-957a-c525290eb852"
      },
      "outputs": [
        {
          "output_type": "stream",
          "name": "stdout",
          "text": [
            "      Unnamed: 0                                          sentences  \\\n",
            "8029        8029  𝓡𝓞𝓜𝓐 난 항상 이탈리아  특히 로마의 명성이 과장되었다고 생각했다  하지만 완전...   \n",
            "4031        4031  안녕하세요  남영동양문 신촌점입니다  저희는 소갈비포를 직접 뜨고 있습니다  어서 ...   \n",
            "6480        6480  잠시 짬을 내어 랑군님과 데이또연두 초록이 덕분에 눈이 맑아지는듯자연을 담아 마시는...   \n",
            "6551        6551  광양에 있는 웨이팅쩔 숯불 닭구이집  맛집으로 소문 낭낭해서 알사람들은 다 아는곳 ...   \n",
            "5665        5665  여행장소추천 _실시간 고양 꽃 박람회 풍경  2023  5 1  오늘은 근로자의 날...   \n",
            "...          ...                                                ...   \n",
            "4426        4426  삼척주변 여행지 날씨까지 완벽했던 여행마지막날 삼척에서 20분 거리라 다녀왔는데진심...   \n",
            "7965        7965  한 번 먹으면 중독되서 못 벗어나요 오늘 저녁엔 소주 한잔   최고의 안주가 준비되...   \n",
            "4912        4912  성산면에 있다는 푸릇푸릇 논뷰 포레스트 감성 바베큐집   도심을 벗어나 힐링듬뿍 탁...   \n",
            "3302        3302  오늘 가평 음악역 콘서트는 신현희 가수가 와서 신나게 놀다 갔다 코로나 시국에서 조...   \n",
            "2751        2751  나만의 밀양6경  그 마지막 장소 걸음 속에 쉼이 있는 곳  밀양 칠곡 여행기도 이...   \n",
            "\n",
            "                                                   tags label  \n",
            "8029   쥴리미엘의여행기  _프이   유럽여행   이탈리아여행   로마여행   로마   유...     1  \n",
            "4031   남영동양문신촌점   서대문구맛집   서대문맛집   창천동맛집   신촌맛집   신촌...     8  \n",
            "6480                        안양예술공원   안양가볼만한곳   경기도가볼만한곳     8  \n",
            "6551   차도리가든    광양맛집   광양맛집추천   광양가볼만한곳   광양데이트   광양...     3  \n",
            "5665   2023고양국제꽃박람회   태안국제튤립꽃박람회   고양꽃박람회   고양국제꽃박람회...     1  \n",
            "...                                                 ...   ...  \n",
            "4426                                         이제끝나가는삼척여행     0  \n",
            "7965   부천맛집   부천역맛집   심곡동맛집   송내맛집   중동맛집   온비   온비본...     8  \n",
            "4912     강릉맛집   강릉핫플   강릉가볼만한곳   강릉여행   강릉데이트   강릉현지인맛집     5  \n",
            "3302                         가평음악역   가평문화생활   가평살이   가평     1  \n",
            "2751   풍경   풍경스타그램   여행   여행스타그램   밀양가볼만한곳   밀양   밀양...     1  \n",
            "\n",
            "[6560 rows x 4 columns]\n"
          ]
        }
      ],
      "source": [
        "print(train)"
      ]
    },
    {
      "cell_type": "markdown",
      "metadata": {
        "id": "OBdwQxrkX3j6"
      },
      "source": [
        "------"
      ]
    },
    {
      "cell_type": "markdown",
      "source": [
        "문장별 전처리"
      ],
      "metadata": {
        "id": "DCOFyy1zbroq"
      }
    },
    {
      "cell_type": "code",
      "execution_count": 41,
      "metadata": {
        "id": "Xachxm2KX2yz"
      },
      "outputs": [],
      "source": [
        "# CLS, SEP 붙이기 (문장의 시작, 끝)\n",
        "document_bert = [\"[CLS] \" + str(s) + \" [SEP]\" for s in train.tags]"
      ]
    },
    {
      "cell_type": "code",
      "execution_count": 42,
      "metadata": {
        "colab": {
          "base_uri": "https://localhost:8080/"
        },
        "id": "4-4_U1PIX6hS",
        "outputId": "8ac525e2-a20a-4ad5-c763-58b6ce7463fa"
      },
      "outputs": [
        {
          "output_type": "execute_result",
          "data": {
            "text/plain": [
              "['[CLS]  쥴리미엘의여행기  _프이   유럽여행   이탈리아여행   로마여행   로마   유적   유물   travel   italia   roma      [SEP]',\n",
              " '[CLS]  남영동양문신촌점   서대문구맛집   서대문맛집   창천동맛집   신촌맛집   신촌역맛집   남영동양문   맛집   먹스타맞팔환영   신촌역술집추천   프로먹방러   서대문구소갈비맛집   서대문가볼만한곳   창천동모임   서대문핫플   신촌고기집   신촌핫플 [SEP]',\n",
              " '[CLS]  안양예술공원   안양가볼만한곳   경기도가볼만한곳 [SEP]',\n",
              " '[CLS]  차도리가든    광양맛집   광양맛집추천   광양가볼만한곳   광양데이트   광양핫플   광양맛집투어 [SEP]',\n",
              " '[CLS]  2023고양국제꽃박람회   태안국제튤립꽃박람회   고양꽃박람회   고양국제꽃박람회   2023년고양꽃박람회   고양꽃박람회주차   고양꽃박람회입장요금   사진찍기좋은곳   고양가볼만한곳   서울근교가볼만한곳   핫여행지   여행지추천   여행장소추천   봄꽃구경   데이트하기좋은곳   가족여행하기좋은곳   일산호수공원 [SEP]']"
            ]
          },
          "metadata": {},
          "execution_count": 42
        }
      ],
      "source": [
        "document_bert[:5]"
      ]
    },
    {
      "cell_type": "code",
      "execution_count": 43,
      "metadata": {
        "colab": {
          "base_uri": "https://localhost:8080/",
          "height": 170,
          "referenced_widgets": [
            "3acc647d0c174a7199056d011a17e294",
            "432615f180a24a98a569ceb300449c87",
            "82a9e5dc1251436bafeadff9a95c5d00",
            "f57f57a161c74d06bfaed93dd76b073b",
            "707f2b576fb54e9db903cf494d94dccb",
            "dffc288294df4355be5c73fd7e97ab01",
            "2cdc080336c44629b97ecadb3ba75e6e",
            "1acfdfa6ea73462e91faedf9e5bd5629",
            "13e9ae6476094814b413f872bae33d97",
            "c8e58fbc4db3439dba1c9db68f33ee1f",
            "0140a74a4e04466fa6d9b462df7f9872",
            "b1a989e7bf434180a4b80b7fe199f15f",
            "e4e61c3a146b4d3aa57acef2c8be07e1",
            "abe279038d7f466d8c509b72c497246c",
            "9d8bca81c92f4c06b71c2ecdfbb308e9",
            "e2cc7c52bfbe4aa8983e7416e6b28c1b",
            "eb580a2bf3224d379d6760d01eca00dd",
            "d399d46bb2204684990ee1803010a0b7",
            "45bb89c044bc47148e776f54c38a46c7",
            "6f275674254347ecb77075092cbbb193",
            "1bf0c61bc08c4e61a42190022c8eac53",
            "2d9be6458e5c43d795a0dc73ab3639da",
            "e2a11f822a7e4faa95f9b8bed4730273",
            "0ec3dfc6cd9e400ca0fe23885616b41a",
            "208c1ed455e241e1991d53b205f857d0",
            "68cacd5a55864f74a710365fbbc93c19",
            "e238b52a77d9436f95f0031f9df3febf",
            "7c3ffda86e1c4c15b85fbfabbe326d5b",
            "b8a91b6f883e4faca03c2bbadd0a16ea",
            "9f5ee65070784b12afb67dac8a35e02c",
            "5fc418c1292a4e95976b36019179ad28",
            "1e0e009c28164cffafa9a02c64a7396b",
            "3bf1ab1d3c3a43a082dddf2f9c641dd8"
          ]
        },
        "id": "Ok4ysOjV7Epj",
        "outputId": "d13a21a1-c8fa-410a-e423-20af25629036"
      },
      "outputs": [
        {
          "output_type": "stream",
          "name": "stdout",
          "text": [
            "tokenizeing..\n"
          ]
        },
        {
          "output_type": "display_data",
          "data": {
            "text/plain": [
              "Downloading (…)solve/main/vocab.txt:   0%|          | 0.00/996k [00:00<?, ?B/s]"
            ],
            "application/vnd.jupyter.widget-view+json": {
              "version_major": 2,
              "version_minor": 0,
              "model_id": "3acc647d0c174a7199056d011a17e294"
            }
          },
          "metadata": {}
        },
        {
          "output_type": "display_data",
          "data": {
            "text/plain": [
              "Downloading (…)okenizer_config.json:   0%|          | 0.00/29.0 [00:00<?, ?B/s]"
            ],
            "application/vnd.jupyter.widget-view+json": {
              "version_major": 2,
              "version_minor": 0,
              "model_id": "b1a989e7bf434180a4b80b7fe199f15f"
            }
          },
          "metadata": {}
        },
        {
          "output_type": "display_data",
          "data": {
            "text/plain": [
              "Downloading (…)lve/main/config.json:   0%|          | 0.00/625 [00:00<?, ?B/s]"
            ],
            "application/vnd.jupyter.widget-view+json": {
              "version_major": 2,
              "version_minor": 0,
              "model_id": "e2a11f822a7e4faa95f9b8bed4730273"
            }
          },
          "metadata": {}
        },
        {
          "output_type": "stream",
          "name": "stdout",
          "text": [
            "tokenized_texts[0]: ['[CLS]', '[UNK]', '_', '프', '##이', '유럽', '##여', '##행', '이탈리아', '##여', '##행', '로마', '##여', '##행', '로마', '유', '##적', '유', '##물', 'travel', 'it', '##alia', 'rom', '##a', '[SEP]']\n"
          ]
        }
      ],
      "source": [
        "#사전 학습된 BERT multilingual 모델 내 포함되어있는 토크나이저 활용\n",
        "print('tokenizeing..')\n",
        "tokenizer = BertTokenizer.from_pretrained('bert-base-multilingual-cased',do_lower_case=False)\n",
        "tokenized_texts = [ tokenizer.tokenize(s) for s in document_bert]\n",
        "print('tokenized_texts[0]:',tokenized_texts[0])"
      ]
    },
    {
      "cell_type": "code",
      "execution_count": 44,
      "metadata": {
        "colab": {
          "base_uri": "https://localhost:8080/"
        },
        "id": "JNVGpQV17QwM",
        "outputId": "e323dcbc-1b4b-477e-c1b0-eb17ec69fe7e"
      },
      "outputs": [
        {
          "output_type": "stream",
          "name": "stdout",
          "text": [
            "padding\n",
            "input_ids[0]: [  101   100   168  9942 10739 68495 29935 25549 73668 29935 25549 74805\n",
            " 29935 25549 74805  9625 14801  9625 29364 23595 10271 35954 86945 10113\n",
            "   102     0     0     0     0     0     0     0     0     0     0     0\n",
            "     0     0     0     0     0     0     0     0     0     0     0     0\n",
            "     0     0     0     0     0     0     0     0     0     0     0     0\n",
            "     0     0     0     0     0     0     0     0     0     0     0     0\n",
            "     0     0     0     0     0     0     0     0     0     0     0     0\n",
            "     0     0     0     0     0     0     0     0     0     0     0     0\n",
            "     0     0     0     0     0     0     0     0     0     0     0     0\n",
            "     0     0     0     0     0     0     0     0     0     0     0     0\n",
            "     0     0     0     0     0     0     0     0]\n"
          ]
        }
      ],
      "source": [
        "#token들의 max length보다 크게 MAX_LEN을 설정한다. 설정한 MAX_LEN만큼 빈 공간을 0 이 채운다\n",
        "print('padding')\n",
        "MAX_LEN = 128\n",
        "input_ids = [tokenizer.convert_tokens_to_ids(x) for x in tokenized_texts]\n",
        "input_ids = pad_sequences(input_ids, maxlen = MAX_LEN, dtype='long', truncating='post', padding='post')\n",
        "input_ids[0]\n",
        "print('input_ids[0]:',input_ids[0])"
      ]
    },
    {
      "cell_type": "code",
      "execution_count": 45,
      "metadata": {
        "colab": {
          "base_uri": "https://localhost:8080/"
        },
        "id": "s0EJLbhT7Vbx",
        "outputId": "ae7cb7f9-8521-4bed-eb29-0210ba5e6ded"
      },
      "outputs": [
        {
          "output_type": "stream",
          "name": "stdout",
          "text": [
            "attention_masks[0]: [1.0, 1.0, 1.0, 1.0, 1.0, 1.0, 1.0, 1.0, 1.0, 1.0, 1.0, 1.0, 1.0, 1.0, 1.0, 1.0, 1.0, 1.0, 1.0, 1.0, 1.0, 1.0, 1.0, 1.0, 1.0, 0.0, 0.0, 0.0, 0.0, 0.0, 0.0, 0.0, 0.0, 0.0, 0.0, 0.0, 0.0, 0.0, 0.0, 0.0, 0.0, 0.0, 0.0, 0.0, 0.0, 0.0, 0.0, 0.0, 0.0, 0.0, 0.0, 0.0, 0.0, 0.0, 0.0, 0.0, 0.0, 0.0, 0.0, 0.0, 0.0, 0.0, 0.0, 0.0, 0.0, 0.0, 0.0, 0.0, 0.0, 0.0, 0.0, 0.0, 0.0, 0.0, 0.0, 0.0, 0.0, 0.0, 0.0, 0.0, 0.0, 0.0, 0.0, 0.0, 0.0, 0.0, 0.0, 0.0, 0.0, 0.0, 0.0, 0.0, 0.0, 0.0, 0.0, 0.0, 0.0, 0.0, 0.0, 0.0, 0.0, 0.0, 0.0, 0.0, 0.0, 0.0, 0.0, 0.0, 0.0, 0.0, 0.0, 0.0, 0.0, 0.0, 0.0, 0.0, 0.0, 0.0, 0.0, 0.0, 0.0, 0.0, 0.0, 0.0, 0.0, 0.0, 0.0, 0.0]\n"
          ]
        }
      ],
      "source": [
        "#학습 속도를 높이기 위해 실 데이터가 있는 곳과 padding이 있는곳을 attention에게 알려줌\n",
        "\n",
        "attention_masks = []\n",
        "\n",
        "for seq in input_ids:\n",
        "    seq_mask = [float(i>0) for i in seq]\n",
        "    attention_masks.append(seq_mask)\n",
        "\n",
        "print('attention_masks[0]:',attention_masks[0])"
      ]
    },
    {
      "cell_type": "code",
      "execution_count": 46,
      "metadata": {
        "colab": {
          "base_uri": "https://localhost:8080/"
        },
        "id": "SkkcFlTk7aMW",
        "outputId": "1c955750-0b58-48b9-9787-e8345a7970e1"
      },
      "outputs": [
        {
          "output_type": "stream",
          "name": "stdout",
          "text": [
            "split train - val\n"
          ]
        }
      ],
      "source": [
        "# input 과 mask가 뒤섞이지 않도록 random_state를 일정하게 고정.\n",
        "# test set은 위에서 분리되었기에 , train 과 validation set만 분리\n",
        "print('split train - val')\n",
        "train_inputs, validation_inputs, train_labels, validation_labels = \\\n",
        "train_test_split(input_ids, train['label'].values, random_state=42, test_size=0.1)\n",
        "\n",
        "train_masks, validation_masks, _, _ = train_test_split(attention_masks, input_ids, random_state=42,test_size=0.1)"
      ]
    },
    {
      "cell_type": "code",
      "execution_count": 47,
      "metadata": {
        "id": "F4IOu9UuBUfk"
      },
      "outputs": [],
      "source": [
        "train_labels = train_labels.astype(int)"
      ]
    },
    {
      "cell_type": "code",
      "execution_count": 48,
      "metadata": {
        "id": "xIVYlNi6BfU8"
      },
      "outputs": [],
      "source": [
        "validation_labels = validation_labels.astype(int)"
      ]
    },
    {
      "cell_type": "code",
      "execution_count": 49,
      "metadata": {
        "colab": {
          "base_uri": "https://localhost:8080/"
        },
        "id": "65DQoIoi8RDt",
        "outputId": "7fc35a96-7319-44d7-da28-309c568fc2c3"
      },
      "outputs": [
        {
          "output_type": "stream",
          "name": "stdout",
          "text": [
            "convert data to tenser..\n"
          ]
        }
      ],
      "source": [
        "# numpy ndarray로 되어있는 input,lable,mask들을 torch tensor로 변환\n",
        "print('convert data to tenser..')\n",
        "train_inputs = torch.tensor(train_inputs)\n",
        "train_labels = torch.tensor(train_labels)\n",
        "train_masks = torch.tensor(train_masks)\n",
        "validation_inputs = torch.tensor(validation_inputs)\n",
        "validation_labels = torch.tensor(validation_labels)\n",
        "validation_masks = torch.tensor(validation_masks)"
      ]
    },
    {
      "cell_type": "code",
      "execution_count": 56,
      "metadata": {
        "colab": {
          "base_uri": "https://localhost:8080/"
        },
        "id": "eWo3Vp1p80ZI",
        "outputId": "753e9c95-a47a-47eb-92de-15a480577d09"
      },
      "outputs": [
        {
          "output_type": "stream",
          "name": "stdout",
          "text": [
            "set batch and data loader\n"
          ]
        }
      ],
      "source": [
        "#현재 쓰고있는 GPU의 VRAM에 맞게 배치사이즈 설정(크게 설정후 부족메시지가 뜨면 8의 배수중 작은것으로 줄여나가기)\n",
        "print('set batch and data loader')\n",
        "BATCH_SIZE = 80\n",
        "\n",
        "train_data = TensorDataset(train_inputs, train_masks, train_labels)\n",
        "train_sampler = RandomSampler(train_data)\n",
        "train_dataloader = DataLoader(train_data, sampler = train_sampler, batch_size = BATCH_SIZE)\n",
        "\n",
        "validation_data = TensorDataset(validation_inputs, validation_masks, validation_labels)\n",
        "validation_sampler = SequentialSampler(validation_data)\n",
        "validation_dataloader = DataLoader(validation_data, sampler=validation_sampler, batch_size=BATCH_SIZE)"
      ]
    },
    {
      "cell_type": "code",
      "execution_count": 57,
      "metadata": {
        "colab": {
          "base_uri": "https://localhost:8080/"
        },
        "id": "Zd0evJj5Bmmm",
        "outputId": "a2fb10ed-26d5-4eef-c889-0818a385ec23"
      },
      "outputs": [
        {
          "output_type": "stream",
          "name": "stdout",
          "text": [
            "data split\n"
          ]
        }
      ],
      "source": [
        "#위의 train-val 셋 전처리와 동일\n",
        "print('data split')\n",
        "sentences = test['tags']\n",
        "sentences = [\"[CLS]\"+str(sentence)+\"[SEP]\" for sentence in sentences]\n",
        "labels = test['label'].values\n",
        "\n",
        "tokenized_texts = [tokenizer.tokenize(sent) for sent in sentences]\n",
        "\n",
        "input_ids = [tokenizer.convert_tokens_to_ids(x) for x in tokenized_texts]\n",
        "input_ids = pad_sequences(input_ids, maxlen=MAX_LEN, dtype=\"long\", truncating=\"post\", padding=\"post\")\n",
        "\n",
        "attention_masks = []\n",
        "for seq in input_ids:\n",
        "        seq_mask = [float(i>0) for i in seq]\n",
        "        attention_masks.append(seq_mask)\n",
        "\n",
        "labels = labels.astype(int)\n",
        "\n",
        "test_inputs = torch.tensor(input_ids)\n",
        "test_labels = torch.tensor(labels)\n",
        "test_masks = torch.tensor(attention_masks)\n",
        "\n",
        "test_data = TensorDataset(test_inputs, test_masks, test_labels)\n",
        "test_sampler = RandomSampler(test_data)\n",
        "test_dataloader = DataLoader(test_data, sampler=test_sampler, batch_size=BATCH_SIZE)"
      ]
    },
    {
      "cell_type": "code",
      "execution_count": 58,
      "metadata": {
        "colab": {
          "base_uri": "https://localhost:8080/"
        },
        "id": "b0r39B7kEDYl",
        "outputId": "eb180427-e015-49b1-cd74-a3858d93d556"
      },
      "outputs": [
        {
          "output_type": "stream",
          "name": "stdout",
          "text": [
            "True\n",
            "1\n",
            "Tesla T4\n"
          ]
        }
      ],
      "source": [
        "import torch\n",
        "\n",
        "print(torch.cuda.is_available())  # CUDA를 사용할 수 있는지 확인\n",
        "print(torch.cuda.device_count())  # 사용 가능한 CUDA 디바이스 개수 확인\n",
        "\n",
        "for i in range(torch.cuda.device_count()):\n",
        "    print(torch.cuda.get_device_name(i))  # CUDA 디바이스 이름 출력\n"
      ]
    },
    {
      "cell_type": "code",
      "execution_count": 59,
      "metadata": {
        "colab": {
          "base_uri": "https://localhost:8080/"
        },
        "id": "h_VO3d-OBrtr",
        "outputId": "d0ecdbf9-21a2-4389-cbf5-a30590a76214"
      },
      "outputs": [
        {
          "output_type": "stream",
          "name": "stdout",
          "text": [
            "There are 1 GPU(s) available.\n",
            "We will use the GPU: Tesla T4\n",
            "making BERT model for classification\n"
          ]
        },
        {
          "output_type": "stream",
          "name": "stderr",
          "text": [
            "Some weights of the model checkpoint at bert-base-multilingual-cased were not used when initializing BertForSequenceClassification: ['cls.predictions.transform.dense.bias', 'cls.seq_relationship.weight', 'cls.predictions.transform.LayerNorm.bias', 'cls.predictions.decoder.weight', 'cls.seq_relationship.bias', 'cls.predictions.transform.LayerNorm.weight', 'cls.predictions.transform.dense.weight', 'cls.predictions.bias']\n",
            "- This IS expected if you are initializing BertForSequenceClassification from the checkpoint of a model trained on another task or with another architecture (e.g. initializing a BertForSequenceClassification model from a BertForPreTraining model).\n",
            "- This IS NOT expected if you are initializing BertForSequenceClassification from the checkpoint of a model that you expect to be exactly identical (initializing a BertForSequenceClassification model from a BertForSequenceClassification model).\n",
            "Some weights of BertForSequenceClassification were not initialized from the model checkpoint at bert-base-multilingual-cased and are newly initialized: ['classifier.weight', 'classifier.bias']\n",
            "You should probably TRAIN this model on a down-stream task to be able to use it for predictions and inference.\n"
          ]
        },
        {
          "output_type": "execute_result",
          "data": {
            "text/plain": [
              "BertForSequenceClassification(\n",
              "  (bert): BertModel(\n",
              "    (embeddings): BertEmbeddings(\n",
              "      (word_embeddings): Embedding(119547, 768, padding_idx=0)\n",
              "      (position_embeddings): Embedding(512, 768)\n",
              "      (token_type_embeddings): Embedding(2, 768)\n",
              "      (LayerNorm): LayerNorm((768,), eps=1e-12, elementwise_affine=True)\n",
              "      (dropout): Dropout(p=0.1, inplace=False)\n",
              "    )\n",
              "    (encoder): BertEncoder(\n",
              "      (layer): ModuleList(\n",
              "        (0-11): 12 x BertLayer(\n",
              "          (attention): BertAttention(\n",
              "            (self): BertSelfAttention(\n",
              "              (query): Linear(in_features=768, out_features=768, bias=True)\n",
              "              (key): Linear(in_features=768, out_features=768, bias=True)\n",
              "              (value): Linear(in_features=768, out_features=768, bias=True)\n",
              "              (dropout): Dropout(p=0.1, inplace=False)\n",
              "            )\n",
              "            (output): BertSelfOutput(\n",
              "              (dense): Linear(in_features=768, out_features=768, bias=True)\n",
              "              (LayerNorm): LayerNorm((768,), eps=1e-12, elementwise_affine=True)\n",
              "              (dropout): Dropout(p=0.1, inplace=False)\n",
              "            )\n",
              "          )\n",
              "          (intermediate): BertIntermediate(\n",
              "            (dense): Linear(in_features=768, out_features=3072, bias=True)\n",
              "            (intermediate_act_fn): GELUActivation()\n",
              "          )\n",
              "          (output): BertOutput(\n",
              "            (dense): Linear(in_features=3072, out_features=768, bias=True)\n",
              "            (LayerNorm): LayerNorm((768,), eps=1e-12, elementwise_affine=True)\n",
              "            (dropout): Dropout(p=0.1, inplace=False)\n",
              "          )\n",
              "        )\n",
              "      )\n",
              "    )\n",
              "    (pooler): BertPooler(\n",
              "      (dense): Linear(in_features=768, out_features=768, bias=True)\n",
              "      (activation): Tanh()\n",
              "    )\n",
              "  )\n",
              "  (dropout): Dropout(p=0.1, inplace=False)\n",
              "  (classifier): Linear(in_features=768, out_features=10, bias=True)\n",
              ")"
            ]
          },
          "metadata": {},
          "execution_count": 59
        }
      ],
      "source": [
        "#GPU 체크 및 할당\n",
        "if torch.cuda.is_available():    \n",
        "    device = torch.device(\"cuda:0\")\n",
        "    print('There are %d GPU(s) available.' % torch.cuda.device_count())\n",
        "    print('We will use the GPU:', torch.cuda.get_device_name(0))\n",
        "else:\n",
        "    device = torch.device(\"cpu\")\n",
        "    print('No GPU available, using the CPU instead.')\n",
        "\n",
        "\n",
        "## 분류를 위한 BERT 모델 생성\n",
        "# transformers 의 BertForSequenceClassification 모듈 이용\n",
        "print('making BERT model for classification')\n",
        "model = BertForSequenceClassification.from_pretrained(\"bert-base-multilingual-cased\", num_labels=10)\n",
        "#model.cuda()\n",
        "model.to(device)"
      ]
    },
    {
      "cell_type": "code",
      "execution_count": 61,
      "metadata": {
        "colab": {
          "base_uri": "https://localhost:8080/"
        },
        "id": "6F_V5hPQCRBV",
        "outputId": "a17abf66-2f44-4897-bb2b-d9960a8bd07e"
      },
      "outputs": [
        {
          "output_type": "stream",
          "name": "stdout",
          "text": [
            "train start\n"
          ]
        }
      ],
      "source": [
        "# transformers에서 제공하는 옵티마이저 중 AdamW를 사용\n",
        "# 총 훈련 스텝은 이터레이션 * 에폭 수로 설정\n",
        "# 러닝 레잇 스케쥴러도 transformers에서 제공하는것을 사용\n",
        "\n",
        "#옵티마이저 설정\n",
        "optimizer = AdamW(model.parameters(),\n",
        "                  lr = 2e-5, # 학습률\n",
        "                  eps = 1e-8 # 0으로 나누는 것을 방지하기 위한 epsilon 값\n",
        "                )\n",
        "\n",
        "# 에폭수\n",
        "epochs = 50\n",
        "\n",
        "# 총 훈련 스텝\n",
        "total_steps = len(train_dataloader) * epochs\n",
        "\n",
        "# lr 조금씩 감소시키는 스케줄러\n",
        "scheduler = get_linear_schedule_with_warmup(optimizer, \n",
        "                                            num_warmup_steps = 0,\n",
        "                                            num_training_steps = total_steps)\n",
        "\n",
        "##학습\n",
        "# accuracy 와 시간 표시함수 정의\n",
        "# 정확도 계산 함수\n",
        "print('train start')\n",
        "def flat_accuracy(preds, labels):\n",
        "    pred_flat = np.argmax(preds, axis=1).flatten()\n",
        "    labels_flat = labels.flatten()\n",
        "    return np.sum(pred_flat == labels_flat) / len(labels_flat)\n",
        "\n",
        "# 시간 표시 함수\n",
        "def format_time(elapsed):\n",
        "    # 반올림\n",
        "    elapsed_rounded = int(round((elapsed)))\n",
        "    # hh:mm:ss으로 형태 변경\n",
        "    return str(datetime.timedelta(seconds=elapsed_rounded))"
      ]
    },
    {
      "cell_type": "code",
      "execution_count": 62,
      "metadata": {
        "colab": {
          "base_uri": "https://localhost:8080/"
        },
        "id": "4R_yL0HsEoum",
        "outputId": "bd34c05b-aa9b-4b54-f3cf-f7a9a1b39a05"
      },
      "outputs": [
        {
          "output_type": "stream",
          "name": "stdout",
          "text": [
            "\n",
            "======== Epoch 1 / 50 ========\n",
            "Training...\n",
            "\n",
            "  Average training loss: 2.00\n",
            "  Training epcoh took: 0:01:48\n",
            "\n",
            "Running Validation...\n",
            "  Accuracy: 0.33\n",
            "  Validation took: 0:00:04\n",
            "\n",
            "======== Epoch 2 / 50 ========\n",
            "Training...\n",
            "\n",
            "  Average training loss: 1.76\n",
            "  Training epcoh took: 0:01:48\n",
            "\n",
            "Running Validation...\n",
            "  Accuracy: 0.35\n",
            "  Validation took: 0:00:04\n",
            "\n",
            "======== Epoch 3 / 50 ========\n",
            "Training...\n",
            "\n",
            "  Average training loss: 1.62\n",
            "  Training epcoh took: 0:01:48\n",
            "\n",
            "Running Validation...\n",
            "  Accuracy: 0.33\n",
            "  Validation took: 0:00:04\n",
            "\n",
            "======== Epoch 4 / 50 ========\n",
            "Training...\n",
            "\n",
            "  Average training loss: 1.51\n",
            "  Training epcoh took: 0:01:47\n",
            "\n",
            "Running Validation...\n",
            "  Accuracy: 0.34\n",
            "  Validation took: 0:00:04\n",
            "\n",
            "======== Epoch 5 / 50 ========\n",
            "Training...\n",
            "\n",
            "  Average training loss: 1.42\n",
            "  Training epcoh took: 0:01:47\n",
            "\n",
            "Running Validation...\n",
            "  Accuracy: 0.33\n",
            "  Validation took: 0:00:04\n",
            "\n",
            "======== Epoch 6 / 50 ========\n",
            "Training...\n",
            "\n",
            "  Average training loss: 1.35\n",
            "  Training epcoh took: 0:01:48\n",
            "\n",
            "Running Validation...\n",
            "  Accuracy: 0.34\n",
            "  Validation took: 0:00:04\n",
            "\n",
            "======== Epoch 7 / 50 ========\n",
            "Training...\n",
            "\n",
            "  Average training loss: 1.27\n",
            "  Training epcoh took: 0:01:48\n",
            "\n",
            "Running Validation...\n",
            "  Accuracy: 0.32\n",
            "  Validation took: 0:00:04\n",
            "\n",
            "======== Epoch 8 / 50 ========\n",
            "Training...\n",
            "\n",
            "  Average training loss: 1.22\n",
            "  Training epcoh took: 0:01:48\n",
            "\n",
            "Running Validation...\n",
            "  Accuracy: 0.33\n",
            "  Validation took: 0:00:04\n",
            "\n",
            "======== Epoch 9 / 50 ========\n",
            "Training...\n",
            "\n",
            "  Average training loss: 1.16\n",
            "  Training epcoh took: 0:01:48\n",
            "\n",
            "Running Validation...\n",
            "  Accuracy: 0.26\n",
            "  Validation took: 0:00:04\n",
            "\n",
            "======== Epoch 10 / 50 ========\n",
            "Training...\n",
            "\n",
            "  Average training loss: 1.11\n",
            "  Training epcoh took: 0:01:48\n",
            "\n",
            "Running Validation...\n",
            "  Accuracy: 0.30\n",
            "  Validation took: 0:00:04\n",
            "\n",
            "======== Epoch 11 / 50 ========\n",
            "Training...\n",
            "\n",
            "  Average training loss: 1.07\n",
            "  Training epcoh took: 0:01:48\n",
            "\n",
            "Running Validation...\n",
            "  Accuracy: 0.25\n",
            "  Validation took: 0:00:04\n",
            "\n",
            "======== Epoch 12 / 50 ========\n",
            "Training...\n",
            "\n",
            "  Average training loss: 1.04\n",
            "  Training epcoh took: 0:01:47\n",
            "\n",
            "Running Validation...\n",
            "  Accuracy: 0.24\n",
            "  Validation took: 0:00:04\n",
            "\n",
            "======== Epoch 13 / 50 ========\n",
            "Training...\n",
            "\n",
            "  Average training loss: 1.00\n",
            "  Training epcoh took: 0:01:47\n",
            "\n",
            "Running Validation...\n",
            "  Accuracy: 0.25\n",
            "  Validation took: 0:00:04\n",
            "\n",
            "======== Epoch 14 / 50 ========\n",
            "Training...\n",
            "\n",
            "  Average training loss: 0.97\n",
            "  Training epcoh took: 0:01:48\n",
            "\n",
            "Running Validation...\n",
            "  Accuracy: 0.23\n",
            "  Validation took: 0:00:04\n",
            "\n",
            "======== Epoch 15 / 50 ========\n",
            "Training...\n",
            "\n",
            "  Average training loss: 0.94\n",
            "  Training epcoh took: 0:01:47\n",
            "\n",
            "Running Validation...\n",
            "  Accuracy: 0.25\n",
            "  Validation took: 0:00:04\n",
            "\n",
            "======== Epoch 16 / 50 ========\n",
            "Training...\n",
            "\n",
            "  Average training loss: 0.91\n",
            "  Training epcoh took: 0:01:48\n",
            "\n",
            "Running Validation...\n",
            "  Accuracy: 0.22\n",
            "  Validation took: 0:00:04\n",
            "\n",
            "======== Epoch 17 / 50 ========\n",
            "Training...\n",
            "\n",
            "  Average training loss: 0.89\n",
            "  Training epcoh took: 0:01:47\n",
            "\n",
            "Running Validation...\n",
            "  Accuracy: 0.20\n",
            "  Validation took: 0:00:04\n",
            "\n",
            "======== Epoch 18 / 50 ========\n",
            "Training...\n",
            "\n",
            "  Average training loss: 0.88\n",
            "  Training epcoh took: 0:01:47\n",
            "\n",
            "Running Validation...\n",
            "  Accuracy: 0.22\n",
            "  Validation took: 0:00:04\n",
            "\n",
            "======== Epoch 19 / 50 ========\n",
            "Training...\n",
            "\n",
            "  Average training loss: 0.85\n",
            "  Training epcoh took: 0:01:48\n",
            "\n",
            "Running Validation...\n",
            "  Accuracy: 0.20\n",
            "  Validation took: 0:00:04\n",
            "\n",
            "======== Epoch 20 / 50 ========\n",
            "Training...\n",
            "\n",
            "  Average training loss: 0.84\n",
            "  Training epcoh took: 0:01:48\n",
            "\n",
            "Running Validation...\n",
            "  Accuracy: 0.21\n",
            "  Validation took: 0:00:04\n",
            "\n",
            "======== Epoch 21 / 50 ========\n",
            "Training...\n",
            "\n",
            "  Average training loss: 0.83\n",
            "  Training epcoh took: 0:01:47\n",
            "\n",
            "Running Validation...\n",
            "  Accuracy: 0.19\n",
            "  Validation took: 0:00:04\n",
            "\n",
            "======== Epoch 22 / 50 ========\n",
            "Training...\n",
            "\n",
            "  Average training loss: 0.80\n",
            "  Training epcoh took: 0:01:48\n",
            "\n",
            "Running Validation...\n",
            "  Accuracy: 0.20\n",
            "  Validation took: 0:00:04\n",
            "\n",
            "======== Epoch 23 / 50 ========\n",
            "Training...\n",
            "\n",
            "  Average training loss: 0.79\n",
            "  Training epcoh took: 0:01:48\n",
            "\n",
            "Running Validation...\n",
            "  Accuracy: 0.20\n",
            "  Validation took: 0:00:04\n",
            "\n",
            "======== Epoch 24 / 50 ========\n",
            "Training...\n",
            "\n",
            "  Average training loss: 0.78\n",
            "  Training epcoh took: 0:01:48\n",
            "\n",
            "Running Validation...\n",
            "  Accuracy: 0.20\n",
            "  Validation took: 0:00:04\n",
            "\n",
            "======== Epoch 25 / 50 ========\n",
            "Training...\n",
            "\n",
            "  Average training loss: 0.77\n",
            "  Training epcoh took: 0:01:48\n",
            "\n",
            "Running Validation...\n",
            "  Accuracy: 0.21\n",
            "  Validation took: 0:00:04\n",
            "\n",
            "======== Epoch 26 / 50 ========\n",
            "Training...\n",
            "\n",
            "  Average training loss: 0.74\n",
            "  Training epcoh took: 0:01:48\n",
            "\n",
            "Running Validation...\n",
            "  Accuracy: 0.20\n",
            "  Validation took: 0:00:04\n",
            "\n",
            "======== Epoch 27 / 50 ========\n",
            "Training...\n",
            "\n",
            "  Average training loss: 0.75\n",
            "  Training epcoh took: 0:01:48\n",
            "\n",
            "Running Validation...\n",
            "  Accuracy: 0.20\n",
            "  Validation took: 0:00:04\n",
            "\n",
            "======== Epoch 28 / 50 ========\n",
            "Training...\n",
            "\n",
            "  Average training loss: 0.74\n",
            "  Training epcoh took: 0:01:48\n",
            "\n",
            "Running Validation...\n",
            "  Accuracy: 0.20\n",
            "  Validation took: 0:00:04\n",
            "\n",
            "======== Epoch 29 / 50 ========\n",
            "Training...\n",
            "\n",
            "  Average training loss: 0.73\n",
            "  Training epcoh took: 0:01:48\n",
            "\n",
            "Running Validation...\n",
            "  Accuracy: 0.21\n",
            "  Validation took: 0:00:04\n",
            "\n",
            "======== Epoch 30 / 50 ========\n",
            "Training...\n",
            "\n",
            "  Average training loss: 0.72\n",
            "  Training epcoh took: 0:01:48\n",
            "\n",
            "Running Validation...\n",
            "  Accuracy: 0.20\n",
            "  Validation took: 0:00:04\n",
            "\n",
            "======== Epoch 31 / 50 ========\n",
            "Training...\n",
            "\n",
            "  Average training loss: 0.71\n",
            "  Training epcoh took: 0:01:47\n",
            "\n",
            "Running Validation...\n",
            "  Accuracy: 0.19\n",
            "  Validation took: 0:00:04\n",
            "\n",
            "======== Epoch 32 / 50 ========\n",
            "Training...\n",
            "\n",
            "  Average training loss: 0.70\n",
            "  Training epcoh took: 0:01:47\n",
            "\n",
            "Running Validation...\n",
            "  Accuracy: 0.19\n",
            "  Validation took: 0:00:04\n",
            "\n",
            "======== Epoch 33 / 50 ========\n",
            "Training...\n",
            "\n",
            "  Average training loss: 0.70\n",
            "  Training epcoh took: 0:01:48\n",
            "\n",
            "Running Validation...\n",
            "  Accuracy: 0.19\n",
            "  Validation took: 0:00:04\n",
            "\n",
            "======== Epoch 34 / 50 ========\n",
            "Training...\n",
            "\n",
            "  Average training loss: 0.68\n",
            "  Training epcoh took: 0:01:48\n",
            "\n",
            "Running Validation...\n",
            "  Accuracy: 0.18\n",
            "  Validation took: 0:00:04\n",
            "\n",
            "======== Epoch 35 / 50 ========\n",
            "Training...\n",
            "\n",
            "  Average training loss: 0.68\n",
            "  Training epcoh took: 0:01:48\n",
            "\n",
            "Running Validation...\n",
            "  Accuracy: 0.20\n",
            "  Validation took: 0:00:04\n",
            "\n",
            "======== Epoch 36 / 50 ========\n",
            "Training...\n",
            "\n",
            "  Average training loss: 0.69\n",
            "  Training epcoh took: 0:01:48\n",
            "\n",
            "Running Validation...\n",
            "  Accuracy: 0.19\n",
            "  Validation took: 0:00:04\n",
            "\n",
            "======== Epoch 37 / 50 ========\n",
            "Training...\n",
            "\n",
            "  Average training loss: 0.67\n",
            "  Training epcoh took: 0:01:48\n",
            "\n",
            "Running Validation...\n",
            "  Accuracy: 0.20\n",
            "  Validation took: 0:00:04\n",
            "\n",
            "======== Epoch 38 / 50 ========\n",
            "Training...\n",
            "\n",
            "  Average training loss: 0.67\n",
            "  Training epcoh took: 0:01:48\n",
            "\n",
            "Running Validation...\n",
            "  Accuracy: 0.20\n",
            "  Validation took: 0:00:04\n",
            "\n",
            "======== Epoch 39 / 50 ========\n",
            "Training...\n",
            "\n",
            "  Average training loss: 0.66\n",
            "  Training epcoh took: 0:01:48\n",
            "\n",
            "Running Validation...\n",
            "  Accuracy: 0.19\n",
            "  Validation took: 0:00:04\n",
            "\n",
            "======== Epoch 40 / 50 ========\n",
            "Training...\n",
            "\n",
            "  Average training loss: 0.65\n",
            "  Training epcoh took: 0:01:48\n",
            "\n",
            "Running Validation...\n",
            "  Accuracy: 0.20\n",
            "  Validation took: 0:00:04\n",
            "\n",
            "======== Epoch 41 / 50 ========\n",
            "Training...\n",
            "\n",
            "  Average training loss: 0.65\n",
            "  Training epcoh took: 0:01:48\n",
            "\n",
            "Running Validation...\n",
            "  Accuracy: 0.20\n",
            "  Validation took: 0:00:04\n",
            "\n",
            "======== Epoch 42 / 50 ========\n",
            "Training...\n",
            "\n",
            "  Average training loss: 0.65\n",
            "  Training epcoh took: 0:01:48\n",
            "\n",
            "Running Validation...\n",
            "  Accuracy: 0.20\n",
            "  Validation took: 0:00:04\n",
            "\n",
            "======== Epoch 43 / 50 ========\n",
            "Training...\n",
            "\n",
            "  Average training loss: 0.64\n",
            "  Training epcoh took: 0:01:48\n",
            "\n",
            "Running Validation...\n",
            "  Accuracy: 0.19\n",
            "  Validation took: 0:00:04\n",
            "\n",
            "======== Epoch 44 / 50 ========\n",
            "Training...\n",
            "\n",
            "  Average training loss: 0.64\n",
            "  Training epcoh took: 0:01:47\n",
            "\n",
            "Running Validation...\n",
            "  Accuracy: 0.20\n",
            "  Validation took: 0:00:04\n",
            "\n",
            "======== Epoch 45 / 50 ========\n",
            "Training...\n",
            "\n",
            "  Average training loss: 0.64\n",
            "  Training epcoh took: 0:01:48\n",
            "\n",
            "Running Validation...\n",
            "  Accuracy: 0.20\n",
            "  Validation took: 0:00:04\n",
            "\n",
            "======== Epoch 46 / 50 ========\n",
            "Training...\n",
            "\n",
            "  Average training loss: 0.63\n",
            "  Training epcoh took: 0:01:48\n",
            "\n",
            "Running Validation...\n",
            "  Accuracy: 0.19\n",
            "  Validation took: 0:00:04\n",
            "\n",
            "======== Epoch 47 / 50 ========\n",
            "Training...\n",
            "\n",
            "  Average training loss: 0.62\n",
            "  Training epcoh took: 0:01:47\n",
            "\n",
            "Running Validation...\n",
            "  Accuracy: 0.20\n",
            "  Validation took: 0:00:04\n",
            "\n",
            "======== Epoch 48 / 50 ========\n",
            "Training...\n",
            "\n",
            "  Average training loss: 0.62\n",
            "  Training epcoh took: 0:01:47\n",
            "\n",
            "Running Validation...\n",
            "  Accuracy: 0.20\n",
            "  Validation took: 0:00:04\n",
            "\n",
            "======== Epoch 49 / 50 ========\n",
            "Training...\n",
            "\n",
            "  Average training loss: 0.62\n",
            "  Training epcoh took: 0:01:47\n",
            "\n",
            "Running Validation...\n",
            "  Accuracy: 0.20\n",
            "  Validation took: 0:00:04\n",
            "\n",
            "======== Epoch 50 / 50 ========\n",
            "Training...\n",
            "\n",
            "  Average training loss: 0.61\n",
            "  Training epcoh took: 0:01:48\n",
            "\n",
            "Running Validation...\n",
            "  Accuracy: 0.20\n",
            "  Validation took: 0:00:04\n",
            "\n",
            "Training complete!\n",
            "\n"
          ]
        }
      ],
      "source": [
        "# 데이터로더에서 배치만큼 가져온 후 forward, backward pass를 수행\n",
        "# gradient update는 명시적으로 하지 않고 위에서 로드한 optimizer를 활용\n",
        "# 재현을 위해 랜덤시드 고정\n",
        "# 모든 Epoch를 학습하면 학습이 종료\n",
        "\n",
        "seed_val = 42\n",
        "random.seed(seed_val)\n",
        "np.random.seed(seed_val)\n",
        "torch.manual_seed(seed_val)\n",
        "torch.cuda.manual_seed_all(seed_val)\n",
        "\n",
        "# 그래디언트 초기화\n",
        "model.zero_grad()\n",
        "\n",
        "# 에폭만큼 반복\n",
        "for epoch_i in range(0, epochs):\n",
        "    \n",
        "    # ========================================\n",
        "    #               Training\n",
        "    # ========================================\n",
        "    \n",
        "    print(\"\")\n",
        "    print('======== Epoch {:} / {:} ========'.format(epoch_i + 1, epochs))\n",
        "    print('Training...')\n",
        "\n",
        "    # 시작 시간 설정\n",
        "    t0 = time.time()\n",
        "\n",
        "    # 로스 초기화\n",
        "    total_loss = 0\n",
        "\n",
        "    # 훈련모드로 변경\n",
        "    model.train()\n",
        "        \n",
        "    # 데이터로더에서 배치만큼 반복하여 가져옴\n",
        "    for step, batch in enumerate(train_dataloader):\n",
        "        # 경과 정보 표시\n",
        "        if step % 500 == 0 and not step == 0:\n",
        "            elapsed = format_time(time.time() - t0)\n",
        "            print('  Batch {:>5,}  of  {:>5,}.    Elapsed: {:}.'.format(step, len(train_dataloader), elapsed))\n",
        "\n",
        "        # 배치를 GPU에 넣음\n",
        "        batch = tuple(t.to(device) for t in batch)\n",
        "        \n",
        "        # 배치에서 데이터 추출\n",
        "        b_input_ids, b_input_mask, b_labels = batch\n",
        "\n",
        "        # Forward 수행                \n",
        "        outputs = model(b_input_ids, \n",
        "                        token_type_ids=None, \n",
        "                        attention_mask=b_input_mask, \n",
        "                        labels=b_labels)\n",
        "        \n",
        "        # 로스 구함\n",
        "        loss = outputs[0]\n",
        "\n",
        "        # 총 로스 계산\n",
        "        total_loss += loss.item()\n",
        "\n",
        "        # Backward 수행으로 그래디언트 계산\n",
        "        loss.backward()\n",
        "\n",
        "        # 그래디언트 클리핑\n",
        "        torch.nn.utils.clip_grad_norm_(model.parameters(), 1.0)\n",
        "\n",
        "        # 그래디언트를 통해 가중치 파라미터 업데이트\n",
        "        optimizer.step()\n",
        "\n",
        "        # 스케줄러로 학습률 감소\n",
        "        scheduler.step()\n",
        "\n",
        "        # 그래디언트 초기화\n",
        "        model.zero_grad()\n",
        "\n",
        "    # 평균 로스 계산\n",
        "    avg_train_loss = total_loss / len(train_dataloader)            \n",
        "\n",
        "    print(\"\")\n",
        "    print(\"  Average training loss: {0:.2f}\".format(avg_train_loss))\n",
        "    print(\"  Training epcoh took: {:}\".format(format_time(time.time() - t0)))\n",
        "        \n",
        "    # ========================================\n",
        "    #               Validation\n",
        "    # ========================================\n",
        "\n",
        "    print(\"\")\n",
        "    print(\"Running Validation...\")\n",
        "\n",
        "    #시작 시간 설정\n",
        "    t0 = time.time()\n",
        "\n",
        "    # 평가모드로 변경\n",
        "    model.eval()\n",
        "\n",
        "    # 변수 초기화\n",
        "    eval_loss, eval_accuracy = 0, 0\n",
        "    nb_eval_steps, nb_eval_examples = 0, 0\n",
        "\n",
        "    # 데이터로더에서 배치만큼 반복하여 가져옴\n",
        "    for batch in validation_dataloader:\n",
        "        # 배치를 GPU에 넣음\n",
        "        batch = tuple(t.to(device) for t in batch)\n",
        "        \n",
        "        # 배치에서 데이터 추출\n",
        "        b_input_ids, b_input_mask, b_labels = batch\n",
        "        \n",
        "        # 그래디언트 계산 안함\n",
        "        with torch.no_grad():     \n",
        "            # Forward 수행\n",
        "            outputs = model(b_input_ids, \n",
        "                            token_type_ids=None, \n",
        "                            attention_mask=b_input_mask)\n",
        "        \n",
        "        # 로스 구함\n",
        "        logits = outputs[0]\n",
        "\n",
        "        # CPU로 데이터 이동\n",
        "        logits = logits.detach().cpu().numpy()\n",
        "        label_ids = b_labels.to('cpu').numpy()\n",
        "        \n",
        "        # 출력 로짓과 라벨을 비교하여 정확도 계산\n",
        "        tmp_eval_accuracy = flat_accuracy(logits, label_ids)\n",
        "        eval_accuracy += tmp_eval_accuracy\n",
        "        nb_eval_steps += 1\n",
        "\n",
        "    print(\"  Accuracy: {0:.2f}\".format(eval_accuracy/nb_eval_steps))\n",
        "    print(\"  Validation took: {:}\".format(format_time(time.time() - t0)))\n",
        "\n",
        "print(\"\")\n",
        "print(\"Training complete!\")\n",
        "print(\"\")"
      ]
    },
    {
      "cell_type": "code",
      "execution_count": 63,
      "metadata": {
        "colab": {
          "base_uri": "https://localhost:8080/"
        },
        "id": "KpRlCwcXEtU2",
        "outputId": "d20b9ff7-96e9-4452-83f5-b05105a04bec"
      },
      "outputs": [
        {
          "output_type": "stream",
          "name": "stdout",
          "text": [
            "test start\n",
            "\n",
            "Accuracy: 0.18\n",
            "Test took: 0:00:10\n",
            "test finished!\n"
          ]
        }
      ],
      "source": [
        "print('test start')\n",
        "#시작 시간 설정\n",
        "t0 = time.time()\n",
        "\n",
        "# 평가모드로 변경\n",
        "model.eval()\n",
        "\n",
        "# 변수 초기화\n",
        "eval_loss, eval_accuracy = 0, 0\n",
        "nb_eval_steps, nb_eval_examples = 0, 0\n",
        "\n",
        "# 데이터로더에서 배치만큼 반복하여 가져옴\n",
        "for step, batch in enumerate(test_dataloader):\n",
        "    # 경과 정보 표시\n",
        "    if step % 100 == 0 and not step == 0:\n",
        "        elapsed = format_time(time.time() - t0)\n",
        "        print('  Batch {:>5,}  of  {:>5,}.    Elapsed: {:}.'.format(step, len(test_dataloader), elapsed))\n",
        "\n",
        "    # 배치를 GPU에 넣음\n",
        "    batch = tuple(t.to(device) for t in batch)\n",
        "    \n",
        "    # 배치에서 데이터 추출\n",
        "    b_input_ids, b_input_mask, b_labels = batch\n",
        "    \n",
        "    # 그래디언트 계산 안함\n",
        "    with torch.no_grad():     \n",
        "        # Forward 수행\n",
        "        outputs = model(b_input_ids, \n",
        "                        token_type_ids=None, \n",
        "                        attention_mask=b_input_mask)\n",
        "    \n",
        "    # 로스 구함\n",
        "    logits = outputs[0]\n",
        "\n",
        "    # CPU로 데이터 이동\n",
        "    logits = logits.detach().cpu().numpy()\n",
        "    label_ids = b_labels.to('cpu').numpy()\n",
        "    \n",
        "    # 출력 로짓과 라벨을 비교하여 정확도 계산\n",
        "    tmp_eval_accuracy = flat_accuracy(logits, label_ids)\n",
        "    eval_accuracy += tmp_eval_accuracy\n",
        "    nb_eval_steps += 1\n",
        "\n",
        "print(\"\")\n",
        "print(\"Accuracy: {0:.2f}\".format(eval_accuracy/nb_eval_steps))\n",
        "print(\"Test took: {:}\".format(format_time(time.time() - t0)))\n",
        "print(\"test finished!\")"
      ]
    },
    {
      "cell_type": "code",
      "execution_count": null,
      "metadata": {
        "id": "y7wS1MLoE8Vd"
      },
      "outputs": [],
      "source": []
    }
  ],
  "metadata": {
    "accelerator": "GPU",
    "colab": {
      "machine_shape": "hm",
      "provenance": [],
      "authorship_tag": "ABX9TyO1LJrVe8OnnTMs9LINk1iM",
      "include_colab_link": true
    },
    "gpuClass": "standard",
    "kernelspec": {
      "display_name": "Python 3",
      "name": "python3"
    },
    "language_info": {
      "name": "python"
    },
    "widgets": {
      "application/vnd.jupyter.widget-state+json": {
        "3acc647d0c174a7199056d011a17e294": {
          "model_module": "@jupyter-widgets/controls",
          "model_name": "HBoxModel",
          "model_module_version": "1.5.0",
          "state": {
            "_dom_classes": [],
            "_model_module": "@jupyter-widgets/controls",
            "_model_module_version": "1.5.0",
            "_model_name": "HBoxModel",
            "_view_count": null,
            "_view_module": "@jupyter-widgets/controls",
            "_view_module_version": "1.5.0",
            "_view_name": "HBoxView",
            "box_style": "",
            "children": [
              "IPY_MODEL_432615f180a24a98a569ceb300449c87",
              "IPY_MODEL_82a9e5dc1251436bafeadff9a95c5d00",
              "IPY_MODEL_f57f57a161c74d06bfaed93dd76b073b"
            ],
            "layout": "IPY_MODEL_707f2b576fb54e9db903cf494d94dccb"
          }
        },
        "432615f180a24a98a569ceb300449c87": {
          "model_module": "@jupyter-widgets/controls",
          "model_name": "HTMLModel",
          "model_module_version": "1.5.0",
          "state": {
            "_dom_classes": [],
            "_model_module": "@jupyter-widgets/controls",
            "_model_module_version": "1.5.0",
            "_model_name": "HTMLModel",
            "_view_count": null,
            "_view_module": "@jupyter-widgets/controls",
            "_view_module_version": "1.5.0",
            "_view_name": "HTMLView",
            "description": "",
            "description_tooltip": null,
            "layout": "IPY_MODEL_dffc288294df4355be5c73fd7e97ab01",
            "placeholder": "​",
            "style": "IPY_MODEL_2cdc080336c44629b97ecadb3ba75e6e",
            "value": "Downloading (…)solve/main/vocab.txt: 100%"
          }
        },
        "82a9e5dc1251436bafeadff9a95c5d00": {
          "model_module": "@jupyter-widgets/controls",
          "model_name": "FloatProgressModel",
          "model_module_version": "1.5.0",
          "state": {
            "_dom_classes": [],
            "_model_module": "@jupyter-widgets/controls",
            "_model_module_version": "1.5.0",
            "_model_name": "FloatProgressModel",
            "_view_count": null,
            "_view_module": "@jupyter-widgets/controls",
            "_view_module_version": "1.5.0",
            "_view_name": "ProgressView",
            "bar_style": "success",
            "description": "",
            "description_tooltip": null,
            "layout": "IPY_MODEL_1acfdfa6ea73462e91faedf9e5bd5629",
            "max": 995526,
            "min": 0,
            "orientation": "horizontal",
            "style": "IPY_MODEL_13e9ae6476094814b413f872bae33d97",
            "value": 995526
          }
        },
        "f57f57a161c74d06bfaed93dd76b073b": {
          "model_module": "@jupyter-widgets/controls",
          "model_name": "HTMLModel",
          "model_module_version": "1.5.0",
          "state": {
            "_dom_classes": [],
            "_model_module": "@jupyter-widgets/controls",
            "_model_module_version": "1.5.0",
            "_model_name": "HTMLModel",
            "_view_count": null,
            "_view_module": "@jupyter-widgets/controls",
            "_view_module_version": "1.5.0",
            "_view_name": "HTMLView",
            "description": "",
            "description_tooltip": null,
            "layout": "IPY_MODEL_c8e58fbc4db3439dba1c9db68f33ee1f",
            "placeholder": "​",
            "style": "IPY_MODEL_0140a74a4e04466fa6d9b462df7f9872",
            "value": " 996k/996k [00:00&lt;00:00, 38.6MB/s]"
          }
        },
        "707f2b576fb54e9db903cf494d94dccb": {
          "model_module": "@jupyter-widgets/base",
          "model_name": "LayoutModel",
          "model_module_version": "1.2.0",
          "state": {
            "_model_module": "@jupyter-widgets/base",
            "_model_module_version": "1.2.0",
            "_model_name": "LayoutModel",
            "_view_count": null,
            "_view_module": "@jupyter-widgets/base",
            "_view_module_version": "1.2.0",
            "_view_name": "LayoutView",
            "align_content": null,
            "align_items": null,
            "align_self": null,
            "border": null,
            "bottom": null,
            "display": null,
            "flex": null,
            "flex_flow": null,
            "grid_area": null,
            "grid_auto_columns": null,
            "grid_auto_flow": null,
            "grid_auto_rows": null,
            "grid_column": null,
            "grid_gap": null,
            "grid_row": null,
            "grid_template_areas": null,
            "grid_template_columns": null,
            "grid_template_rows": null,
            "height": null,
            "justify_content": null,
            "justify_items": null,
            "left": null,
            "margin": null,
            "max_height": null,
            "max_width": null,
            "min_height": null,
            "min_width": null,
            "object_fit": null,
            "object_position": null,
            "order": null,
            "overflow": null,
            "overflow_x": null,
            "overflow_y": null,
            "padding": null,
            "right": null,
            "top": null,
            "visibility": null,
            "width": null
          }
        },
        "dffc288294df4355be5c73fd7e97ab01": {
          "model_module": "@jupyter-widgets/base",
          "model_name": "LayoutModel",
          "model_module_version": "1.2.0",
          "state": {
            "_model_module": "@jupyter-widgets/base",
            "_model_module_version": "1.2.0",
            "_model_name": "LayoutModel",
            "_view_count": null,
            "_view_module": "@jupyter-widgets/base",
            "_view_module_version": "1.2.0",
            "_view_name": "LayoutView",
            "align_content": null,
            "align_items": null,
            "align_self": null,
            "border": null,
            "bottom": null,
            "display": null,
            "flex": null,
            "flex_flow": null,
            "grid_area": null,
            "grid_auto_columns": null,
            "grid_auto_flow": null,
            "grid_auto_rows": null,
            "grid_column": null,
            "grid_gap": null,
            "grid_row": null,
            "grid_template_areas": null,
            "grid_template_columns": null,
            "grid_template_rows": null,
            "height": null,
            "justify_content": null,
            "justify_items": null,
            "left": null,
            "margin": null,
            "max_height": null,
            "max_width": null,
            "min_height": null,
            "min_width": null,
            "object_fit": null,
            "object_position": null,
            "order": null,
            "overflow": null,
            "overflow_x": null,
            "overflow_y": null,
            "padding": null,
            "right": null,
            "top": null,
            "visibility": null,
            "width": null
          }
        },
        "2cdc080336c44629b97ecadb3ba75e6e": {
          "model_module": "@jupyter-widgets/controls",
          "model_name": "DescriptionStyleModel",
          "model_module_version": "1.5.0",
          "state": {
            "_model_module": "@jupyter-widgets/controls",
            "_model_module_version": "1.5.0",
            "_model_name": "DescriptionStyleModel",
            "_view_count": null,
            "_view_module": "@jupyter-widgets/base",
            "_view_module_version": "1.2.0",
            "_view_name": "StyleView",
            "description_width": ""
          }
        },
        "1acfdfa6ea73462e91faedf9e5bd5629": {
          "model_module": "@jupyter-widgets/base",
          "model_name": "LayoutModel",
          "model_module_version": "1.2.0",
          "state": {
            "_model_module": "@jupyter-widgets/base",
            "_model_module_version": "1.2.0",
            "_model_name": "LayoutModel",
            "_view_count": null,
            "_view_module": "@jupyter-widgets/base",
            "_view_module_version": "1.2.0",
            "_view_name": "LayoutView",
            "align_content": null,
            "align_items": null,
            "align_self": null,
            "border": null,
            "bottom": null,
            "display": null,
            "flex": null,
            "flex_flow": null,
            "grid_area": null,
            "grid_auto_columns": null,
            "grid_auto_flow": null,
            "grid_auto_rows": null,
            "grid_column": null,
            "grid_gap": null,
            "grid_row": null,
            "grid_template_areas": null,
            "grid_template_columns": null,
            "grid_template_rows": null,
            "height": null,
            "justify_content": null,
            "justify_items": null,
            "left": null,
            "margin": null,
            "max_height": null,
            "max_width": null,
            "min_height": null,
            "min_width": null,
            "object_fit": null,
            "object_position": null,
            "order": null,
            "overflow": null,
            "overflow_x": null,
            "overflow_y": null,
            "padding": null,
            "right": null,
            "top": null,
            "visibility": null,
            "width": null
          }
        },
        "13e9ae6476094814b413f872bae33d97": {
          "model_module": "@jupyter-widgets/controls",
          "model_name": "ProgressStyleModel",
          "model_module_version": "1.5.0",
          "state": {
            "_model_module": "@jupyter-widgets/controls",
            "_model_module_version": "1.5.0",
            "_model_name": "ProgressStyleModel",
            "_view_count": null,
            "_view_module": "@jupyter-widgets/base",
            "_view_module_version": "1.2.0",
            "_view_name": "StyleView",
            "bar_color": null,
            "description_width": ""
          }
        },
        "c8e58fbc4db3439dba1c9db68f33ee1f": {
          "model_module": "@jupyter-widgets/base",
          "model_name": "LayoutModel",
          "model_module_version": "1.2.0",
          "state": {
            "_model_module": "@jupyter-widgets/base",
            "_model_module_version": "1.2.0",
            "_model_name": "LayoutModel",
            "_view_count": null,
            "_view_module": "@jupyter-widgets/base",
            "_view_module_version": "1.2.0",
            "_view_name": "LayoutView",
            "align_content": null,
            "align_items": null,
            "align_self": null,
            "border": null,
            "bottom": null,
            "display": null,
            "flex": null,
            "flex_flow": null,
            "grid_area": null,
            "grid_auto_columns": null,
            "grid_auto_flow": null,
            "grid_auto_rows": null,
            "grid_column": null,
            "grid_gap": null,
            "grid_row": null,
            "grid_template_areas": null,
            "grid_template_columns": null,
            "grid_template_rows": null,
            "height": null,
            "justify_content": null,
            "justify_items": null,
            "left": null,
            "margin": null,
            "max_height": null,
            "max_width": null,
            "min_height": null,
            "min_width": null,
            "object_fit": null,
            "object_position": null,
            "order": null,
            "overflow": null,
            "overflow_x": null,
            "overflow_y": null,
            "padding": null,
            "right": null,
            "top": null,
            "visibility": null,
            "width": null
          }
        },
        "0140a74a4e04466fa6d9b462df7f9872": {
          "model_module": "@jupyter-widgets/controls",
          "model_name": "DescriptionStyleModel",
          "model_module_version": "1.5.0",
          "state": {
            "_model_module": "@jupyter-widgets/controls",
            "_model_module_version": "1.5.0",
            "_model_name": "DescriptionStyleModel",
            "_view_count": null,
            "_view_module": "@jupyter-widgets/base",
            "_view_module_version": "1.2.0",
            "_view_name": "StyleView",
            "description_width": ""
          }
        },
        "b1a989e7bf434180a4b80b7fe199f15f": {
          "model_module": "@jupyter-widgets/controls",
          "model_name": "HBoxModel",
          "model_module_version": "1.5.0",
          "state": {
            "_dom_classes": [],
            "_model_module": "@jupyter-widgets/controls",
            "_model_module_version": "1.5.0",
            "_model_name": "HBoxModel",
            "_view_count": null,
            "_view_module": "@jupyter-widgets/controls",
            "_view_module_version": "1.5.0",
            "_view_name": "HBoxView",
            "box_style": "",
            "children": [
              "IPY_MODEL_e4e61c3a146b4d3aa57acef2c8be07e1",
              "IPY_MODEL_abe279038d7f466d8c509b72c497246c",
              "IPY_MODEL_9d8bca81c92f4c06b71c2ecdfbb308e9"
            ],
            "layout": "IPY_MODEL_e2cc7c52bfbe4aa8983e7416e6b28c1b"
          }
        },
        "e4e61c3a146b4d3aa57acef2c8be07e1": {
          "model_module": "@jupyter-widgets/controls",
          "model_name": "HTMLModel",
          "model_module_version": "1.5.0",
          "state": {
            "_dom_classes": [],
            "_model_module": "@jupyter-widgets/controls",
            "_model_module_version": "1.5.0",
            "_model_name": "HTMLModel",
            "_view_count": null,
            "_view_module": "@jupyter-widgets/controls",
            "_view_module_version": "1.5.0",
            "_view_name": "HTMLView",
            "description": "",
            "description_tooltip": null,
            "layout": "IPY_MODEL_eb580a2bf3224d379d6760d01eca00dd",
            "placeholder": "​",
            "style": "IPY_MODEL_d399d46bb2204684990ee1803010a0b7",
            "value": "Downloading (…)okenizer_config.json: 100%"
          }
        },
        "abe279038d7f466d8c509b72c497246c": {
          "model_module": "@jupyter-widgets/controls",
          "model_name": "FloatProgressModel",
          "model_module_version": "1.5.0",
          "state": {
            "_dom_classes": [],
            "_model_module": "@jupyter-widgets/controls",
            "_model_module_version": "1.5.0",
            "_model_name": "FloatProgressModel",
            "_view_count": null,
            "_view_module": "@jupyter-widgets/controls",
            "_view_module_version": "1.5.0",
            "_view_name": "ProgressView",
            "bar_style": "success",
            "description": "",
            "description_tooltip": null,
            "layout": "IPY_MODEL_45bb89c044bc47148e776f54c38a46c7",
            "max": 29,
            "min": 0,
            "orientation": "horizontal",
            "style": "IPY_MODEL_6f275674254347ecb77075092cbbb193",
            "value": 29
          }
        },
        "9d8bca81c92f4c06b71c2ecdfbb308e9": {
          "model_module": "@jupyter-widgets/controls",
          "model_name": "HTMLModel",
          "model_module_version": "1.5.0",
          "state": {
            "_dom_classes": [],
            "_model_module": "@jupyter-widgets/controls",
            "_model_module_version": "1.5.0",
            "_model_name": "HTMLModel",
            "_view_count": null,
            "_view_module": "@jupyter-widgets/controls",
            "_view_module_version": "1.5.0",
            "_view_name": "HTMLView",
            "description": "",
            "description_tooltip": null,
            "layout": "IPY_MODEL_1bf0c61bc08c4e61a42190022c8eac53",
            "placeholder": "​",
            "style": "IPY_MODEL_2d9be6458e5c43d795a0dc73ab3639da",
            "value": " 29.0/29.0 [00:00&lt;00:00, 2.79kB/s]"
          }
        },
        "e2cc7c52bfbe4aa8983e7416e6b28c1b": {
          "model_module": "@jupyter-widgets/base",
          "model_name": "LayoutModel",
          "model_module_version": "1.2.0",
          "state": {
            "_model_module": "@jupyter-widgets/base",
            "_model_module_version": "1.2.0",
            "_model_name": "LayoutModel",
            "_view_count": null,
            "_view_module": "@jupyter-widgets/base",
            "_view_module_version": "1.2.0",
            "_view_name": "LayoutView",
            "align_content": null,
            "align_items": null,
            "align_self": null,
            "border": null,
            "bottom": null,
            "display": null,
            "flex": null,
            "flex_flow": null,
            "grid_area": null,
            "grid_auto_columns": null,
            "grid_auto_flow": null,
            "grid_auto_rows": null,
            "grid_column": null,
            "grid_gap": null,
            "grid_row": null,
            "grid_template_areas": null,
            "grid_template_columns": null,
            "grid_template_rows": null,
            "height": null,
            "justify_content": null,
            "justify_items": null,
            "left": null,
            "margin": null,
            "max_height": null,
            "max_width": null,
            "min_height": null,
            "min_width": null,
            "object_fit": null,
            "object_position": null,
            "order": null,
            "overflow": null,
            "overflow_x": null,
            "overflow_y": null,
            "padding": null,
            "right": null,
            "top": null,
            "visibility": null,
            "width": null
          }
        },
        "eb580a2bf3224d379d6760d01eca00dd": {
          "model_module": "@jupyter-widgets/base",
          "model_name": "LayoutModel",
          "model_module_version": "1.2.0",
          "state": {
            "_model_module": "@jupyter-widgets/base",
            "_model_module_version": "1.2.0",
            "_model_name": "LayoutModel",
            "_view_count": null,
            "_view_module": "@jupyter-widgets/base",
            "_view_module_version": "1.2.0",
            "_view_name": "LayoutView",
            "align_content": null,
            "align_items": null,
            "align_self": null,
            "border": null,
            "bottom": null,
            "display": null,
            "flex": null,
            "flex_flow": null,
            "grid_area": null,
            "grid_auto_columns": null,
            "grid_auto_flow": null,
            "grid_auto_rows": null,
            "grid_column": null,
            "grid_gap": null,
            "grid_row": null,
            "grid_template_areas": null,
            "grid_template_columns": null,
            "grid_template_rows": null,
            "height": null,
            "justify_content": null,
            "justify_items": null,
            "left": null,
            "margin": null,
            "max_height": null,
            "max_width": null,
            "min_height": null,
            "min_width": null,
            "object_fit": null,
            "object_position": null,
            "order": null,
            "overflow": null,
            "overflow_x": null,
            "overflow_y": null,
            "padding": null,
            "right": null,
            "top": null,
            "visibility": null,
            "width": null
          }
        },
        "d399d46bb2204684990ee1803010a0b7": {
          "model_module": "@jupyter-widgets/controls",
          "model_name": "DescriptionStyleModel",
          "model_module_version": "1.5.0",
          "state": {
            "_model_module": "@jupyter-widgets/controls",
            "_model_module_version": "1.5.0",
            "_model_name": "DescriptionStyleModel",
            "_view_count": null,
            "_view_module": "@jupyter-widgets/base",
            "_view_module_version": "1.2.0",
            "_view_name": "StyleView",
            "description_width": ""
          }
        },
        "45bb89c044bc47148e776f54c38a46c7": {
          "model_module": "@jupyter-widgets/base",
          "model_name": "LayoutModel",
          "model_module_version": "1.2.0",
          "state": {
            "_model_module": "@jupyter-widgets/base",
            "_model_module_version": "1.2.0",
            "_model_name": "LayoutModel",
            "_view_count": null,
            "_view_module": "@jupyter-widgets/base",
            "_view_module_version": "1.2.0",
            "_view_name": "LayoutView",
            "align_content": null,
            "align_items": null,
            "align_self": null,
            "border": null,
            "bottom": null,
            "display": null,
            "flex": null,
            "flex_flow": null,
            "grid_area": null,
            "grid_auto_columns": null,
            "grid_auto_flow": null,
            "grid_auto_rows": null,
            "grid_column": null,
            "grid_gap": null,
            "grid_row": null,
            "grid_template_areas": null,
            "grid_template_columns": null,
            "grid_template_rows": null,
            "height": null,
            "justify_content": null,
            "justify_items": null,
            "left": null,
            "margin": null,
            "max_height": null,
            "max_width": null,
            "min_height": null,
            "min_width": null,
            "object_fit": null,
            "object_position": null,
            "order": null,
            "overflow": null,
            "overflow_x": null,
            "overflow_y": null,
            "padding": null,
            "right": null,
            "top": null,
            "visibility": null,
            "width": null
          }
        },
        "6f275674254347ecb77075092cbbb193": {
          "model_module": "@jupyter-widgets/controls",
          "model_name": "ProgressStyleModel",
          "model_module_version": "1.5.0",
          "state": {
            "_model_module": "@jupyter-widgets/controls",
            "_model_module_version": "1.5.0",
            "_model_name": "ProgressStyleModel",
            "_view_count": null,
            "_view_module": "@jupyter-widgets/base",
            "_view_module_version": "1.2.0",
            "_view_name": "StyleView",
            "bar_color": null,
            "description_width": ""
          }
        },
        "1bf0c61bc08c4e61a42190022c8eac53": {
          "model_module": "@jupyter-widgets/base",
          "model_name": "LayoutModel",
          "model_module_version": "1.2.0",
          "state": {
            "_model_module": "@jupyter-widgets/base",
            "_model_module_version": "1.2.0",
            "_model_name": "LayoutModel",
            "_view_count": null,
            "_view_module": "@jupyter-widgets/base",
            "_view_module_version": "1.2.0",
            "_view_name": "LayoutView",
            "align_content": null,
            "align_items": null,
            "align_self": null,
            "border": null,
            "bottom": null,
            "display": null,
            "flex": null,
            "flex_flow": null,
            "grid_area": null,
            "grid_auto_columns": null,
            "grid_auto_flow": null,
            "grid_auto_rows": null,
            "grid_column": null,
            "grid_gap": null,
            "grid_row": null,
            "grid_template_areas": null,
            "grid_template_columns": null,
            "grid_template_rows": null,
            "height": null,
            "justify_content": null,
            "justify_items": null,
            "left": null,
            "margin": null,
            "max_height": null,
            "max_width": null,
            "min_height": null,
            "min_width": null,
            "object_fit": null,
            "object_position": null,
            "order": null,
            "overflow": null,
            "overflow_x": null,
            "overflow_y": null,
            "padding": null,
            "right": null,
            "top": null,
            "visibility": null,
            "width": null
          }
        },
        "2d9be6458e5c43d795a0dc73ab3639da": {
          "model_module": "@jupyter-widgets/controls",
          "model_name": "DescriptionStyleModel",
          "model_module_version": "1.5.0",
          "state": {
            "_model_module": "@jupyter-widgets/controls",
            "_model_module_version": "1.5.0",
            "_model_name": "DescriptionStyleModel",
            "_view_count": null,
            "_view_module": "@jupyter-widgets/base",
            "_view_module_version": "1.2.0",
            "_view_name": "StyleView",
            "description_width": ""
          }
        },
        "e2a11f822a7e4faa95f9b8bed4730273": {
          "model_module": "@jupyter-widgets/controls",
          "model_name": "HBoxModel",
          "model_module_version": "1.5.0",
          "state": {
            "_dom_classes": [],
            "_model_module": "@jupyter-widgets/controls",
            "_model_module_version": "1.5.0",
            "_model_name": "HBoxModel",
            "_view_count": null,
            "_view_module": "@jupyter-widgets/controls",
            "_view_module_version": "1.5.0",
            "_view_name": "HBoxView",
            "box_style": "",
            "children": [
              "IPY_MODEL_0ec3dfc6cd9e400ca0fe23885616b41a",
              "IPY_MODEL_208c1ed455e241e1991d53b205f857d0",
              "IPY_MODEL_68cacd5a55864f74a710365fbbc93c19"
            ],
            "layout": "IPY_MODEL_e238b52a77d9436f95f0031f9df3febf"
          }
        },
        "0ec3dfc6cd9e400ca0fe23885616b41a": {
          "model_module": "@jupyter-widgets/controls",
          "model_name": "HTMLModel",
          "model_module_version": "1.5.0",
          "state": {
            "_dom_classes": [],
            "_model_module": "@jupyter-widgets/controls",
            "_model_module_version": "1.5.0",
            "_model_name": "HTMLModel",
            "_view_count": null,
            "_view_module": "@jupyter-widgets/controls",
            "_view_module_version": "1.5.0",
            "_view_name": "HTMLView",
            "description": "",
            "description_tooltip": null,
            "layout": "IPY_MODEL_7c3ffda86e1c4c15b85fbfabbe326d5b",
            "placeholder": "​",
            "style": "IPY_MODEL_b8a91b6f883e4faca03c2bbadd0a16ea",
            "value": "Downloading (…)lve/main/config.json: 100%"
          }
        },
        "208c1ed455e241e1991d53b205f857d0": {
          "model_module": "@jupyter-widgets/controls",
          "model_name": "FloatProgressModel",
          "model_module_version": "1.5.0",
          "state": {
            "_dom_classes": [],
            "_model_module": "@jupyter-widgets/controls",
            "_model_module_version": "1.5.0",
            "_model_name": "FloatProgressModel",
            "_view_count": null,
            "_view_module": "@jupyter-widgets/controls",
            "_view_module_version": "1.5.0",
            "_view_name": "ProgressView",
            "bar_style": "success",
            "description": "",
            "description_tooltip": null,
            "layout": "IPY_MODEL_9f5ee65070784b12afb67dac8a35e02c",
            "max": 625,
            "min": 0,
            "orientation": "horizontal",
            "style": "IPY_MODEL_5fc418c1292a4e95976b36019179ad28",
            "value": 625
          }
        },
        "68cacd5a55864f74a710365fbbc93c19": {
          "model_module": "@jupyter-widgets/controls",
          "model_name": "HTMLModel",
          "model_module_version": "1.5.0",
          "state": {
            "_dom_classes": [],
            "_model_module": "@jupyter-widgets/controls",
            "_model_module_version": "1.5.0",
            "_model_name": "HTMLModel",
            "_view_count": null,
            "_view_module": "@jupyter-widgets/controls",
            "_view_module_version": "1.5.0",
            "_view_name": "HTMLView",
            "description": "",
            "description_tooltip": null,
            "layout": "IPY_MODEL_1e0e009c28164cffafa9a02c64a7396b",
            "placeholder": "​",
            "style": "IPY_MODEL_3bf1ab1d3c3a43a082dddf2f9c641dd8",
            "value": " 625/625 [00:00&lt;00:00, 50.1kB/s]"
          }
        },
        "e238b52a77d9436f95f0031f9df3febf": {
          "model_module": "@jupyter-widgets/base",
          "model_name": "LayoutModel",
          "model_module_version": "1.2.0",
          "state": {
            "_model_module": "@jupyter-widgets/base",
            "_model_module_version": "1.2.0",
            "_model_name": "LayoutModel",
            "_view_count": null,
            "_view_module": "@jupyter-widgets/base",
            "_view_module_version": "1.2.0",
            "_view_name": "LayoutView",
            "align_content": null,
            "align_items": null,
            "align_self": null,
            "border": null,
            "bottom": null,
            "display": null,
            "flex": null,
            "flex_flow": null,
            "grid_area": null,
            "grid_auto_columns": null,
            "grid_auto_flow": null,
            "grid_auto_rows": null,
            "grid_column": null,
            "grid_gap": null,
            "grid_row": null,
            "grid_template_areas": null,
            "grid_template_columns": null,
            "grid_template_rows": null,
            "height": null,
            "justify_content": null,
            "justify_items": null,
            "left": null,
            "margin": null,
            "max_height": null,
            "max_width": null,
            "min_height": null,
            "min_width": null,
            "object_fit": null,
            "object_position": null,
            "order": null,
            "overflow": null,
            "overflow_x": null,
            "overflow_y": null,
            "padding": null,
            "right": null,
            "top": null,
            "visibility": null,
            "width": null
          }
        },
        "7c3ffda86e1c4c15b85fbfabbe326d5b": {
          "model_module": "@jupyter-widgets/base",
          "model_name": "LayoutModel",
          "model_module_version": "1.2.0",
          "state": {
            "_model_module": "@jupyter-widgets/base",
            "_model_module_version": "1.2.0",
            "_model_name": "LayoutModel",
            "_view_count": null,
            "_view_module": "@jupyter-widgets/base",
            "_view_module_version": "1.2.0",
            "_view_name": "LayoutView",
            "align_content": null,
            "align_items": null,
            "align_self": null,
            "border": null,
            "bottom": null,
            "display": null,
            "flex": null,
            "flex_flow": null,
            "grid_area": null,
            "grid_auto_columns": null,
            "grid_auto_flow": null,
            "grid_auto_rows": null,
            "grid_column": null,
            "grid_gap": null,
            "grid_row": null,
            "grid_template_areas": null,
            "grid_template_columns": null,
            "grid_template_rows": null,
            "height": null,
            "justify_content": null,
            "justify_items": null,
            "left": null,
            "margin": null,
            "max_height": null,
            "max_width": null,
            "min_height": null,
            "min_width": null,
            "object_fit": null,
            "object_position": null,
            "order": null,
            "overflow": null,
            "overflow_x": null,
            "overflow_y": null,
            "padding": null,
            "right": null,
            "top": null,
            "visibility": null,
            "width": null
          }
        },
        "b8a91b6f883e4faca03c2bbadd0a16ea": {
          "model_module": "@jupyter-widgets/controls",
          "model_name": "DescriptionStyleModel",
          "model_module_version": "1.5.0",
          "state": {
            "_model_module": "@jupyter-widgets/controls",
            "_model_module_version": "1.5.0",
            "_model_name": "DescriptionStyleModel",
            "_view_count": null,
            "_view_module": "@jupyter-widgets/base",
            "_view_module_version": "1.2.0",
            "_view_name": "StyleView",
            "description_width": ""
          }
        },
        "9f5ee65070784b12afb67dac8a35e02c": {
          "model_module": "@jupyter-widgets/base",
          "model_name": "LayoutModel",
          "model_module_version": "1.2.0",
          "state": {
            "_model_module": "@jupyter-widgets/base",
            "_model_module_version": "1.2.0",
            "_model_name": "LayoutModel",
            "_view_count": null,
            "_view_module": "@jupyter-widgets/base",
            "_view_module_version": "1.2.0",
            "_view_name": "LayoutView",
            "align_content": null,
            "align_items": null,
            "align_self": null,
            "border": null,
            "bottom": null,
            "display": null,
            "flex": null,
            "flex_flow": null,
            "grid_area": null,
            "grid_auto_columns": null,
            "grid_auto_flow": null,
            "grid_auto_rows": null,
            "grid_column": null,
            "grid_gap": null,
            "grid_row": null,
            "grid_template_areas": null,
            "grid_template_columns": null,
            "grid_template_rows": null,
            "height": null,
            "justify_content": null,
            "justify_items": null,
            "left": null,
            "margin": null,
            "max_height": null,
            "max_width": null,
            "min_height": null,
            "min_width": null,
            "object_fit": null,
            "object_position": null,
            "order": null,
            "overflow": null,
            "overflow_x": null,
            "overflow_y": null,
            "padding": null,
            "right": null,
            "top": null,
            "visibility": null,
            "width": null
          }
        },
        "5fc418c1292a4e95976b36019179ad28": {
          "model_module": "@jupyter-widgets/controls",
          "model_name": "ProgressStyleModel",
          "model_module_version": "1.5.0",
          "state": {
            "_model_module": "@jupyter-widgets/controls",
            "_model_module_version": "1.5.0",
            "_model_name": "ProgressStyleModel",
            "_view_count": null,
            "_view_module": "@jupyter-widgets/base",
            "_view_module_version": "1.2.0",
            "_view_name": "StyleView",
            "bar_color": null,
            "description_width": ""
          }
        },
        "1e0e009c28164cffafa9a02c64a7396b": {
          "model_module": "@jupyter-widgets/base",
          "model_name": "LayoutModel",
          "model_module_version": "1.2.0",
          "state": {
            "_model_module": "@jupyter-widgets/base",
            "_model_module_version": "1.2.0",
            "_model_name": "LayoutModel",
            "_view_count": null,
            "_view_module": "@jupyter-widgets/base",
            "_view_module_version": "1.2.0",
            "_view_name": "LayoutView",
            "align_content": null,
            "align_items": null,
            "align_self": null,
            "border": null,
            "bottom": null,
            "display": null,
            "flex": null,
            "flex_flow": null,
            "grid_area": null,
            "grid_auto_columns": null,
            "grid_auto_flow": null,
            "grid_auto_rows": null,
            "grid_column": null,
            "grid_gap": null,
            "grid_row": null,
            "grid_template_areas": null,
            "grid_template_columns": null,
            "grid_template_rows": null,
            "height": null,
            "justify_content": null,
            "justify_items": null,
            "left": null,
            "margin": null,
            "max_height": null,
            "max_width": null,
            "min_height": null,
            "min_width": null,
            "object_fit": null,
            "object_position": null,
            "order": null,
            "overflow": null,
            "overflow_x": null,
            "overflow_y": null,
            "padding": null,
            "right": null,
            "top": null,
            "visibility": null,
            "width": null
          }
        },
        "3bf1ab1d3c3a43a082dddf2f9c641dd8": {
          "model_module": "@jupyter-widgets/controls",
          "model_name": "DescriptionStyleModel",
          "model_module_version": "1.5.0",
          "state": {
            "_model_module": "@jupyter-widgets/controls",
            "_model_module_version": "1.5.0",
            "_model_name": "DescriptionStyleModel",
            "_view_count": null,
            "_view_module": "@jupyter-widgets/base",
            "_view_module_version": "1.2.0",
            "_view_name": "StyleView",
            "description_width": ""
          }
        }
      }
    }
  },
  "nbformat": 4,
  "nbformat_minor": 0
}